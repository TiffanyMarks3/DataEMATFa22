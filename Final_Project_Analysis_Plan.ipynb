{
 "cells": [
  {
   "cell_type": "markdown",
   "id": "29055b59",
   "metadata": {},
   "source": [
    "# Analysis Plan\n",
    "## Tiffany Marks "
   ]
  },
  {
   "cell_type": "code",
   "execution_count": 1,
   "id": "aaf40a58",
   "metadata": {},
   "outputs": [],
   "source": [
    "import pandas as pd\n",
    "import json\n",
    "import base64\n",
    "import requests\n",
    "import numpy as np\n",
    "from matplotlib import pyplot as plt\n",
    "from scipy import stats\n",
    "import requests"
   ]
  },
  {
   "cell_type": "markdown",
   "id": "478b71ec",
   "metadata": {},
   "source": [
    "For my report I'll need to collect Spotify information so I need to get my Spotify client ID"
   ]
  },
  {
   "cell_type": "code",
   "execution_count": 2,
   "id": "1da1f92f",
   "metadata": {},
   "outputs": [],
   "source": [
    "keys = pd.read_csv(\"Spotify-Keys_10-18-22\", header = 0, sep = \",\")"
   ]
  },
  {
   "cell_type": "code",
   "execution_count": 3,
   "id": "dc01e486",
   "metadata": {},
   "outputs": [],
   "source": [
    "appid = keys['Client_ID'][0]"
   ]
  },
  {
   "cell_type": "code",
   "execution_count": 4,
   "id": "5b061909",
   "metadata": {},
   "outputs": [],
   "source": [
    "appsecret = keys['Client_Secret'][0]"
   ]
  },
  {
   "cell_type": "code",
   "execution_count": 5,
   "id": "a922f164",
   "metadata": {},
   "outputs": [],
   "source": [
    "client_cred = base64.b64encode(str(appid + \":\" + appsecret).encode('ascii'))"
   ]
  },
  {
   "cell_type": "code",
   "execution_count": 6,
   "id": "d3ba0b10",
   "metadata": {},
   "outputs": [],
   "source": [
    "header = {'Authorization': 'Basic {}'.format(client_cred.decode('ascii'))}"
   ]
  },
  {
   "cell_type": "code",
   "execution_count": 7,
   "id": "7b0974ad",
   "metadata": {},
   "outputs": [],
   "source": [
    "payload = {'grant_type' : 'client_credentials'}\n",
    "access_token_url = \"https://accounts.spotify.com/api/token\""
   ]
  },
  {
   "cell_type": "code",
   "execution_count": 8,
   "id": "a5d65068",
   "metadata": {},
   "outputs": [],
   "source": [
    "response = requests.post(access_token_url, headers = header, data = payload)"
   ]
  },
  {
   "cell_type": "code",
   "execution_count": 9,
   "id": "c22ce814",
   "metadata": {},
   "outputs": [],
   "source": [
    "session_token = response.json()['access_token']"
   ]
  },
  {
   "cell_type": "code",
   "execution_count": 10,
   "id": "abb81b7d",
   "metadata": {},
   "outputs": [],
   "source": [
    "session_header = {'Authorization': 'Bearer {}'.format(response.json()['access_token'])}"
   ]
  },
  {
   "cell_type": "markdown",
   "id": "7e56f58c",
   "metadata": {},
   "source": [
    "On November 30, 2022, Spotify released its yearly Spotify Wrapped campaign. It's a fun way for users to see their listening data for the year. Along with personal and individual data for single users, Spotify collected the most listened to tracks overall in 2022. I took the top 50 most listened to songs and put them into a playlist and will collect that data next."
   ]
  },
  {
   "cell_type": "code",
   "execution_count": 11,
   "id": "ad5f76c7",
   "metadata": {},
   "outputs": [],
   "source": [
    "playlist = '27HaXqLrsN31FyG46FJ6WJ' "
   ]
  },
  {
   "cell_type": "markdown",
   "id": "f1a34417",
   "metadata": {},
   "source": [
    "playlist = '37i9dQZF1DXbJMiQ53rTyJ'"
   ]
  },
  {
   "cell_type": "code",
   "execution_count": 12,
   "id": "f5cdf071",
   "metadata": {},
   "outputs": [],
   "source": [
    "playlist_tracks_endpoint = \"https://api.spotify.com/v1/playlists/{}\".format(playlist)"
   ]
  },
  {
   "cell_type": "code",
   "execution_count": 13,
   "id": "c194693f",
   "metadata": {},
   "outputs": [],
   "source": [
    "playlist_tracks = requests.get(playlist_tracks_endpoint, headers = session_header)"
   ]
  },
  {
   "cell_type": "code",
   "execution_count": 14,
   "id": "6a1a87d0",
   "metadata": {},
   "outputs": [
    {
     "data": {
      "text/plain": [
       "200"
      ]
     },
     "execution_count": 14,
     "metadata": {},
     "output_type": "execute_result"
    }
   ],
   "source": [
    "playlist_tracks.status_code"
   ]
  },
  {
   "cell_type": "code",
   "execution_count": 15,
   "id": "eacaef1f",
   "metadata": {},
   "outputs": [],
   "source": [
    "playlist_dict = json.loads(playlist_tracks.text)"
   ]
  },
  {
   "cell_type": "code",
   "execution_count": 16,
   "id": "e6d09756",
   "metadata": {},
   "outputs": [
    {
     "data": {
      "text/plain": [
       "dict_keys(['collaborative', 'description', 'external_urls', 'followers', 'href', 'id', 'images', 'name', 'owner', 'primary_color', 'public', 'snapshot_id', 'tracks', 'type', 'uri'])"
      ]
     },
     "execution_count": 16,
     "metadata": {},
     "output_type": "execute_result"
    }
   ],
   "source": [
    "playlist_dict.keys()"
   ]
  },
  {
   "cell_type": "code",
   "execution_count": 17,
   "id": "9aab07d4",
   "metadata": {},
   "outputs": [
    {
     "data": {
      "text/plain": [
       "dict_keys(['href', 'items', 'limit', 'next', 'offset', 'previous', 'total'])"
      ]
     },
     "execution_count": 17,
     "metadata": {},
     "output_type": "execute_result"
    }
   ],
   "source": [
    "playlist_dict['tracks'].keys()"
   ]
  },
  {
   "cell_type": "code",
   "execution_count": 18,
   "id": "edf6dbb1",
   "metadata": {},
   "outputs": [
    {
     "data": {
      "text/plain": [
       "dict_keys(['added_at', 'added_by', 'is_local', 'primary_color', 'track', 'video_thumbnail'])"
      ]
     },
     "execution_count": 18,
     "metadata": {},
     "output_type": "execute_result"
    }
   ],
   "source": [
    "playlist_dict['tracks']['items'][0].keys()"
   ]
  },
  {
   "cell_type": "code",
   "execution_count": 19,
   "id": "b6d63e00",
   "metadata": {},
   "outputs": [],
   "source": [
    "playlist_track_ids = [x['track'] for x in playlist_dict['tracks']['items']]"
   ]
  },
  {
   "cell_type": "code",
   "execution_count": 20,
   "id": "ac57a92c",
   "metadata": {},
   "outputs": [],
   "source": [
    "full=pd.DataFrame(playlist_track_ids)"
   ]
  },
  {
   "cell_type": "markdown",
   "id": "52d89f0e",
   "metadata": {},
   "source": [
    "I will now have every track off the playlist."
   ]
  },
  {
   "cell_type": "code",
   "execution_count": 21,
   "id": "4b5623c7",
   "metadata": {},
   "outputs": [
    {
     "data": {
      "text/html": [
       "<div>\n",
       "<style scoped>\n",
       "    .dataframe tbody tr th:only-of-type {\n",
       "        vertical-align: middle;\n",
       "    }\n",
       "\n",
       "    .dataframe tbody tr th {\n",
       "        vertical-align: top;\n",
       "    }\n",
       "\n",
       "    .dataframe thead th {\n",
       "        text-align: right;\n",
       "    }\n",
       "</style>\n",
       "<table border=\"1\" class=\"dataframe\">\n",
       "  <thead>\n",
       "    <tr style=\"text-align: right;\">\n",
       "      <th></th>\n",
       "      <th>album</th>\n",
       "      <th>artists</th>\n",
       "      <th>available_markets</th>\n",
       "      <th>disc_number</th>\n",
       "      <th>duration_ms</th>\n",
       "      <th>episode</th>\n",
       "      <th>explicit</th>\n",
       "      <th>external_ids</th>\n",
       "      <th>external_urls</th>\n",
       "      <th>href</th>\n",
       "      <th>id</th>\n",
       "      <th>is_local</th>\n",
       "      <th>name</th>\n",
       "      <th>popularity</th>\n",
       "      <th>preview_url</th>\n",
       "      <th>track</th>\n",
       "      <th>track_number</th>\n",
       "      <th>type</th>\n",
       "      <th>uri</th>\n",
       "    </tr>\n",
       "  </thead>\n",
       "  <tbody>\n",
       "    <tr>\n",
       "      <th>0</th>\n",
       "      <td>{'album_type': 'album', 'artists': [{'external...</td>\n",
       "      <td>[{'external_urls': {'spotify': 'https://open.s...</td>\n",
       "      <td>[AD, AE, AG, AL, AM, AO, AR, AT, AU, AZ, BA, B...</td>\n",
       "      <td>1</td>\n",
       "      <td>167303</td>\n",
       "      <td>False</td>\n",
       "      <td>False</td>\n",
       "      <td>{'isrc': 'USSM12200612'}</td>\n",
       "      <td>{'spotify': 'https://open.spotify.com/track/4D...</td>\n",
       "      <td>https://api.spotify.com/v1/tracks/4Dvkj6JhhA12...</td>\n",
       "      <td>4Dvkj6JhhA12EX05fT7y2e</td>\n",
       "      <td>False</td>\n",
       "      <td>As It Was</td>\n",
       "      <td>92</td>\n",
       "      <td>https://p.scdn.co/mp3-preview/f0c2adc40766cd8c...</td>\n",
       "      <td>True</td>\n",
       "      <td>4</td>\n",
       "      <td>track</td>\n",
       "      <td>spotify:track:4Dvkj6JhhA12EX05fT7y2e</td>\n",
       "    </tr>\n",
       "    <tr>\n",
       "      <th>1</th>\n",
       "      <td>{'album_type': 'album', 'artists': [{'external...</td>\n",
       "      <td>[{'external_urls': {'spotify': 'https://open.s...</td>\n",
       "      <td>[AD, AE, AG, AL, AM, AO, AR, AT, AU, AZ, BA, B...</td>\n",
       "      <td>1</td>\n",
       "      <td>238805</td>\n",
       "      <td>False</td>\n",
       "      <td>False</td>\n",
       "      <td>{'isrc': 'GBUM72000433'}</td>\n",
       "      <td>{'spotify': 'https://open.spotify.com/track/02...</td>\n",
       "      <td>https://api.spotify.com/v1/tracks/02MWAaffLxlf...</td>\n",
       "      <td>02MWAaffLxlfxAUY7c5dvx</td>\n",
       "      <td>False</td>\n",
       "      <td>Heat Waves</td>\n",
       "      <td>87</td>\n",
       "      <td>None</td>\n",
       "      <td>True</td>\n",
       "      <td>14</td>\n",
       "      <td>track</td>\n",
       "      <td>spotify:track:02MWAaffLxlfxAUY7c5dvx</td>\n",
       "    </tr>\n",
       "    <tr>\n",
       "      <th>2</th>\n",
       "      <td>{'album_type': 'album', 'artists': [{'external...</td>\n",
       "      <td>[{'external_urls': {'spotify': 'https://open.s...</td>\n",
       "      <td>[AD, AE, AG, AL, AM, AO, AR, AT, AU, AZ, BA, B...</td>\n",
       "      <td>1</td>\n",
       "      <td>232066</td>\n",
       "      <td>False</td>\n",
       "      <td>True</td>\n",
       "      <td>{'isrc': 'USRC12201440'}</td>\n",
       "      <td>{'spotify': 'https://open.spotify.com/track/4k...</td>\n",
       "      <td>https://api.spotify.com/v1/tracks/4k6Uh1HXdhtu...</td>\n",
       "      <td>4k6Uh1HXdhtusDW5y8Gbvy</td>\n",
       "      <td>False</td>\n",
       "      <td>Bad Habit</td>\n",
       "      <td>88</td>\n",
       "      <td>https://p.scdn.co/mp3-preview/b46cf3781e6cbe5b...</td>\n",
       "      <td>True</td>\n",
       "      <td>5</td>\n",
       "      <td>track</td>\n",
       "      <td>spotify:track:4k6Uh1HXdhtusDW5y8Gbvy</td>\n",
       "    </tr>\n",
       "    <tr>\n",
       "      <th>3</th>\n",
       "      <td>{'album_type': 'album', 'artists': [{'external...</td>\n",
       "      <td>[{'external_urls': {'spotify': 'https://open.s...</td>\n",
       "      <td>[AD, AE, AG, AL, AM, AO, AR, AT, AU, AZ, BA, B...</td>\n",
       "      <td>1</td>\n",
       "      <td>178567</td>\n",
       "      <td>False</td>\n",
       "      <td>True</td>\n",
       "      <td>{'isrc': 'QM6MZ2214877'}</td>\n",
       "      <td>{'spotify': 'https://open.spotify.com/track/6S...</td>\n",
       "      <td>https://api.spotify.com/v1/tracks/6Sq7ltF9Qa7S...</td>\n",
       "      <td>6Sq7ltF9Qa7SNFBsV5Cogx</td>\n",
       "      <td>False</td>\n",
       "      <td>Me Porto Bonito</td>\n",
       "      <td>95</td>\n",
       "      <td>https://p.scdn.co/mp3-preview/8513b15fb5b39966...</td>\n",
       "      <td>True</td>\n",
       "      <td>3</td>\n",
       "      <td>track</td>\n",
       "      <td>spotify:track:6Sq7ltF9Qa7SNFBsV5Cogx</td>\n",
       "    </tr>\n",
       "    <tr>\n",
       "      <th>4</th>\n",
       "      <td>{'album_type': 'album', 'artists': [{'external...</td>\n",
       "      <td>[{'external_urls': {'spotify': 'https://open.s...</td>\n",
       "      <td>[AD, AE, AG, AL, AM, AO, AR, AT, AU, AZ, BA, B...</td>\n",
       "      <td>1</td>\n",
       "      <td>173947</td>\n",
       "      <td>False</td>\n",
       "      <td>True</td>\n",
       "      <td>{'isrc': 'USAT22203024'}</td>\n",
       "      <td>{'spotify': 'https://open.spotify.com/track/0w...</td>\n",
       "      <td>https://api.spotify.com/v1/tracks/0wHFktze2PHC...</td>\n",
       "      <td>0wHFktze2PHC5jDt3B17DC</td>\n",
       "      <td>False</td>\n",
       "      <td>First Class</td>\n",
       "      <td>85</td>\n",
       "      <td>https://p.scdn.co/mp3-preview/ec2263e955b141e7...</td>\n",
       "      <td>True</td>\n",
       "      <td>4</td>\n",
       "      <td>track</td>\n",
       "      <td>spotify:track:0wHFktze2PHC5jDt3B17DC</td>\n",
       "    </tr>\n",
       "  </tbody>\n",
       "</table>\n",
       "</div>"
      ],
      "text/plain": [
       "                                               album  \\\n",
       "0  {'album_type': 'album', 'artists': [{'external...   \n",
       "1  {'album_type': 'album', 'artists': [{'external...   \n",
       "2  {'album_type': 'album', 'artists': [{'external...   \n",
       "3  {'album_type': 'album', 'artists': [{'external...   \n",
       "4  {'album_type': 'album', 'artists': [{'external...   \n",
       "\n",
       "                                             artists  \\\n",
       "0  [{'external_urls': {'spotify': 'https://open.s...   \n",
       "1  [{'external_urls': {'spotify': 'https://open.s...   \n",
       "2  [{'external_urls': {'spotify': 'https://open.s...   \n",
       "3  [{'external_urls': {'spotify': 'https://open.s...   \n",
       "4  [{'external_urls': {'spotify': 'https://open.s...   \n",
       "\n",
       "                                   available_markets  disc_number  \\\n",
       "0  [AD, AE, AG, AL, AM, AO, AR, AT, AU, AZ, BA, B...            1   \n",
       "1  [AD, AE, AG, AL, AM, AO, AR, AT, AU, AZ, BA, B...            1   \n",
       "2  [AD, AE, AG, AL, AM, AO, AR, AT, AU, AZ, BA, B...            1   \n",
       "3  [AD, AE, AG, AL, AM, AO, AR, AT, AU, AZ, BA, B...            1   \n",
       "4  [AD, AE, AG, AL, AM, AO, AR, AT, AU, AZ, BA, B...            1   \n",
       "\n",
       "   duration_ms  episode  explicit              external_ids  \\\n",
       "0       167303    False     False  {'isrc': 'USSM12200612'}   \n",
       "1       238805    False     False  {'isrc': 'GBUM72000433'}   \n",
       "2       232066    False      True  {'isrc': 'USRC12201440'}   \n",
       "3       178567    False      True  {'isrc': 'QM6MZ2214877'}   \n",
       "4       173947    False      True  {'isrc': 'USAT22203024'}   \n",
       "\n",
       "                                       external_urls  \\\n",
       "0  {'spotify': 'https://open.spotify.com/track/4D...   \n",
       "1  {'spotify': 'https://open.spotify.com/track/02...   \n",
       "2  {'spotify': 'https://open.spotify.com/track/4k...   \n",
       "3  {'spotify': 'https://open.spotify.com/track/6S...   \n",
       "4  {'spotify': 'https://open.spotify.com/track/0w...   \n",
       "\n",
       "                                                href                      id  \\\n",
       "0  https://api.spotify.com/v1/tracks/4Dvkj6JhhA12...  4Dvkj6JhhA12EX05fT7y2e   \n",
       "1  https://api.spotify.com/v1/tracks/02MWAaffLxlf...  02MWAaffLxlfxAUY7c5dvx   \n",
       "2  https://api.spotify.com/v1/tracks/4k6Uh1HXdhtu...  4k6Uh1HXdhtusDW5y8Gbvy   \n",
       "3  https://api.spotify.com/v1/tracks/6Sq7ltF9Qa7S...  6Sq7ltF9Qa7SNFBsV5Cogx   \n",
       "4  https://api.spotify.com/v1/tracks/0wHFktze2PHC...  0wHFktze2PHC5jDt3B17DC   \n",
       "\n",
       "   is_local             name  popularity  \\\n",
       "0     False        As It Was          92   \n",
       "1     False       Heat Waves          87   \n",
       "2     False        Bad Habit          88   \n",
       "3     False  Me Porto Bonito          95   \n",
       "4     False      First Class          85   \n",
       "\n",
       "                                         preview_url  track  track_number  \\\n",
       "0  https://p.scdn.co/mp3-preview/f0c2adc40766cd8c...   True             4   \n",
       "1                                               None   True            14   \n",
       "2  https://p.scdn.co/mp3-preview/b46cf3781e6cbe5b...   True             5   \n",
       "3  https://p.scdn.co/mp3-preview/8513b15fb5b39966...   True             3   \n",
       "4  https://p.scdn.co/mp3-preview/ec2263e955b141e7...   True             4   \n",
       "\n",
       "    type                                   uri  \n",
       "0  track  spotify:track:4Dvkj6JhhA12EX05fT7y2e  \n",
       "1  track  spotify:track:02MWAaffLxlfxAUY7c5dvx  \n",
       "2  track  spotify:track:4k6Uh1HXdhtusDW5y8Gbvy  \n",
       "3  track  spotify:track:6Sq7ltF9Qa7SNFBsV5Cogx  \n",
       "4  track  spotify:track:0wHFktze2PHC5jDt3B17DC  "
      ]
     },
     "execution_count": 21,
     "metadata": {},
     "output_type": "execute_result"
    }
   ],
   "source": [
    "full.head()"
   ]
  },
  {
   "cell_type": "markdown",
   "id": "225236b0",
   "metadata": {},
   "source": [
    "I will remove columns that aren't needed"
   ]
  },
  {
   "cell_type": "code",
   "execution_count": 22,
   "id": "b85b0d36",
   "metadata": {},
   "outputs": [],
   "source": [
    "full2 = full.drop(columns = ['available_markets', 'disc_number', 'episode', 'external_ids', 'is_local', 'preview_url', 'track', 'track_number', 'type'])"
   ]
  },
  {
   "cell_type": "code",
   "execution_count": 23,
   "id": "d8e56df5",
   "metadata": {},
   "outputs": [
    {
     "data": {
      "text/html": [
       "<div>\n",
       "<style scoped>\n",
       "    .dataframe tbody tr th:only-of-type {\n",
       "        vertical-align: middle;\n",
       "    }\n",
       "\n",
       "    .dataframe tbody tr th {\n",
       "        vertical-align: top;\n",
       "    }\n",
       "\n",
       "    .dataframe thead th {\n",
       "        text-align: right;\n",
       "    }\n",
       "</style>\n",
       "<table border=\"1\" class=\"dataframe\">\n",
       "  <thead>\n",
       "    <tr style=\"text-align: right;\">\n",
       "      <th></th>\n",
       "      <th>album</th>\n",
       "      <th>artists</th>\n",
       "      <th>duration_ms</th>\n",
       "      <th>explicit</th>\n",
       "      <th>external_urls</th>\n",
       "      <th>href</th>\n",
       "      <th>id</th>\n",
       "      <th>name</th>\n",
       "      <th>popularity</th>\n",
       "      <th>uri</th>\n",
       "    </tr>\n",
       "  </thead>\n",
       "  <tbody>\n",
       "    <tr>\n",
       "      <th>0</th>\n",
       "      <td>{'album_type': 'album', 'artists': [{'external...</td>\n",
       "      <td>[{'external_urls': {'spotify': 'https://open.s...</td>\n",
       "      <td>167303</td>\n",
       "      <td>False</td>\n",
       "      <td>{'spotify': 'https://open.spotify.com/track/4D...</td>\n",
       "      <td>https://api.spotify.com/v1/tracks/4Dvkj6JhhA12...</td>\n",
       "      <td>4Dvkj6JhhA12EX05fT7y2e</td>\n",
       "      <td>As It Was</td>\n",
       "      <td>92</td>\n",
       "      <td>spotify:track:4Dvkj6JhhA12EX05fT7y2e</td>\n",
       "    </tr>\n",
       "    <tr>\n",
       "      <th>1</th>\n",
       "      <td>{'album_type': 'album', 'artists': [{'external...</td>\n",
       "      <td>[{'external_urls': {'spotify': 'https://open.s...</td>\n",
       "      <td>238805</td>\n",
       "      <td>False</td>\n",
       "      <td>{'spotify': 'https://open.spotify.com/track/02...</td>\n",
       "      <td>https://api.spotify.com/v1/tracks/02MWAaffLxlf...</td>\n",
       "      <td>02MWAaffLxlfxAUY7c5dvx</td>\n",
       "      <td>Heat Waves</td>\n",
       "      <td>87</td>\n",
       "      <td>spotify:track:02MWAaffLxlfxAUY7c5dvx</td>\n",
       "    </tr>\n",
       "    <tr>\n",
       "      <th>2</th>\n",
       "      <td>{'album_type': 'album', 'artists': [{'external...</td>\n",
       "      <td>[{'external_urls': {'spotify': 'https://open.s...</td>\n",
       "      <td>232066</td>\n",
       "      <td>True</td>\n",
       "      <td>{'spotify': 'https://open.spotify.com/track/4k...</td>\n",
       "      <td>https://api.spotify.com/v1/tracks/4k6Uh1HXdhtu...</td>\n",
       "      <td>4k6Uh1HXdhtusDW5y8Gbvy</td>\n",
       "      <td>Bad Habit</td>\n",
       "      <td>88</td>\n",
       "      <td>spotify:track:4k6Uh1HXdhtusDW5y8Gbvy</td>\n",
       "    </tr>\n",
       "    <tr>\n",
       "      <th>3</th>\n",
       "      <td>{'album_type': 'album', 'artists': [{'external...</td>\n",
       "      <td>[{'external_urls': {'spotify': 'https://open.s...</td>\n",
       "      <td>178567</td>\n",
       "      <td>True</td>\n",
       "      <td>{'spotify': 'https://open.spotify.com/track/6S...</td>\n",
       "      <td>https://api.spotify.com/v1/tracks/6Sq7ltF9Qa7S...</td>\n",
       "      <td>6Sq7ltF9Qa7SNFBsV5Cogx</td>\n",
       "      <td>Me Porto Bonito</td>\n",
       "      <td>95</td>\n",
       "      <td>spotify:track:6Sq7ltF9Qa7SNFBsV5Cogx</td>\n",
       "    </tr>\n",
       "    <tr>\n",
       "      <th>4</th>\n",
       "      <td>{'album_type': 'album', 'artists': [{'external...</td>\n",
       "      <td>[{'external_urls': {'spotify': 'https://open.s...</td>\n",
       "      <td>173947</td>\n",
       "      <td>True</td>\n",
       "      <td>{'spotify': 'https://open.spotify.com/track/0w...</td>\n",
       "      <td>https://api.spotify.com/v1/tracks/0wHFktze2PHC...</td>\n",
       "      <td>0wHFktze2PHC5jDt3B17DC</td>\n",
       "      <td>First Class</td>\n",
       "      <td>85</td>\n",
       "      <td>spotify:track:0wHFktze2PHC5jDt3B17DC</td>\n",
       "    </tr>\n",
       "  </tbody>\n",
       "</table>\n",
       "</div>"
      ],
      "text/plain": [
       "                                               album  \\\n",
       "0  {'album_type': 'album', 'artists': [{'external...   \n",
       "1  {'album_type': 'album', 'artists': [{'external...   \n",
       "2  {'album_type': 'album', 'artists': [{'external...   \n",
       "3  {'album_type': 'album', 'artists': [{'external...   \n",
       "4  {'album_type': 'album', 'artists': [{'external...   \n",
       "\n",
       "                                             artists  duration_ms  explicit  \\\n",
       "0  [{'external_urls': {'spotify': 'https://open.s...       167303     False   \n",
       "1  [{'external_urls': {'spotify': 'https://open.s...       238805     False   \n",
       "2  [{'external_urls': {'spotify': 'https://open.s...       232066      True   \n",
       "3  [{'external_urls': {'spotify': 'https://open.s...       178567      True   \n",
       "4  [{'external_urls': {'spotify': 'https://open.s...       173947      True   \n",
       "\n",
       "                                       external_urls  \\\n",
       "0  {'spotify': 'https://open.spotify.com/track/4D...   \n",
       "1  {'spotify': 'https://open.spotify.com/track/02...   \n",
       "2  {'spotify': 'https://open.spotify.com/track/4k...   \n",
       "3  {'spotify': 'https://open.spotify.com/track/6S...   \n",
       "4  {'spotify': 'https://open.spotify.com/track/0w...   \n",
       "\n",
       "                                                href                      id  \\\n",
       "0  https://api.spotify.com/v1/tracks/4Dvkj6JhhA12...  4Dvkj6JhhA12EX05fT7y2e   \n",
       "1  https://api.spotify.com/v1/tracks/02MWAaffLxlf...  02MWAaffLxlfxAUY7c5dvx   \n",
       "2  https://api.spotify.com/v1/tracks/4k6Uh1HXdhtu...  4k6Uh1HXdhtusDW5y8Gbvy   \n",
       "3  https://api.spotify.com/v1/tracks/6Sq7ltF9Qa7S...  6Sq7ltF9Qa7SNFBsV5Cogx   \n",
       "4  https://api.spotify.com/v1/tracks/0wHFktze2PHC...  0wHFktze2PHC5jDt3B17DC   \n",
       "\n",
       "              name  popularity                                   uri  \n",
       "0        As It Was          92  spotify:track:4Dvkj6JhhA12EX05fT7y2e  \n",
       "1       Heat Waves          87  spotify:track:02MWAaffLxlfxAUY7c5dvx  \n",
       "2        Bad Habit          88  spotify:track:4k6Uh1HXdhtusDW5y8Gbvy  \n",
       "3  Me Porto Bonito          95  spotify:track:6Sq7ltF9Qa7SNFBsV5Cogx  \n",
       "4      First Class          85  spotify:track:0wHFktze2PHC5jDt3B17DC  "
      ]
     },
     "execution_count": 23,
     "metadata": {},
     "output_type": "execute_result"
    }
   ],
   "source": [
    "full2.head()"
   ]
  },
  {
   "cell_type": "markdown",
   "id": "25f6cd39",
   "metadata": {},
   "source": [
    "Next I'll go through columns album and artist to separate and remove any data I don't need"
   ]
  },
  {
   "cell_type": "code",
   "execution_count": 24,
   "id": "80a2a3c2",
   "metadata": {},
   "outputs": [
    {
     "data": {
      "text/html": [
       "<div>\n",
       "<style scoped>\n",
       "    .dataframe tbody tr th:only-of-type {\n",
       "        vertical-align: middle;\n",
       "    }\n",
       "\n",
       "    .dataframe tbody tr th {\n",
       "        vertical-align: top;\n",
       "    }\n",
       "\n",
       "    .dataframe thead th {\n",
       "        text-align: right;\n",
       "    }\n",
       "</style>\n",
       "<table border=\"1\" class=\"dataframe\">\n",
       "  <thead>\n",
       "    <tr style=\"text-align: right;\">\n",
       "      <th></th>\n",
       "      <th>external_urls</th>\n",
       "      <th>href</th>\n",
       "      <th>id</th>\n",
       "      <th>name</th>\n",
       "      <th>type</th>\n",
       "      <th>uri</th>\n",
       "    </tr>\n",
       "  </thead>\n",
       "  <tbody>\n",
       "    <tr>\n",
       "      <th>0</th>\n",
       "      <td>{'spotify': 'https://open.spotify.com/artist/6...</td>\n",
       "      <td>https://api.spotify.com/v1/artists/6KImCVD70vt...</td>\n",
       "      <td>6KImCVD70vtIoJWnq6nGn3</td>\n",
       "      <td>Harry Styles</td>\n",
       "      <td>artist</td>\n",
       "      <td>spotify:artist:6KImCVD70vtIoJWnq6nGn3</td>\n",
       "    </tr>\n",
       "  </tbody>\n",
       "</table>\n",
       "</div>"
      ],
      "text/plain": [
       "                                       external_urls  \\\n",
       "0  {'spotify': 'https://open.spotify.com/artist/6...   \n",
       "\n",
       "                                                href                      id  \\\n",
       "0  https://api.spotify.com/v1/artists/6KImCVD70vt...  6KImCVD70vtIoJWnq6nGn3   \n",
       "\n",
       "           name    type                                    uri  \n",
       "0  Harry Styles  artist  spotify:artist:6KImCVD70vtIoJWnq6nGn3  "
      ]
     },
     "execution_count": 24,
     "metadata": {},
     "output_type": "execute_result"
    }
   ],
   "source": [
    "pd.DataFrame(full2['artists'][0])"
   ]
  },
  {
   "cell_type": "code",
   "execution_count": 25,
   "id": "32aaaf07",
   "metadata": {},
   "outputs": [
    {
     "data": {
      "text/plain": [
       "'Harry Styles'"
      ]
     },
     "execution_count": 25,
     "metadata": {},
     "output_type": "execute_result"
    }
   ],
   "source": [
    "full2['artists'][0][0]['name']"
   ]
  },
  {
   "cell_type": "code",
   "execution_count": 26,
   "id": "04f68d05",
   "metadata": {},
   "outputs": [],
   "source": [
    "artist = [x[0]['name'] for x in full2['artists']]"
   ]
  },
  {
   "cell_type": "code",
   "execution_count": 27,
   "id": "d0ce3f18",
   "metadata": {},
   "outputs": [],
   "source": [
    "artists_name =  pd.DataFrame(artist)"
   ]
  },
  {
   "cell_type": "code",
   "execution_count": 28,
   "id": "1f4fe819",
   "metadata": {},
   "outputs": [
    {
     "data": {
      "text/html": [
       "<div>\n",
       "<style scoped>\n",
       "    .dataframe tbody tr th:only-of-type {\n",
       "        vertical-align: middle;\n",
       "    }\n",
       "\n",
       "    .dataframe tbody tr th {\n",
       "        vertical-align: top;\n",
       "    }\n",
       "\n",
       "    .dataframe thead th {\n",
       "        text-align: right;\n",
       "    }\n",
       "</style>\n",
       "<table border=\"1\" class=\"dataframe\">\n",
       "  <thead>\n",
       "    <tr style=\"text-align: right;\">\n",
       "      <th></th>\n",
       "      <th>0</th>\n",
       "    </tr>\n",
       "  </thead>\n",
       "  <tbody>\n",
       "    <tr>\n",
       "      <th>0</th>\n",
       "      <td>Harry Styles</td>\n",
       "    </tr>\n",
       "    <tr>\n",
       "      <th>1</th>\n",
       "      <td>Glass Animals</td>\n",
       "    </tr>\n",
       "    <tr>\n",
       "      <th>2</th>\n",
       "      <td>Steve Lacy</td>\n",
       "    </tr>\n",
       "    <tr>\n",
       "      <th>3</th>\n",
       "      <td>Bad Bunny</td>\n",
       "    </tr>\n",
       "    <tr>\n",
       "      <th>4</th>\n",
       "      <td>Jack Harlow</td>\n",
       "    </tr>\n",
       "  </tbody>\n",
       "</table>\n",
       "</div>"
      ],
      "text/plain": [
       "               0\n",
       "0   Harry Styles\n",
       "1  Glass Animals\n",
       "2     Steve Lacy\n",
       "3      Bad Bunny\n",
       "4    Jack Harlow"
      ]
     },
     "execution_count": 28,
     "metadata": {},
     "output_type": "execute_result"
    }
   ],
   "source": [
    "artists_name.head()"
   ]
  },
  {
   "cell_type": "code",
   "execution_count": 29,
   "id": "93250331",
   "metadata": {},
   "outputs": [],
   "source": [
    "full2['artists_name'] = artists_name"
   ]
  },
  {
   "cell_type": "code",
   "execution_count": 30,
   "id": "81142f58",
   "metadata": {},
   "outputs": [
    {
     "data": {
      "text/html": [
       "<div>\n",
       "<style scoped>\n",
       "    .dataframe tbody tr th:only-of-type {\n",
       "        vertical-align: middle;\n",
       "    }\n",
       "\n",
       "    .dataframe tbody tr th {\n",
       "        vertical-align: top;\n",
       "    }\n",
       "\n",
       "    .dataframe thead th {\n",
       "        text-align: right;\n",
       "    }\n",
       "</style>\n",
       "<table border=\"1\" class=\"dataframe\">\n",
       "  <thead>\n",
       "    <tr style=\"text-align: right;\">\n",
       "      <th></th>\n",
       "      <th>album</th>\n",
       "      <th>duration_ms</th>\n",
       "      <th>explicit</th>\n",
       "      <th>external_urls</th>\n",
       "      <th>href</th>\n",
       "      <th>id</th>\n",
       "      <th>name</th>\n",
       "      <th>popularity</th>\n",
       "      <th>uri</th>\n",
       "      <th>artists_name</th>\n",
       "    </tr>\n",
       "  </thead>\n",
       "  <tbody>\n",
       "    <tr>\n",
       "      <th>0</th>\n",
       "      <td>{'album_type': 'album', 'artists': [{'external...</td>\n",
       "      <td>167303</td>\n",
       "      <td>False</td>\n",
       "      <td>{'spotify': 'https://open.spotify.com/track/4D...</td>\n",
       "      <td>https://api.spotify.com/v1/tracks/4Dvkj6JhhA12...</td>\n",
       "      <td>4Dvkj6JhhA12EX05fT7y2e</td>\n",
       "      <td>As It Was</td>\n",
       "      <td>92</td>\n",
       "      <td>spotify:track:4Dvkj6JhhA12EX05fT7y2e</td>\n",
       "      <td>Harry Styles</td>\n",
       "    </tr>\n",
       "    <tr>\n",
       "      <th>1</th>\n",
       "      <td>{'album_type': 'album', 'artists': [{'external...</td>\n",
       "      <td>238805</td>\n",
       "      <td>False</td>\n",
       "      <td>{'spotify': 'https://open.spotify.com/track/02...</td>\n",
       "      <td>https://api.spotify.com/v1/tracks/02MWAaffLxlf...</td>\n",
       "      <td>02MWAaffLxlfxAUY7c5dvx</td>\n",
       "      <td>Heat Waves</td>\n",
       "      <td>87</td>\n",
       "      <td>spotify:track:02MWAaffLxlfxAUY7c5dvx</td>\n",
       "      <td>Glass Animals</td>\n",
       "    </tr>\n",
       "    <tr>\n",
       "      <th>2</th>\n",
       "      <td>{'album_type': 'album', 'artists': [{'external...</td>\n",
       "      <td>232066</td>\n",
       "      <td>True</td>\n",
       "      <td>{'spotify': 'https://open.spotify.com/track/4k...</td>\n",
       "      <td>https://api.spotify.com/v1/tracks/4k6Uh1HXdhtu...</td>\n",
       "      <td>4k6Uh1HXdhtusDW5y8Gbvy</td>\n",
       "      <td>Bad Habit</td>\n",
       "      <td>88</td>\n",
       "      <td>spotify:track:4k6Uh1HXdhtusDW5y8Gbvy</td>\n",
       "      <td>Steve Lacy</td>\n",
       "    </tr>\n",
       "    <tr>\n",
       "      <th>3</th>\n",
       "      <td>{'album_type': 'album', 'artists': [{'external...</td>\n",
       "      <td>178567</td>\n",
       "      <td>True</td>\n",
       "      <td>{'spotify': 'https://open.spotify.com/track/6S...</td>\n",
       "      <td>https://api.spotify.com/v1/tracks/6Sq7ltF9Qa7S...</td>\n",
       "      <td>6Sq7ltF9Qa7SNFBsV5Cogx</td>\n",
       "      <td>Me Porto Bonito</td>\n",
       "      <td>95</td>\n",
       "      <td>spotify:track:6Sq7ltF9Qa7SNFBsV5Cogx</td>\n",
       "      <td>Bad Bunny</td>\n",
       "    </tr>\n",
       "    <tr>\n",
       "      <th>4</th>\n",
       "      <td>{'album_type': 'album', 'artists': [{'external...</td>\n",
       "      <td>173947</td>\n",
       "      <td>True</td>\n",
       "      <td>{'spotify': 'https://open.spotify.com/track/0w...</td>\n",
       "      <td>https://api.spotify.com/v1/tracks/0wHFktze2PHC...</td>\n",
       "      <td>0wHFktze2PHC5jDt3B17DC</td>\n",
       "      <td>First Class</td>\n",
       "      <td>85</td>\n",
       "      <td>spotify:track:0wHFktze2PHC5jDt3B17DC</td>\n",
       "      <td>Jack Harlow</td>\n",
       "    </tr>\n",
       "  </tbody>\n",
       "</table>\n",
       "</div>"
      ],
      "text/plain": [
       "                                               album  duration_ms  explicit  \\\n",
       "0  {'album_type': 'album', 'artists': [{'external...       167303     False   \n",
       "1  {'album_type': 'album', 'artists': [{'external...       238805     False   \n",
       "2  {'album_type': 'album', 'artists': [{'external...       232066      True   \n",
       "3  {'album_type': 'album', 'artists': [{'external...       178567      True   \n",
       "4  {'album_type': 'album', 'artists': [{'external...       173947      True   \n",
       "\n",
       "                                       external_urls  \\\n",
       "0  {'spotify': 'https://open.spotify.com/track/4D...   \n",
       "1  {'spotify': 'https://open.spotify.com/track/02...   \n",
       "2  {'spotify': 'https://open.spotify.com/track/4k...   \n",
       "3  {'spotify': 'https://open.spotify.com/track/6S...   \n",
       "4  {'spotify': 'https://open.spotify.com/track/0w...   \n",
       "\n",
       "                                                href                      id  \\\n",
       "0  https://api.spotify.com/v1/tracks/4Dvkj6JhhA12...  4Dvkj6JhhA12EX05fT7y2e   \n",
       "1  https://api.spotify.com/v1/tracks/02MWAaffLxlf...  02MWAaffLxlfxAUY7c5dvx   \n",
       "2  https://api.spotify.com/v1/tracks/4k6Uh1HXdhtu...  4k6Uh1HXdhtusDW5y8Gbvy   \n",
       "3  https://api.spotify.com/v1/tracks/6Sq7ltF9Qa7S...  6Sq7ltF9Qa7SNFBsV5Cogx   \n",
       "4  https://api.spotify.com/v1/tracks/0wHFktze2PHC...  0wHFktze2PHC5jDt3B17DC   \n",
       "\n",
       "              name  popularity                                   uri  \\\n",
       "0        As It Was          92  spotify:track:4Dvkj6JhhA12EX05fT7y2e   \n",
       "1       Heat Waves          87  spotify:track:02MWAaffLxlfxAUY7c5dvx   \n",
       "2        Bad Habit          88  spotify:track:4k6Uh1HXdhtusDW5y8Gbvy   \n",
       "3  Me Porto Bonito          95  spotify:track:6Sq7ltF9Qa7SNFBsV5Cogx   \n",
       "4      First Class          85  spotify:track:0wHFktze2PHC5jDt3B17DC   \n",
       "\n",
       "    artists_name  \n",
       "0   Harry Styles  \n",
       "1  Glass Animals  \n",
       "2     Steve Lacy  \n",
       "3      Bad Bunny  \n",
       "4    Jack Harlow  "
      ]
     },
     "execution_count": 30,
     "metadata": {},
     "output_type": "execute_result"
    }
   ],
   "source": [
    "full2.drop(columns = ['artists']).head()"
   ]
  },
  {
   "cell_type": "code",
   "execution_count": 31,
   "id": "bb0e5be9",
   "metadata": {},
   "outputs": [],
   "source": [
    "album_data = pd.DataFrame(list(full2['album']))"
   ]
  },
  {
   "cell_type": "code",
   "execution_count": 32,
   "id": "348a1f1c",
   "metadata": {},
   "outputs": [
    {
     "data": {
      "text/html": [
       "<div>\n",
       "<style scoped>\n",
       "    .dataframe tbody tr th:only-of-type {\n",
       "        vertical-align: middle;\n",
       "    }\n",
       "\n",
       "    .dataframe tbody tr th {\n",
       "        vertical-align: top;\n",
       "    }\n",
       "\n",
       "    .dataframe thead th {\n",
       "        text-align: right;\n",
       "    }\n",
       "</style>\n",
       "<table border=\"1\" class=\"dataframe\">\n",
       "  <thead>\n",
       "    <tr style=\"text-align: right;\">\n",
       "      <th></th>\n",
       "      <th>album_type</th>\n",
       "      <th>artists</th>\n",
       "      <th>available_markets</th>\n",
       "      <th>external_urls</th>\n",
       "      <th>href</th>\n",
       "      <th>id</th>\n",
       "      <th>images</th>\n",
       "      <th>name</th>\n",
       "      <th>release_date</th>\n",
       "      <th>release_date_precision</th>\n",
       "      <th>total_tracks</th>\n",
       "      <th>type</th>\n",
       "      <th>uri</th>\n",
       "    </tr>\n",
       "  </thead>\n",
       "  <tbody>\n",
       "    <tr>\n",
       "      <th>0</th>\n",
       "      <td>album</td>\n",
       "      <td>[{'external_urls': {'spotify': 'https://open.s...</td>\n",
       "      <td>[AD, AE, AG, AL, AM, AO, AR, AT, AU, AZ, BA, B...</td>\n",
       "      <td>{'spotify': 'https://open.spotify.com/album/5r...</td>\n",
       "      <td>https://api.spotify.com/v1/albums/5r36AJ6VOJtp...</td>\n",
       "      <td>5r36AJ6VOJtp00oxSkBZ5h</td>\n",
       "      <td>[{'height': 640, 'url': 'https://i.scdn.co/ima...</td>\n",
       "      <td>Harry's House</td>\n",
       "      <td>2022-05-20</td>\n",
       "      <td>day</td>\n",
       "      <td>13</td>\n",
       "      <td>album</td>\n",
       "      <td>spotify:album:5r36AJ6VOJtp00oxSkBZ5h</td>\n",
       "    </tr>\n",
       "    <tr>\n",
       "      <th>1</th>\n",
       "      <td>album</td>\n",
       "      <td>[{'external_urls': {'spotify': 'https://open.s...</td>\n",
       "      <td>[AD, AE, AG, AL, AM, AO, AR, AT, AU, AZ, BA, B...</td>\n",
       "      <td>{'spotify': 'https://open.spotify.com/album/0K...</td>\n",
       "      <td>https://api.spotify.com/v1/albums/0KTj6k94XZh0...</td>\n",
       "      <td>0KTj6k94XZh0c6IEMfxeWV</td>\n",
       "      <td>[{'height': 640, 'url': 'https://i.scdn.co/ima...</td>\n",
       "      <td>Dreamland (+ Bonus Levels)</td>\n",
       "      <td>2020-08-06</td>\n",
       "      <td>day</td>\n",
       "      <td>18</td>\n",
       "      <td>album</td>\n",
       "      <td>spotify:album:0KTj6k94XZh0c6IEMfxeWV</td>\n",
       "    </tr>\n",
       "    <tr>\n",
       "      <th>2</th>\n",
       "      <td>album</td>\n",
       "      <td>[{'external_urls': {'spotify': 'https://open.s...</td>\n",
       "      <td>[AD, AE, AG, AL, AM, AO, AR, AT, AU, AZ, BA, B...</td>\n",
       "      <td>{'spotify': 'https://open.spotify.com/album/3K...</td>\n",
       "      <td>https://api.spotify.com/v1/albums/3Ks0eeH0GWpY...</td>\n",
       "      <td>3Ks0eeH0GWpY4AU20D5HPD</td>\n",
       "      <td>[{'height': 640, 'url': 'https://i.scdn.co/ima...</td>\n",
       "      <td>Gemini Rights</td>\n",
       "      <td>2022-07-15</td>\n",
       "      <td>day</td>\n",
       "      <td>10</td>\n",
       "      <td>album</td>\n",
       "      <td>spotify:album:3Ks0eeH0GWpY4AU20D5HPD</td>\n",
       "    </tr>\n",
       "    <tr>\n",
       "      <th>3</th>\n",
       "      <td>album</td>\n",
       "      <td>[{'external_urls': {'spotify': 'https://open.s...</td>\n",
       "      <td>[AD, AE, AG, AL, AM, AO, AR, AT, AU, AZ, BA, B...</td>\n",
       "      <td>{'spotify': 'https://open.spotify.com/album/3R...</td>\n",
       "      <td>https://api.spotify.com/v1/albums/3RQQmkQEvNCY...</td>\n",
       "      <td>3RQQmkQEvNCY4prGKE6oc5</td>\n",
       "      <td>[{'height': 640, 'url': 'https://i.scdn.co/ima...</td>\n",
       "      <td>Un Verano Sin Ti</td>\n",
       "      <td>2022-05-06</td>\n",
       "      <td>day</td>\n",
       "      <td>23</td>\n",
       "      <td>album</td>\n",
       "      <td>spotify:album:3RQQmkQEvNCY4prGKE6oc5</td>\n",
       "    </tr>\n",
       "    <tr>\n",
       "      <th>4</th>\n",
       "      <td>album</td>\n",
       "      <td>[{'external_urls': {'spotify': 'https://open.s...</td>\n",
       "      <td>[AD, AE, AG, AL, AM, AO, AR, AT, AU, AZ, BA, B...</td>\n",
       "      <td>{'spotify': 'https://open.spotify.com/album/2e...</td>\n",
       "      <td>https://api.spotify.com/v1/albums/2eE8BVirX9VF...</td>\n",
       "      <td>2eE8BVirX9VF8Di9hD90iw</td>\n",
       "      <td>[{'height': 640, 'url': 'https://i.scdn.co/ima...</td>\n",
       "      <td>Come Home The Kids Miss You</td>\n",
       "      <td>2022-05-06</td>\n",
       "      <td>day</td>\n",
       "      <td>15</td>\n",
       "      <td>album</td>\n",
       "      <td>spotify:album:2eE8BVirX9VF8Di9hD90iw</td>\n",
       "    </tr>\n",
       "  </tbody>\n",
       "</table>\n",
       "</div>"
      ],
      "text/plain": [
       "  album_type                                            artists  \\\n",
       "0      album  [{'external_urls': {'spotify': 'https://open.s...   \n",
       "1      album  [{'external_urls': {'spotify': 'https://open.s...   \n",
       "2      album  [{'external_urls': {'spotify': 'https://open.s...   \n",
       "3      album  [{'external_urls': {'spotify': 'https://open.s...   \n",
       "4      album  [{'external_urls': {'spotify': 'https://open.s...   \n",
       "\n",
       "                                   available_markets  \\\n",
       "0  [AD, AE, AG, AL, AM, AO, AR, AT, AU, AZ, BA, B...   \n",
       "1  [AD, AE, AG, AL, AM, AO, AR, AT, AU, AZ, BA, B...   \n",
       "2  [AD, AE, AG, AL, AM, AO, AR, AT, AU, AZ, BA, B...   \n",
       "3  [AD, AE, AG, AL, AM, AO, AR, AT, AU, AZ, BA, B...   \n",
       "4  [AD, AE, AG, AL, AM, AO, AR, AT, AU, AZ, BA, B...   \n",
       "\n",
       "                                       external_urls  \\\n",
       "0  {'spotify': 'https://open.spotify.com/album/5r...   \n",
       "1  {'spotify': 'https://open.spotify.com/album/0K...   \n",
       "2  {'spotify': 'https://open.spotify.com/album/3K...   \n",
       "3  {'spotify': 'https://open.spotify.com/album/3R...   \n",
       "4  {'spotify': 'https://open.spotify.com/album/2e...   \n",
       "\n",
       "                                                href                      id  \\\n",
       "0  https://api.spotify.com/v1/albums/5r36AJ6VOJtp...  5r36AJ6VOJtp00oxSkBZ5h   \n",
       "1  https://api.spotify.com/v1/albums/0KTj6k94XZh0...  0KTj6k94XZh0c6IEMfxeWV   \n",
       "2  https://api.spotify.com/v1/albums/3Ks0eeH0GWpY...  3Ks0eeH0GWpY4AU20D5HPD   \n",
       "3  https://api.spotify.com/v1/albums/3RQQmkQEvNCY...  3RQQmkQEvNCY4prGKE6oc5   \n",
       "4  https://api.spotify.com/v1/albums/2eE8BVirX9VF...  2eE8BVirX9VF8Di9hD90iw   \n",
       "\n",
       "                                              images  \\\n",
       "0  [{'height': 640, 'url': 'https://i.scdn.co/ima...   \n",
       "1  [{'height': 640, 'url': 'https://i.scdn.co/ima...   \n",
       "2  [{'height': 640, 'url': 'https://i.scdn.co/ima...   \n",
       "3  [{'height': 640, 'url': 'https://i.scdn.co/ima...   \n",
       "4  [{'height': 640, 'url': 'https://i.scdn.co/ima...   \n",
       "\n",
       "                          name release_date release_date_precision  \\\n",
       "0                Harry's House   2022-05-20                    day   \n",
       "1   Dreamland (+ Bonus Levels)   2020-08-06                    day   \n",
       "2                Gemini Rights   2022-07-15                    day   \n",
       "3             Un Verano Sin Ti   2022-05-06                    day   \n",
       "4  Come Home The Kids Miss You   2022-05-06                    day   \n",
       "\n",
       "   total_tracks   type                                   uri  \n",
       "0            13  album  spotify:album:5r36AJ6VOJtp00oxSkBZ5h  \n",
       "1            18  album  spotify:album:0KTj6k94XZh0c6IEMfxeWV  \n",
       "2            10  album  spotify:album:3Ks0eeH0GWpY4AU20D5HPD  \n",
       "3            23  album  spotify:album:3RQQmkQEvNCY4prGKE6oc5  \n",
       "4            15  album  spotify:album:2eE8BVirX9VF8Di9hD90iw  "
      ]
     },
     "execution_count": 32,
     "metadata": {},
     "output_type": "execute_result"
    }
   ],
   "source": [
    "album_data.head()"
   ]
  },
  {
   "cell_type": "code",
   "execution_count": 33,
   "id": "6eed2a02",
   "metadata": {},
   "outputs": [
    {
     "data": {
      "text/html": [
       "<div>\n",
       "<style scoped>\n",
       "    .dataframe tbody tr th:only-of-type {\n",
       "        vertical-align: middle;\n",
       "    }\n",
       "\n",
       "    .dataframe tbody tr th {\n",
       "        vertical-align: top;\n",
       "    }\n",
       "\n",
       "    .dataframe thead th {\n",
       "        text-align: right;\n",
       "    }\n",
       "</style>\n",
       "<table border=\"1\" class=\"dataframe\">\n",
       "  <thead>\n",
       "    <tr style=\"text-align: right;\">\n",
       "      <th></th>\n",
       "      <th>album_type</th>\n",
       "      <th>name</th>\n",
       "      <th>release_date</th>\n",
       "    </tr>\n",
       "  </thead>\n",
       "  <tbody>\n",
       "    <tr>\n",
       "      <th>0</th>\n",
       "      <td>album</td>\n",
       "      <td>Harry's House</td>\n",
       "      <td>2022-05-20</td>\n",
       "    </tr>\n",
       "    <tr>\n",
       "      <th>1</th>\n",
       "      <td>album</td>\n",
       "      <td>Dreamland (+ Bonus Levels)</td>\n",
       "      <td>2020-08-06</td>\n",
       "    </tr>\n",
       "    <tr>\n",
       "      <th>2</th>\n",
       "      <td>album</td>\n",
       "      <td>Gemini Rights</td>\n",
       "      <td>2022-07-15</td>\n",
       "    </tr>\n",
       "    <tr>\n",
       "      <th>3</th>\n",
       "      <td>album</td>\n",
       "      <td>Un Verano Sin Ti</td>\n",
       "      <td>2022-05-06</td>\n",
       "    </tr>\n",
       "    <tr>\n",
       "      <th>4</th>\n",
       "      <td>album</td>\n",
       "      <td>Come Home The Kids Miss You</td>\n",
       "      <td>2022-05-06</td>\n",
       "    </tr>\n",
       "  </tbody>\n",
       "</table>\n",
       "</div>"
      ],
      "text/plain": [
       "  album_type                         name release_date\n",
       "0      album                Harry's House   2022-05-20\n",
       "1      album   Dreamland (+ Bonus Levels)   2020-08-06\n",
       "2      album                Gemini Rights   2022-07-15\n",
       "3      album             Un Verano Sin Ti   2022-05-06\n",
       "4      album  Come Home The Kids Miss You   2022-05-06"
      ]
     },
     "execution_count": 33,
     "metadata": {},
     "output_type": "execute_result"
    }
   ],
   "source": [
    "album_data.drop(columns = ['artists','available_markets', 'external_urls', 'href', 'id', 'images', 'release_date_precision', 'total_tracks', 'type', 'uri']).head()"
   ]
  },
  {
   "cell_type": "code",
   "execution_count": 34,
   "id": "a7f6666e",
   "metadata": {},
   "outputs": [],
   "source": [
    "full2['album_type'] = album_data['album_type']\n",
    "full2['album_name'] = album_data['name']\n",
    "full2['album_release_date'] = album_data['release_date']"
   ]
  },
  {
   "cell_type": "code",
   "execution_count": 35,
   "id": "22bd7cc2",
   "metadata": {},
   "outputs": [],
   "source": [
    "most_streamed_Songs = full2.drop(columns = ['album', 'artists', 'external_urls', 'uri', 'href'])"
   ]
  },
  {
   "cell_type": "code",
   "execution_count": 36,
   "id": "61e656ce",
   "metadata": {},
   "outputs": [
    {
     "data": {
      "text/html": [
       "<div>\n",
       "<style scoped>\n",
       "    .dataframe tbody tr th:only-of-type {\n",
       "        vertical-align: middle;\n",
       "    }\n",
       "\n",
       "    .dataframe tbody tr th {\n",
       "        vertical-align: top;\n",
       "    }\n",
       "\n",
       "    .dataframe thead th {\n",
       "        text-align: right;\n",
       "    }\n",
       "</style>\n",
       "<table border=\"1\" class=\"dataframe\">\n",
       "  <thead>\n",
       "    <tr style=\"text-align: right;\">\n",
       "      <th></th>\n",
       "      <th>duration_ms</th>\n",
       "      <th>explicit</th>\n",
       "      <th>id</th>\n",
       "      <th>name</th>\n",
       "      <th>popularity</th>\n",
       "      <th>artists_name</th>\n",
       "      <th>album_type</th>\n",
       "      <th>album_name</th>\n",
       "      <th>album_release_date</th>\n",
       "    </tr>\n",
       "  </thead>\n",
       "  <tbody>\n",
       "    <tr>\n",
       "      <th>0</th>\n",
       "      <td>167303</td>\n",
       "      <td>False</td>\n",
       "      <td>4Dvkj6JhhA12EX05fT7y2e</td>\n",
       "      <td>As It Was</td>\n",
       "      <td>92</td>\n",
       "      <td>Harry Styles</td>\n",
       "      <td>album</td>\n",
       "      <td>Harry's House</td>\n",
       "      <td>2022-05-20</td>\n",
       "    </tr>\n",
       "    <tr>\n",
       "      <th>1</th>\n",
       "      <td>238805</td>\n",
       "      <td>False</td>\n",
       "      <td>02MWAaffLxlfxAUY7c5dvx</td>\n",
       "      <td>Heat Waves</td>\n",
       "      <td>87</td>\n",
       "      <td>Glass Animals</td>\n",
       "      <td>album</td>\n",
       "      <td>Dreamland (+ Bonus Levels)</td>\n",
       "      <td>2020-08-06</td>\n",
       "    </tr>\n",
       "    <tr>\n",
       "      <th>2</th>\n",
       "      <td>232066</td>\n",
       "      <td>True</td>\n",
       "      <td>4k6Uh1HXdhtusDW5y8Gbvy</td>\n",
       "      <td>Bad Habit</td>\n",
       "      <td>88</td>\n",
       "      <td>Steve Lacy</td>\n",
       "      <td>album</td>\n",
       "      <td>Gemini Rights</td>\n",
       "      <td>2022-07-15</td>\n",
       "    </tr>\n",
       "    <tr>\n",
       "      <th>3</th>\n",
       "      <td>178567</td>\n",
       "      <td>True</td>\n",
       "      <td>6Sq7ltF9Qa7SNFBsV5Cogx</td>\n",
       "      <td>Me Porto Bonito</td>\n",
       "      <td>95</td>\n",
       "      <td>Bad Bunny</td>\n",
       "      <td>album</td>\n",
       "      <td>Un Verano Sin Ti</td>\n",
       "      <td>2022-05-06</td>\n",
       "    </tr>\n",
       "    <tr>\n",
       "      <th>4</th>\n",
       "      <td>173947</td>\n",
       "      <td>True</td>\n",
       "      <td>0wHFktze2PHC5jDt3B17DC</td>\n",
       "      <td>First Class</td>\n",
       "      <td>85</td>\n",
       "      <td>Jack Harlow</td>\n",
       "      <td>album</td>\n",
       "      <td>Come Home The Kids Miss You</td>\n",
       "      <td>2022-05-06</td>\n",
       "    </tr>\n",
       "  </tbody>\n",
       "</table>\n",
       "</div>"
      ],
      "text/plain": [
       "   duration_ms  explicit                      id             name  popularity  \\\n",
       "0       167303     False  4Dvkj6JhhA12EX05fT7y2e        As It Was          92   \n",
       "1       238805     False  02MWAaffLxlfxAUY7c5dvx       Heat Waves          87   \n",
       "2       232066      True  4k6Uh1HXdhtusDW5y8Gbvy        Bad Habit          88   \n",
       "3       178567      True  6Sq7ltF9Qa7SNFBsV5Cogx  Me Porto Bonito          95   \n",
       "4       173947      True  0wHFktze2PHC5jDt3B17DC      First Class          85   \n",
       "\n",
       "    artists_name album_type                   album_name album_release_date  \n",
       "0   Harry Styles      album                Harry's House         2022-05-20  \n",
       "1  Glass Animals      album   Dreamland (+ Bonus Levels)         2020-08-06  \n",
       "2     Steve Lacy      album                Gemini Rights         2022-07-15  \n",
       "3      Bad Bunny      album             Un Verano Sin Ti         2022-05-06  \n",
       "4    Jack Harlow      album  Come Home The Kids Miss You         2022-05-06  "
      ]
     },
     "execution_count": 36,
     "metadata": {},
     "output_type": "execute_result"
    }
   ],
   "source": [
    "most_streamed_Songs.head()"
   ]
  },
  {
   "cell_type": "markdown",
   "id": "08ce2c3c",
   "metadata": {},
   "source": [
    "I now have the DataFrame for all the track information I want"
   ]
  },
  {
   "cell_type": "code",
   "execution_count": 37,
   "id": "63aa6aa4",
   "metadata": {},
   "outputs": [],
   "source": [
    "most_streamed_Songs_ids = most_streamed_Songs['id']"
   ]
  },
  {
   "cell_type": "markdown",
   "id": "7fd16239",
   "metadata": {},
   "source": [
    "Next I will need the audio features Spotify provides to add on the most_streamed_Songs DataFrame. I have to use the tracks ID to get each songs individual audio features."
   ]
  },
  {
   "cell_type": "code",
   "execution_count": 38,
   "id": "78cb7533",
   "metadata": {},
   "outputs": [
    {
     "data": {
      "text/plain": [
       "'4Dvkj6JhhA12EX05fT7y2e,02MWAaffLxlfxAUY7c5dvx,4k6Uh1HXdhtusDW5y8Gbvy,6Sq7ltF9Qa7SNFBsV5Cogx,0wHFktze2PHC5jDt3B17DC,1IHWl5LamUGEuP4ozKQSXZ,5PjdY0CKGZdEuoNab3yDmX,29d0nY7TzCoi22XBqDQkiP,2QjOHCTQ1Jl3zawyYOpxh6,3EaJDYHA0KnX88JvDhL9oa,52xJxFP6TqMuO4Yt0eOkMz,5Z9KJZvQzH6PFmb8SNkxuk,4ewazQLXFTDC8XvCbhvtXs,68Dni7IE4VyPkTOH9mRWHr,1Y5Jvi3eLi4Chwqch9GMem,2BcMwX1MPV6ZHP4tUT9uq6,59nOXPmaKlBfGMDeOVGrIK,6HMtHNpW6YPi1hrw9tgF8P,3CIyK1V4JEJkg02E4EJnDl,58ge6dfP91o9oXMzq3XkIS,4SqWKzw0CbA05TGszDgMlc,4ZtFanR9U6ndgddUvNcjcG,6Uj1ctrBOjOas8xZXGqKk4,3F5CgOj3wFlRv51JsHbxhe,6I3mqTwhRpn34SLVafSH7G,2LBqCSwhJGcFQeTHMVGwy3,1qEmFfgcLObUfQm0j1W2CK,7rglLriMNBPAyuJOMGwi39,3QFInJAm9eyaho5vBzxInN,3cBsEDNhFI9E82vPj3kvi3,3Vi5XqYrmQgOYBajMWSvCi,0O6u0VJ46W86TxN9wgyqDj,6Xom58OOXk2SoU711L2IXO,3XOalgusokruzA5ZBA2Qcb,5Eax0qFko2dh7Rl2lYs3bx,5uU1uuyaUIBOiiUSQG7Wl3,3DarAbFujv6eYNliUTyqtz,3WMj8moIAXJhHsyLaqIIHI,50nfwKoDiSYg8zOCREWAm5,0e8nrvls4Qqv5Rfa2UhqmO,4h4QlmocP3IuwYEj2j14p8,7KA4W4McWYRpgf0fWsJZWB,5CZ40GBx1sQ9agT82CLQCT,3GZD6HmiNUhxXYf8Gch723,65OVbaJR5O1RmwOQx0875b,0hquQWY3xvYqN4qtiquniF,3k3NWokhRRkEPhCzPmV8TW,7qTaDOcld0VmBWXnkbUj45,4h9wh7iOZ0GGn8QVp4RAOB,4EWCNWgDS8707fNSZ1oaA5'"
      ]
     },
     "execution_count": 38,
     "metadata": {},
     "output_type": "execute_result"
    }
   ],
   "source": [
    "most_streamed_Songs_strings = ','.join(str(x) for x in most_streamed_Songs_ids)\n",
    "most_streamed_Songs_strings"
   ]
  },
  {
   "cell_type": "code",
   "execution_count": 39,
   "id": "eb882d6b",
   "metadata": {},
   "outputs": [],
   "source": [
    "track_features_endpoint = \"https://api.spotify.com/v1/audio-features?ids={}\".format(most_streamed_Songs_strings)"
   ]
  },
  {
   "cell_type": "code",
   "execution_count": 40,
   "id": "89c5b013",
   "metadata": {},
   "outputs": [
    {
     "data": {
      "text/plain": [
       "'https://api.spotify.com/v1/audio-features?ids=4Dvkj6JhhA12EX05fT7y2e,02MWAaffLxlfxAUY7c5dvx,4k6Uh1HXdhtusDW5y8Gbvy,6Sq7ltF9Qa7SNFBsV5Cogx,0wHFktze2PHC5jDt3B17DC,1IHWl5LamUGEuP4ozKQSXZ,5PjdY0CKGZdEuoNab3yDmX,29d0nY7TzCoi22XBqDQkiP,2QjOHCTQ1Jl3zawyYOpxh6,3EaJDYHA0KnX88JvDhL9oa,52xJxFP6TqMuO4Yt0eOkMz,5Z9KJZvQzH6PFmb8SNkxuk,4ewazQLXFTDC8XvCbhvtXs,68Dni7IE4VyPkTOH9mRWHr,1Y5Jvi3eLi4Chwqch9GMem,2BcMwX1MPV6ZHP4tUT9uq6,59nOXPmaKlBfGMDeOVGrIK,6HMtHNpW6YPi1hrw9tgF8P,3CIyK1V4JEJkg02E4EJnDl,58ge6dfP91o9oXMzq3XkIS,4SqWKzw0CbA05TGszDgMlc,4ZtFanR9U6ndgddUvNcjcG,6Uj1ctrBOjOas8xZXGqKk4,3F5CgOj3wFlRv51JsHbxhe,6I3mqTwhRpn34SLVafSH7G,2LBqCSwhJGcFQeTHMVGwy3,1qEmFfgcLObUfQm0j1W2CK,7rglLriMNBPAyuJOMGwi39,3QFInJAm9eyaho5vBzxInN,3cBsEDNhFI9E82vPj3kvi3,3Vi5XqYrmQgOYBajMWSvCi,0O6u0VJ46W86TxN9wgyqDj,6Xom58OOXk2SoU711L2IXO,3XOalgusokruzA5ZBA2Qcb,5Eax0qFko2dh7Rl2lYs3bx,5uU1uuyaUIBOiiUSQG7Wl3,3DarAbFujv6eYNliUTyqtz,3WMj8moIAXJhHsyLaqIIHI,50nfwKoDiSYg8zOCREWAm5,0e8nrvls4Qqv5Rfa2UhqmO,4h4QlmocP3IuwYEj2j14p8,7KA4W4McWYRpgf0fWsJZWB,5CZ40GBx1sQ9agT82CLQCT,3GZD6HmiNUhxXYf8Gch723,65OVbaJR5O1RmwOQx0875b,0hquQWY3xvYqN4qtiquniF,3k3NWokhRRkEPhCzPmV8TW,7qTaDOcld0VmBWXnkbUj45,4h9wh7iOZ0GGn8QVp4RAOB,4EWCNWgDS8707fNSZ1oaA5'"
      ]
     },
     "execution_count": 40,
     "metadata": {},
     "output_type": "execute_result"
    }
   ],
   "source": [
    "track_features_endpoint"
   ]
  },
  {
   "cell_type": "code",
   "execution_count": 41,
   "id": "81ae1937",
   "metadata": {},
   "outputs": [],
   "source": [
    "playlist_features = requests.get(track_features_endpoint, headers = session_header)"
   ]
  },
  {
   "cell_type": "code",
   "execution_count": 42,
   "id": "91eb0d76",
   "metadata": {},
   "outputs": [
    {
     "data": {
      "text/plain": [
       "200"
      ]
     },
     "execution_count": 42,
     "metadata": {},
     "output_type": "execute_result"
    }
   ],
   "source": [
    "playlist_features.status_code"
   ]
  },
  {
   "cell_type": "code",
   "execution_count": 43,
   "id": "7a5d1a8e",
   "metadata": {},
   "outputs": [],
   "source": [
    "playlist_dict = json.loads(playlist_features.text)"
   ]
  },
  {
   "cell_type": "code",
   "execution_count": 44,
   "id": "7e73f849",
   "metadata": {},
   "outputs": [
    {
     "data": {
      "text/plain": [
       "dict_keys(['audio_features'])"
      ]
     },
     "execution_count": 44,
     "metadata": {},
     "output_type": "execute_result"
    }
   ],
   "source": [
    "playlist_dict.keys()"
   ]
  },
  {
   "cell_type": "code",
   "execution_count": 45,
   "id": "11f906b3",
   "metadata": {},
   "outputs": [],
   "source": [
    "playlist_af = playlist_dict['audio_features']"
   ]
  },
  {
   "cell_type": "markdown",
   "id": "26d45b9d",
   "metadata": {},
   "source": [
    "I now have all 50 tracks ID features in a dictionary format. I will change it into a DataFrame."
   ]
  },
  {
   "cell_type": "code",
   "execution_count": 46,
   "id": "e01dc498",
   "metadata": {},
   "outputs": [],
   "source": [
    "playlist_df = pd.DataFrame(playlist_af)"
   ]
  },
  {
   "cell_type": "code",
   "execution_count": 47,
   "id": "2c481b6b",
   "metadata": {},
   "outputs": [
    {
     "data": {
      "text/html": [
       "<div>\n",
       "<style scoped>\n",
       "    .dataframe tbody tr th:only-of-type {\n",
       "        vertical-align: middle;\n",
       "    }\n",
       "\n",
       "    .dataframe tbody tr th {\n",
       "        vertical-align: top;\n",
       "    }\n",
       "\n",
       "    .dataframe thead th {\n",
       "        text-align: right;\n",
       "    }\n",
       "</style>\n",
       "<table border=\"1\" class=\"dataframe\">\n",
       "  <thead>\n",
       "    <tr style=\"text-align: right;\">\n",
       "      <th></th>\n",
       "      <th>danceability</th>\n",
       "      <th>energy</th>\n",
       "      <th>key</th>\n",
       "      <th>loudness</th>\n",
       "      <th>mode</th>\n",
       "      <th>speechiness</th>\n",
       "      <th>acousticness</th>\n",
       "      <th>instrumentalness</th>\n",
       "      <th>liveness</th>\n",
       "      <th>valence</th>\n",
       "      <th>tempo</th>\n",
       "      <th>type</th>\n",
       "      <th>id</th>\n",
       "      <th>uri</th>\n",
       "      <th>track_href</th>\n",
       "      <th>analysis_url</th>\n",
       "      <th>duration_ms</th>\n",
       "      <th>time_signature</th>\n",
       "    </tr>\n",
       "  </thead>\n",
       "  <tbody>\n",
       "    <tr>\n",
       "      <th>0</th>\n",
       "      <td>0.520</td>\n",
       "      <td>0.731</td>\n",
       "      <td>6</td>\n",
       "      <td>-5.338</td>\n",
       "      <td>0</td>\n",
       "      <td>0.0557</td>\n",
       "      <td>0.3420</td>\n",
       "      <td>0.001010</td>\n",
       "      <td>0.3110</td>\n",
       "      <td>0.662</td>\n",
       "      <td>173.930</td>\n",
       "      <td>audio_features</td>\n",
       "      <td>4Dvkj6JhhA12EX05fT7y2e</td>\n",
       "      <td>spotify:track:4Dvkj6JhhA12EX05fT7y2e</td>\n",
       "      <td>https://api.spotify.com/v1/tracks/4Dvkj6JhhA12...</td>\n",
       "      <td>https://api.spotify.com/v1/audio-analysis/4Dvk...</td>\n",
       "      <td>167303</td>\n",
       "      <td>4</td>\n",
       "    </tr>\n",
       "    <tr>\n",
       "      <th>1</th>\n",
       "      <td>0.761</td>\n",
       "      <td>0.525</td>\n",
       "      <td>11</td>\n",
       "      <td>-6.900</td>\n",
       "      <td>1</td>\n",
       "      <td>0.0944</td>\n",
       "      <td>0.4400</td>\n",
       "      <td>0.000007</td>\n",
       "      <td>0.0921</td>\n",
       "      <td>0.531</td>\n",
       "      <td>80.870</td>\n",
       "      <td>audio_features</td>\n",
       "      <td>02MWAaffLxlfxAUY7c5dvx</td>\n",
       "      <td>spotify:track:02MWAaffLxlfxAUY7c5dvx</td>\n",
       "      <td>https://api.spotify.com/v1/tracks/02MWAaffLxlf...</td>\n",
       "      <td>https://api.spotify.com/v1/audio-analysis/02MW...</td>\n",
       "      <td>238805</td>\n",
       "      <td>4</td>\n",
       "    </tr>\n",
       "    <tr>\n",
       "      <th>2</th>\n",
       "      <td>0.686</td>\n",
       "      <td>0.494</td>\n",
       "      <td>1</td>\n",
       "      <td>-7.093</td>\n",
       "      <td>1</td>\n",
       "      <td>0.0355</td>\n",
       "      <td>0.6130</td>\n",
       "      <td>0.000058</td>\n",
       "      <td>0.4020</td>\n",
       "      <td>0.700</td>\n",
       "      <td>168.946</td>\n",
       "      <td>audio_features</td>\n",
       "      <td>4k6Uh1HXdhtusDW5y8Gbvy</td>\n",
       "      <td>spotify:track:4k6Uh1HXdhtusDW5y8Gbvy</td>\n",
       "      <td>https://api.spotify.com/v1/tracks/4k6Uh1HXdhtu...</td>\n",
       "      <td>https://api.spotify.com/v1/audio-analysis/4k6U...</td>\n",
       "      <td>232067</td>\n",
       "      <td>4</td>\n",
       "    </tr>\n",
       "    <tr>\n",
       "      <th>3</th>\n",
       "      <td>0.911</td>\n",
       "      <td>0.712</td>\n",
       "      <td>1</td>\n",
       "      <td>-5.105</td>\n",
       "      <td>0</td>\n",
       "      <td>0.0817</td>\n",
       "      <td>0.0901</td>\n",
       "      <td>0.000027</td>\n",
       "      <td>0.0933</td>\n",
       "      <td>0.425</td>\n",
       "      <td>92.005</td>\n",
       "      <td>audio_features</td>\n",
       "      <td>6Sq7ltF9Qa7SNFBsV5Cogx</td>\n",
       "      <td>spotify:track:6Sq7ltF9Qa7SNFBsV5Cogx</td>\n",
       "      <td>https://api.spotify.com/v1/tracks/6Sq7ltF9Qa7S...</td>\n",
       "      <td>https://api.spotify.com/v1/audio-analysis/6Sq7...</td>\n",
       "      <td>178567</td>\n",
       "      <td>4</td>\n",
       "    </tr>\n",
       "    <tr>\n",
       "      <th>4</th>\n",
       "      <td>0.902</td>\n",
       "      <td>0.582</td>\n",
       "      <td>5</td>\n",
       "      <td>-5.902</td>\n",
       "      <td>0</td>\n",
       "      <td>0.1090</td>\n",
       "      <td>0.1110</td>\n",
       "      <td>0.000003</td>\n",
       "      <td>0.1110</td>\n",
       "      <td>0.332</td>\n",
       "      <td>107.005</td>\n",
       "      <td>audio_features</td>\n",
       "      <td>0wHFktze2PHC5jDt3B17DC</td>\n",
       "      <td>spotify:track:0wHFktze2PHC5jDt3B17DC</td>\n",
       "      <td>https://api.spotify.com/v1/tracks/0wHFktze2PHC...</td>\n",
       "      <td>https://api.spotify.com/v1/audio-analysis/0wHF...</td>\n",
       "      <td>173948</td>\n",
       "      <td>4</td>\n",
       "    </tr>\n",
       "  </tbody>\n",
       "</table>\n",
       "</div>"
      ],
      "text/plain": [
       "   danceability  energy  key  loudness  mode  speechiness  acousticness  \\\n",
       "0         0.520   0.731    6    -5.338     0       0.0557        0.3420   \n",
       "1         0.761   0.525   11    -6.900     1       0.0944        0.4400   \n",
       "2         0.686   0.494    1    -7.093     1       0.0355        0.6130   \n",
       "3         0.911   0.712    1    -5.105     0       0.0817        0.0901   \n",
       "4         0.902   0.582    5    -5.902     0       0.1090        0.1110   \n",
       "\n",
       "   instrumentalness  liveness  valence    tempo            type  \\\n",
       "0          0.001010    0.3110    0.662  173.930  audio_features   \n",
       "1          0.000007    0.0921    0.531   80.870  audio_features   \n",
       "2          0.000058    0.4020    0.700  168.946  audio_features   \n",
       "3          0.000027    0.0933    0.425   92.005  audio_features   \n",
       "4          0.000003    0.1110    0.332  107.005  audio_features   \n",
       "\n",
       "                       id                                   uri  \\\n",
       "0  4Dvkj6JhhA12EX05fT7y2e  spotify:track:4Dvkj6JhhA12EX05fT7y2e   \n",
       "1  02MWAaffLxlfxAUY7c5dvx  spotify:track:02MWAaffLxlfxAUY7c5dvx   \n",
       "2  4k6Uh1HXdhtusDW5y8Gbvy  spotify:track:4k6Uh1HXdhtusDW5y8Gbvy   \n",
       "3  6Sq7ltF9Qa7SNFBsV5Cogx  spotify:track:6Sq7ltF9Qa7SNFBsV5Cogx   \n",
       "4  0wHFktze2PHC5jDt3B17DC  spotify:track:0wHFktze2PHC5jDt3B17DC   \n",
       "\n",
       "                                          track_href  \\\n",
       "0  https://api.spotify.com/v1/tracks/4Dvkj6JhhA12...   \n",
       "1  https://api.spotify.com/v1/tracks/02MWAaffLxlf...   \n",
       "2  https://api.spotify.com/v1/tracks/4k6Uh1HXdhtu...   \n",
       "3  https://api.spotify.com/v1/tracks/6Sq7ltF9Qa7S...   \n",
       "4  https://api.spotify.com/v1/tracks/0wHFktze2PHC...   \n",
       "\n",
       "                                        analysis_url  duration_ms  \\\n",
       "0  https://api.spotify.com/v1/audio-analysis/4Dvk...       167303   \n",
       "1  https://api.spotify.com/v1/audio-analysis/02MW...       238805   \n",
       "2  https://api.spotify.com/v1/audio-analysis/4k6U...       232067   \n",
       "3  https://api.spotify.com/v1/audio-analysis/6Sq7...       178567   \n",
       "4  https://api.spotify.com/v1/audio-analysis/0wHF...       173948   \n",
       "\n",
       "   time_signature  \n",
       "0               4  \n",
       "1               4  \n",
       "2               4  \n",
       "3               4  \n",
       "4               4  "
      ]
     },
     "execution_count": 47,
     "metadata": {},
     "output_type": "execute_result"
    }
   ],
   "source": [
    "playlist_df.head()"
   ]
  },
  {
   "cell_type": "markdown",
   "id": "496e2fb5",
   "metadata": {},
   "source": [
    "Now I have to add each feature to the most_streamed_Songs DataFrame"
   ]
  },
  {
   "cell_type": "code",
   "execution_count": 48,
   "id": "958333b1",
   "metadata": {},
   "outputs": [],
   "source": [
    "most_streamed_Songs['danceability'] = playlist_df['danceability']\n",
    "most_streamed_Songs['energy'] = playlist_df['energy']\n",
    "most_streamed_Songs['key'] = playlist_df['key']\n",
    "most_streamed_Songs['loudness'] = playlist_df['loudness']\n",
    "most_streamed_Songs['mode'] = playlist_df['mode']\n",
    "most_streamed_Songs['speechiness'] = playlist_df['speechiness']\n",
    "most_streamed_Songs['acousticness'] = playlist_df['acousticness']\n",
    "most_streamed_Songs['instrumentalness'] = playlist_df['instrumentalness']\n",
    "most_streamed_Songs['liveness'] = playlist_df['liveness']\n",
    "most_streamed_Songs['valence'] = playlist_df['valence']\n",
    "most_streamed_Songs['tempo'] = playlist_df['tempo']\n",
    "most_streamed_Songs['id'] = playlist_df['id']\n",
    "most_streamed_Songs['duration_ms'] = playlist_df['duration_ms']\n",
    "most_streamed_Songs['time_signature'] = playlist_df['time_signature']"
   ]
  },
  {
   "cell_type": "code",
   "execution_count": 49,
   "id": "127ee432",
   "metadata": {},
   "outputs": [
    {
     "data": {
      "text/html": [
       "<div>\n",
       "<style scoped>\n",
       "    .dataframe tbody tr th:only-of-type {\n",
       "        vertical-align: middle;\n",
       "    }\n",
       "\n",
       "    .dataframe tbody tr th {\n",
       "        vertical-align: top;\n",
       "    }\n",
       "\n",
       "    .dataframe thead th {\n",
       "        text-align: right;\n",
       "    }\n",
       "</style>\n",
       "<table border=\"1\" class=\"dataframe\">\n",
       "  <thead>\n",
       "    <tr style=\"text-align: right;\">\n",
       "      <th></th>\n",
       "      <th>duration_ms</th>\n",
       "      <th>explicit</th>\n",
       "      <th>id</th>\n",
       "      <th>name</th>\n",
       "      <th>popularity</th>\n",
       "      <th>artists_name</th>\n",
       "      <th>album_type</th>\n",
       "      <th>album_name</th>\n",
       "      <th>album_release_date</th>\n",
       "      <th>danceability</th>\n",
       "      <th>...</th>\n",
       "      <th>key</th>\n",
       "      <th>loudness</th>\n",
       "      <th>mode</th>\n",
       "      <th>speechiness</th>\n",
       "      <th>acousticness</th>\n",
       "      <th>instrumentalness</th>\n",
       "      <th>liveness</th>\n",
       "      <th>valence</th>\n",
       "      <th>tempo</th>\n",
       "      <th>time_signature</th>\n",
       "    </tr>\n",
       "  </thead>\n",
       "  <tbody>\n",
       "    <tr>\n",
       "      <th>0</th>\n",
       "      <td>167303</td>\n",
       "      <td>False</td>\n",
       "      <td>4Dvkj6JhhA12EX05fT7y2e</td>\n",
       "      <td>As It Was</td>\n",
       "      <td>92</td>\n",
       "      <td>Harry Styles</td>\n",
       "      <td>album</td>\n",
       "      <td>Harry's House</td>\n",
       "      <td>2022-05-20</td>\n",
       "      <td>0.520</td>\n",
       "      <td>...</td>\n",
       "      <td>6</td>\n",
       "      <td>-5.338</td>\n",
       "      <td>0</td>\n",
       "      <td>0.0557</td>\n",
       "      <td>0.3420</td>\n",
       "      <td>0.001010</td>\n",
       "      <td>0.3110</td>\n",
       "      <td>0.662</td>\n",
       "      <td>173.930</td>\n",
       "      <td>4</td>\n",
       "    </tr>\n",
       "    <tr>\n",
       "      <th>1</th>\n",
       "      <td>238805</td>\n",
       "      <td>False</td>\n",
       "      <td>02MWAaffLxlfxAUY7c5dvx</td>\n",
       "      <td>Heat Waves</td>\n",
       "      <td>87</td>\n",
       "      <td>Glass Animals</td>\n",
       "      <td>album</td>\n",
       "      <td>Dreamland (+ Bonus Levels)</td>\n",
       "      <td>2020-08-06</td>\n",
       "      <td>0.761</td>\n",
       "      <td>...</td>\n",
       "      <td>11</td>\n",
       "      <td>-6.900</td>\n",
       "      <td>1</td>\n",
       "      <td>0.0944</td>\n",
       "      <td>0.4400</td>\n",
       "      <td>0.000007</td>\n",
       "      <td>0.0921</td>\n",
       "      <td>0.531</td>\n",
       "      <td>80.870</td>\n",
       "      <td>4</td>\n",
       "    </tr>\n",
       "    <tr>\n",
       "      <th>2</th>\n",
       "      <td>232067</td>\n",
       "      <td>True</td>\n",
       "      <td>4k6Uh1HXdhtusDW5y8Gbvy</td>\n",
       "      <td>Bad Habit</td>\n",
       "      <td>88</td>\n",
       "      <td>Steve Lacy</td>\n",
       "      <td>album</td>\n",
       "      <td>Gemini Rights</td>\n",
       "      <td>2022-07-15</td>\n",
       "      <td>0.686</td>\n",
       "      <td>...</td>\n",
       "      <td>1</td>\n",
       "      <td>-7.093</td>\n",
       "      <td>1</td>\n",
       "      <td>0.0355</td>\n",
       "      <td>0.6130</td>\n",
       "      <td>0.000058</td>\n",
       "      <td>0.4020</td>\n",
       "      <td>0.700</td>\n",
       "      <td>168.946</td>\n",
       "      <td>4</td>\n",
       "    </tr>\n",
       "    <tr>\n",
       "      <th>3</th>\n",
       "      <td>178567</td>\n",
       "      <td>True</td>\n",
       "      <td>6Sq7ltF9Qa7SNFBsV5Cogx</td>\n",
       "      <td>Me Porto Bonito</td>\n",
       "      <td>95</td>\n",
       "      <td>Bad Bunny</td>\n",
       "      <td>album</td>\n",
       "      <td>Un Verano Sin Ti</td>\n",
       "      <td>2022-05-06</td>\n",
       "      <td>0.911</td>\n",
       "      <td>...</td>\n",
       "      <td>1</td>\n",
       "      <td>-5.105</td>\n",
       "      <td>0</td>\n",
       "      <td>0.0817</td>\n",
       "      <td>0.0901</td>\n",
       "      <td>0.000027</td>\n",
       "      <td>0.0933</td>\n",
       "      <td>0.425</td>\n",
       "      <td>92.005</td>\n",
       "      <td>4</td>\n",
       "    </tr>\n",
       "    <tr>\n",
       "      <th>4</th>\n",
       "      <td>173948</td>\n",
       "      <td>True</td>\n",
       "      <td>0wHFktze2PHC5jDt3B17DC</td>\n",
       "      <td>First Class</td>\n",
       "      <td>85</td>\n",
       "      <td>Jack Harlow</td>\n",
       "      <td>album</td>\n",
       "      <td>Come Home The Kids Miss You</td>\n",
       "      <td>2022-05-06</td>\n",
       "      <td>0.902</td>\n",
       "      <td>...</td>\n",
       "      <td>5</td>\n",
       "      <td>-5.902</td>\n",
       "      <td>0</td>\n",
       "      <td>0.1090</td>\n",
       "      <td>0.1110</td>\n",
       "      <td>0.000003</td>\n",
       "      <td>0.1110</td>\n",
       "      <td>0.332</td>\n",
       "      <td>107.005</td>\n",
       "      <td>4</td>\n",
       "    </tr>\n",
       "  </tbody>\n",
       "</table>\n",
       "<p>5 rows × 21 columns</p>\n",
       "</div>"
      ],
      "text/plain": [
       "   duration_ms  explicit                      id             name  popularity  \\\n",
       "0       167303     False  4Dvkj6JhhA12EX05fT7y2e        As It Was          92   \n",
       "1       238805     False  02MWAaffLxlfxAUY7c5dvx       Heat Waves          87   \n",
       "2       232067      True  4k6Uh1HXdhtusDW5y8Gbvy        Bad Habit          88   \n",
       "3       178567      True  6Sq7ltF9Qa7SNFBsV5Cogx  Me Porto Bonito          95   \n",
       "4       173948      True  0wHFktze2PHC5jDt3B17DC      First Class          85   \n",
       "\n",
       "    artists_name album_type                   album_name album_release_date  \\\n",
       "0   Harry Styles      album                Harry's House         2022-05-20   \n",
       "1  Glass Animals      album   Dreamland (+ Bonus Levels)         2020-08-06   \n",
       "2     Steve Lacy      album                Gemini Rights         2022-07-15   \n",
       "3      Bad Bunny      album             Un Verano Sin Ti         2022-05-06   \n",
       "4    Jack Harlow      album  Come Home The Kids Miss You         2022-05-06   \n",
       "\n",
       "   danceability  ...  key  loudness  mode  speechiness  acousticness  \\\n",
       "0         0.520  ...    6    -5.338     0       0.0557        0.3420   \n",
       "1         0.761  ...   11    -6.900     1       0.0944        0.4400   \n",
       "2         0.686  ...    1    -7.093     1       0.0355        0.6130   \n",
       "3         0.911  ...    1    -5.105     0       0.0817        0.0901   \n",
       "4         0.902  ...    5    -5.902     0       0.1090        0.1110   \n",
       "\n",
       "   instrumentalness  liveness  valence    tempo  time_signature  \n",
       "0          0.001010    0.3110    0.662  173.930               4  \n",
       "1          0.000007    0.0921    0.531   80.870               4  \n",
       "2          0.000058    0.4020    0.700  168.946               4  \n",
       "3          0.000027    0.0933    0.425   92.005               4  \n",
       "4          0.000003    0.1110    0.332  107.005               4  \n",
       "\n",
       "[5 rows x 21 columns]"
      ]
     },
     "execution_count": 49,
     "metadata": {},
     "output_type": "execute_result"
    }
   ],
   "source": [
    "most_streamed_Songs.head()"
   ]
  },
  {
   "cell_type": "markdown",
   "id": "65eebc02",
   "metadata": {},
   "source": [
    "most_streamed_Songs.to_csv('most_streamed_Songs_2022.csv')"
   ]
  },
  {
   "cell_type": "markdown",
   "id": "bfe943e0",
   "metadata": {},
   "source": [
    "Lastly, I placed the most_streamed_Songs DataFrame into a csv file, in the cell above that I turned into a markdown cells, so I can rearrange and add columns I may use in the analysis. "
   ]
  },
  {
   "cell_type": "code",
   "execution_count": 50,
   "id": "117727bb",
   "metadata": {},
   "outputs": [],
   "source": [
    "The_2022_Most_Streamed = pd.read_csv('most_streamed_Songs_2022.csv', sep = ',')"
   ]
  },
  {
   "cell_type": "code",
   "execution_count": 51,
   "id": "d040bc9d",
   "metadata": {},
   "outputs": [
    {
     "data": {
      "text/html": [
       "<div>\n",
       "<style scoped>\n",
       "    .dataframe tbody tr th:only-of-type {\n",
       "        vertical-align: middle;\n",
       "    }\n",
       "\n",
       "    .dataframe tbody tr th {\n",
       "        vertical-align: top;\n",
       "    }\n",
       "\n",
       "    .dataframe thead th {\n",
       "        text-align: right;\n",
       "    }\n",
       "</style>\n",
       "<table border=\"1\" class=\"dataframe\">\n",
       "  <thead>\n",
       "    <tr style=\"text-align: right;\">\n",
       "      <th></th>\n",
       "      <th>rank_num</th>\n",
       "      <th>id</th>\n",
       "      <th>name</th>\n",
       "      <th>artists_name</th>\n",
       "      <th>album_name</th>\n",
       "      <th>explicit</th>\n",
       "      <th>time</th>\n",
       "      <th>seconds</th>\n",
       "      <th>lang</th>\n",
       "      <th>album_release_date</th>\n",
       "      <th>...</th>\n",
       "      <th>key</th>\n",
       "      <th>loudness</th>\n",
       "      <th>mode</th>\n",
       "      <th>speechiness</th>\n",
       "      <th>acousticness</th>\n",
       "      <th>instrumentalness</th>\n",
       "      <th>liveness</th>\n",
       "      <th>valence</th>\n",
       "      <th>tempo</th>\n",
       "      <th>popularity</th>\n",
       "    </tr>\n",
       "  </thead>\n",
       "  <tbody>\n",
       "    <tr>\n",
       "      <th>0</th>\n",
       "      <td>1</td>\n",
       "      <td>4Dvkj6JhhA12EX05fT7y2e</td>\n",
       "      <td>As It Was</td>\n",
       "      <td>Harry Styles</td>\n",
       "      <td>Harry's House</td>\n",
       "      <td>False</td>\n",
       "      <td>2:47</td>\n",
       "      <td>167</td>\n",
       "      <td>en</td>\n",
       "      <td>5/20/22</td>\n",
       "      <td>...</td>\n",
       "      <td>6</td>\n",
       "      <td>-5.338</td>\n",
       "      <td>0</td>\n",
       "      <td>0.0557</td>\n",
       "      <td>0.3420</td>\n",
       "      <td>0.001010</td>\n",
       "      <td>0.3110</td>\n",
       "      <td>0.662</td>\n",
       "      <td>173.930</td>\n",
       "      <td>92</td>\n",
       "    </tr>\n",
       "    <tr>\n",
       "      <th>1</th>\n",
       "      <td>2</td>\n",
       "      <td>02MWAaffLxlfxAUY7c5dvx</td>\n",
       "      <td>Heat Waves</td>\n",
       "      <td>Glass Animals</td>\n",
       "      <td>Dreamland (+ Bonus Levels)</td>\n",
       "      <td>False</td>\n",
       "      <td>3:59</td>\n",
       "      <td>239</td>\n",
       "      <td>en</td>\n",
       "      <td>8/6/20</td>\n",
       "      <td>...</td>\n",
       "      <td>11</td>\n",
       "      <td>-6.900</td>\n",
       "      <td>1</td>\n",
       "      <td>0.0944</td>\n",
       "      <td>0.4400</td>\n",
       "      <td>0.000007</td>\n",
       "      <td>0.0921</td>\n",
       "      <td>0.531</td>\n",
       "      <td>80.870</td>\n",
       "      <td>87</td>\n",
       "    </tr>\n",
       "    <tr>\n",
       "      <th>2</th>\n",
       "      <td>3</td>\n",
       "      <td>4k6Uh1HXdhtusDW5y8Gbvy</td>\n",
       "      <td>Bad Habit</td>\n",
       "      <td>Steve Lacy</td>\n",
       "      <td>Gemini Rights</td>\n",
       "      <td>True</td>\n",
       "      <td>3:52</td>\n",
       "      <td>232</td>\n",
       "      <td>en</td>\n",
       "      <td>7/15/22</td>\n",
       "      <td>...</td>\n",
       "      <td>1</td>\n",
       "      <td>-7.093</td>\n",
       "      <td>1</td>\n",
       "      <td>0.0355</td>\n",
       "      <td>0.6130</td>\n",
       "      <td>0.000058</td>\n",
       "      <td>0.4020</td>\n",
       "      <td>0.700</td>\n",
       "      <td>168.946</td>\n",
       "      <td>88</td>\n",
       "    </tr>\n",
       "    <tr>\n",
       "      <th>3</th>\n",
       "      <td>4</td>\n",
       "      <td>6Sq7ltF9Qa7SNFBsV5Cogx</td>\n",
       "      <td>Me Porto Bonito</td>\n",
       "      <td>Bad Bunny</td>\n",
       "      <td>Un Verano Sin Ti</td>\n",
       "      <td>True</td>\n",
       "      <td>2:59</td>\n",
       "      <td>179</td>\n",
       "      <td>sp</td>\n",
       "      <td>5/6/22</td>\n",
       "      <td>...</td>\n",
       "      <td>1</td>\n",
       "      <td>-5.105</td>\n",
       "      <td>0</td>\n",
       "      <td>0.0817</td>\n",
       "      <td>0.0901</td>\n",
       "      <td>0.000027</td>\n",
       "      <td>0.0933</td>\n",
       "      <td>0.425</td>\n",
       "      <td>92.005</td>\n",
       "      <td>95</td>\n",
       "    </tr>\n",
       "    <tr>\n",
       "      <th>4</th>\n",
       "      <td>5</td>\n",
       "      <td>0wHFktze2PHC5jDt3B17DC</td>\n",
       "      <td>First Class</td>\n",
       "      <td>Jack Harlow</td>\n",
       "      <td>Come Home The Kids Miss You</td>\n",
       "      <td>True</td>\n",
       "      <td>2:54</td>\n",
       "      <td>174</td>\n",
       "      <td>en</td>\n",
       "      <td>5/6/22</td>\n",
       "      <td>...</td>\n",
       "      <td>5</td>\n",
       "      <td>-5.902</td>\n",
       "      <td>0</td>\n",
       "      <td>0.1090</td>\n",
       "      <td>0.1110</td>\n",
       "      <td>0.000003</td>\n",
       "      <td>0.1110</td>\n",
       "      <td>0.332</td>\n",
       "      <td>107.005</td>\n",
       "      <td>85</td>\n",
       "    </tr>\n",
       "  </tbody>\n",
       "</table>\n",
       "<p>5 rows × 27 columns</p>\n",
       "</div>"
      ],
      "text/plain": [
       "   rank_num                      id             name   artists_name  \\\n",
       "0         1  4Dvkj6JhhA12EX05fT7y2e        As It Was   Harry Styles   \n",
       "1         2  02MWAaffLxlfxAUY7c5dvx       Heat Waves  Glass Animals   \n",
       "2         3  4k6Uh1HXdhtusDW5y8Gbvy        Bad Habit     Steve Lacy   \n",
       "3         4  6Sq7ltF9Qa7SNFBsV5Cogx  Me Porto Bonito      Bad Bunny   \n",
       "4         5  0wHFktze2PHC5jDt3B17DC      First Class    Jack Harlow   \n",
       "\n",
       "                    album_name  explicit  time  seconds lang  \\\n",
       "0                Harry's House     False  2:47      167   en   \n",
       "1   Dreamland (+ Bonus Levels)     False  3:59      239   en   \n",
       "2                Gemini Rights      True  3:52      232   en   \n",
       "3             Un Verano Sin Ti      True  2:59      179   sp   \n",
       "4  Come Home The Kids Miss You      True  2:54      174   en   \n",
       "\n",
       "  album_release_date  ...  key  loudness mode  speechiness  acousticness  \\\n",
       "0            5/20/22  ...    6    -5.338    0       0.0557        0.3420   \n",
       "1             8/6/20  ...   11    -6.900    1       0.0944        0.4400   \n",
       "2            7/15/22  ...    1    -7.093    1       0.0355        0.6130   \n",
       "3             5/6/22  ...    1    -5.105    0       0.0817        0.0901   \n",
       "4             5/6/22  ...    5    -5.902    0       0.1090        0.1110   \n",
       "\n",
       "   instrumentalness  liveness  valence    tempo  popularity  \n",
       "0          0.001010    0.3110    0.662  173.930          92  \n",
       "1          0.000007    0.0921    0.531   80.870          87  \n",
       "2          0.000058    0.4020    0.700  168.946          88  \n",
       "3          0.000027    0.0933    0.425   92.005          95  \n",
       "4          0.000003    0.1110    0.332  107.005          85  \n",
       "\n",
       "[5 rows x 27 columns]"
      ]
     },
     "execution_count": 51,
     "metadata": {},
     "output_type": "execute_result"
    }
   ],
   "source": [
    "The_2022_Most_Streamed.head()"
   ]
  },
  {
   "cell_type": "markdown",
   "id": "73328058",
   "metadata": {},
   "source": [
    "So before starting the analysis, here is the DataFrame I will use for collected information. I first have the rank_num that has the ranking number each song reached in 2022 streamed, \"As It Was\" being highest and \"Heartless\" being lowest. id is the song's identification number. I have the song's name, singer or singers, album it came from, if it's explicit or not, how long the songs were, language and release date. This information appears on the DataFrame, mostly for reference so I know what specific song I'm working with. The last section of columns are the audio features."
   ]
  },
  {
   "cell_type": "markdown",
   "id": "11d0dddb",
   "metadata": {},
   "source": [
    "I attempted to collect each songs streaming numbers, but because not every song was released in 2022, some songs released before 2022 appear to beat As It Was as most streamed. I haven't found a way to collect the specific amount of streams for each songs only from 2022. Also I don't think that that specific streaming number is important "
   ]
  },
  {
   "cell_type": "code",
   "execution_count": 52,
   "id": "0deed21b",
   "metadata": {},
   "outputs": [
    {
     "data": {
      "image/png": "[encoded data removed]",
      "text/plain": [
       "<Figure size 1080x1080 with 14 Axes>"
      ]
     },
     "metadata": {
      "needs_background": "light"
     },
     "output_type": "display_data"
    }
   ],
   "source": [
    "fig1, ax1 = plt.subplots(7, 2, layout = 'constrained') # (rows, columns)\n",
    "fig1.set_figwidth(15) #change width size of the table\n",
    "fig1.set_figheight(15) #change height size of the table\n",
    "ax1[0, 0].hist(The_2022_Most_Streamed['acousticness'], color = 'firebrick')\n",
    "ax1[0, 0].set_ylabel('# of Songs')\n",
    "ax1[0, 0].set_xlabel('Acousticness')\n",
    "ax1[0, 1].hist(The_2022_Most_Streamed['danceability'], color = 'orangered')\n",
    "ax1[0, 1].set_ylabel('# of Songs')\n",
    "ax1[0, 1].set_xlabel('Danceability')\n",
    "ax1[1, 0].hist(The_2022_Most_Streamed['energy'], color = 'chocolate')\n",
    "ax1[1, 0].set_ylabel('# of Songs')\n",
    "ax1[1, 0].set_xlabel('Energy')\n",
    "ax1[1, 1].hist(The_2022_Most_Streamed['instrumentalness'], color = 'orange')\n",
    "ax1[1, 1].set_ylabel('# of Songs')\n",
    "ax1[1, 1].set_xlabel('Instrumentalness')\n",
    "ax1[2, 0].hist(The_2022_Most_Streamed['key'], color = 'goldenrod')\n",
    "ax1[2, 0].set_ylabel('# of Songs')\n",
    "ax1[2, 0].set_xlabel('Key')\n",
    "ax1[2, 1].hist(The_2022_Most_Streamed['liveness'], color = 'yellowgreen')\n",
    "ax1[2, 1].set_ylabel('# of Songs')\n",
    "ax1[2, 1].set_xlabel('Liveness')\n",
    "ax1[3, 0].hist(The_2022_Most_Streamed['loudness'], color = 'lightgreen')\n",
    "ax1[3, 0].set_ylabel('# of Songs')\n",
    "ax1[3, 0].set_xlabel('Loudness')\n",
    "ax1[3, 1].hist(The_2022_Most_Streamed['mode'], color = 'turquoise')\n",
    "ax1[3, 1].set_ylabel('# of Songs')\n",
    "ax1[3, 1].set_xlabel('Mode')\n",
    "ax1[4, 0].hist(The_2022_Most_Streamed['speechiness'], color = 'skyblue')\n",
    "ax1[4, 0].set_ylabel('# of Songs')\n",
    "ax1[4, 0].set_xlabel('Speechiness')\n",
    "ax1[4, 1].hist(The_2022_Most_Streamed['tempo'], color = 'mediumpurple')\n",
    "ax1[4, 1].set_ylabel('# of Songs')\n",
    "ax1[4, 1].set_xlabel('Tempo')\n",
    "ax1[5, 0].hist(The_2022_Most_Streamed['time_signature'], color = 'hotpink')\n",
    "ax1[5, 0].set_ylabel('# of Songs')\n",
    "ax1[5, 0].set_xlabel('Time Signature')\n",
    "ax1[5, 1].hist(The_2022_Most_Streamed['valence'], color = 'lightpink')\n",
    "ax1[5, 1].set_ylabel('# of Songs')\n",
    "ax1[5, 1].set_xlabel('Valence')\n",
    "ax1[6, 0].hist(The_2022_Most_Streamed['seconds'], color = 'gray')\n",
    "ax1[6, 0].set_ylabel('# of Songs')\n",
    "ax1[6, 0].set_xlabel('Song Length')\n",
    "ax1[6, 1].hist(The_2022_Most_Streamed['lang'], color = 'black')\n",
    "ax1[6, 1].set_ylabel('# of Songs')\n",
    "ax1[6, 1].set_xlabel('Language')\n",
    "plt.show()"
   ]
  },
  {
   "cell_type": "markdown",
   "id": "96030d1b",
   "metadata": {},
   "source": [
    "https://developer.spotify.com/documentation/web-api/reference/#/operations/get-several-audio-features"
   ]
  },
  {
   "cell_type": "markdown",
   "id": "93d750f7",
   "metadata": {},
   "source": [
    "I used histograms to compare all 50 tracks categorized by Audio Features. \n",
    "- A majority of songs were not acoustic. \n",
    "- Songs were leaned more danceable and energetic. \n",
    "- A majority of songs were not instrumentally driven. \n",
    "- Most of the key of songs were in C.\n",
    "- A majority of the songs were studio recorded over and not live.\n",
    "- None of the songs were too loud. \n",
    "- More than 50% of the songs were in major while less than 50% were in minor.\n",
    "- A majority of the songs were non-speech. \n",
    "- Songs had less than 180 beats per minute with an exception of 2 songs.\n",
    "- Nearly every song had Time Signature of 4 beats per bar except for 3 songs. 2 songs had 3 beats per bar and one song had 1 beat per bar.\n",
    "- The valence score was a mixed amount, but a majority of songs having a 5 valence score. \n",
    "- Songs have mostly been around 2 minutes and 55 seconds, but mostly under 4 minutes and 30 seconds."
   ]
  },
  {
   "cell_type": "markdown",
   "id": "5e8418eb",
   "metadata": {},
   "source": [
    "Looking at what songs were popular this year and the audio features they all have can be beneficial for songwriters and musicians that want to make popular music. \n",
    "\n",
    "Histogram data for Audio Features such as Instrumentalness, Time Signature and Language at a glance allows the songwriters to know that more vocal heavy songs in English with a time signature of 4 beats per bar are more likely to trend over instrumental songs with a different time signature."
   ]
  },
  {
   "cell_type": "markdown",
   "id": "a40faf56",
   "metadata": {},
   "source": [
    "Other Audio Features such as Valence, Time Length and Tempo are a mixed bag. The best thing to do with those features is use the Stream ranking to see where the higher ranked songs landed for each Audio Track"
   ]
  },
  {
   "cell_type": "code",
   "execution_count": 53,
   "id": "b7b7da53",
   "metadata": {},
   "outputs": [],
   "source": [
    "Top_10_Streamed_2022 = The_2022_Most_Streamed.head(10)"
   ]
  },
  {
   "cell_type": "markdown",
   "id": "9724cb8d",
   "metadata": {},
   "source": [
    "I'm only going to get the data from the top 10 tracks"
   ]
  },
  {
   "cell_type": "code",
   "execution_count": 54,
   "id": "bfe6f703",
   "metadata": {},
   "outputs": [
    {
     "data": {
      "image/png": "[encoded data removed]",
      "text/plain": [
       "<Figure size 432x288 with 1 Axes>"
      ]
     },
     "metadata": {
      "needs_background": "light"
     },
     "output_type": "display_data"
    },
    {
     "data": {
      "image/png": "[encoded data removed]",
      "text/plain": [
       "<Figure size 432x288 with 1 Axes>"
      ]
     },
     "metadata": {
      "needs_background": "light"
     },
     "output_type": "display_data"
    },
    {
     "data": {
      "image/png": "[encoded data removed]",
      "text/plain": [
       "<Figure size 432x288 with 1 Axes>"
      ]
     },
     "metadata": {
      "needs_background": "light"
     },
     "output_type": "display_data"
    },
    {
     "data": {
      "image/png": "[encoded data removed]",
      "text/plain": [
       "<Figure size 432x288 with 1 Axes>"
      ]
     },
     "metadata": {
      "needs_background": "light"
     },
     "output_type": "display_data"
    }
   ],
   "source": [
    "fig1, ax1 = plt.subplots()\n",
    "ax1.scatter(Top_10_Streamed_2022['rank_num'], Top_10_Streamed_2022['valence'], label = 'Streamed Valence', color = 'lightpink')\n",
    "ax1.set_xlabel('Rank')\n",
    "ax1.set_ylabel('Valence')\n",
    "ax1.set_title('Relationship between Ranking and Valence of The Most Streamed Spotify Songs of 2022')\n",
    "ax1.legend()\n",
    "plt.plot(Top_10_Streamed_2022['rank_num'], Top_10_Streamed_2022['valence'],  color = 'whitesmoke')\n",
    "plt.show()\n",
    "\n",
    "fig2, ax2 = plt.subplots()\n",
    "ax2.scatter(Top_10_Streamed_2022['rank_num'], Top_10_Streamed_2022['tempo'], label = 'Streamed Tempo', color = 'mediumpurple')\n",
    "ax2.set_xlabel('Rank')\n",
    "ax2.set_ylabel('Tempo')\n",
    "ax2.set_title('Relationship between Ranking and Tempo of The Most Streamed Spotify Songs of 2022')\n",
    "ax2.legend()\n",
    "plt.plot(Top_10_Streamed_2022['rank_num'], Top_10_Streamed_2022['tempo'],  color = 'whitesmoke')\n",
    "plt.show()\n",
    "\n",
    "fig3, ax3 = plt.subplots()\n",
    "ax3.scatter(Top_10_Streamed_2022['rank_num'], Top_10_Streamed_2022['seconds'], label = 'Streamed Time Length', color = 'gray')\n",
    "ax3.set_xlabel('Rank')\n",
    "ax3.set_ylabel('Song Length in Second')\n",
    "ax3.set_title('Relationship between Ranking and Time Length of The Most Streamed Spotify Songs of 2022')\n",
    "ax3.legend()\n",
    "plt.plot(Top_10_Streamed_2022['rank_num'], Top_10_Streamed_2022['seconds'],  color = 'whitesmoke')\n",
    "plt.show()\n",
    "\n",
    "fig3, ax3 = plt.subplots()\n",
    "ax3.scatter(Top_10_Streamed_2022['rank_num'], Top_10_Streamed_2022['popularity'], label = 'Streamed Popularity', color = 'black')\n",
    "ax3.set_xlabel('Rank')\n",
    "ax3.set_ylabel('Song Poularity')\n",
    "ax3.set_title('Relationship between Ranking and Popularity of The Most Streamed Spotify Songs of 2022')\n",
    "ax3.legend()\n",
    "plt.plot(Top_10_Streamed_2022['rank_num'], Top_10_Streamed_2022['popularity'],  color = 'whitesmoke')\n",
    "plt.show()"
   ]
  }
 ],
 "metadata": {
  "kernelspec": {
   "display_name": "Python 3 (ipykernel)",
   "language": "python",
   "name": "python3"
  },
  "language_info": {
   "codemirror_mode": {
    "name": "ipython",
    "version": 3
   },
   "file_extension": ".py",
   "mimetype": "text/x-python",
   "name": "python",
   "nbconvert_exporter": "python",
   "pygments_lexer": "ipython3",
   "version": "3.10.4"
  }
 },
 "nbformat": 4,
 "nbformat_minor": 5
}
