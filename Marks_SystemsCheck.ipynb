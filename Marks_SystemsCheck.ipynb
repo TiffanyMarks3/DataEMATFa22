{
 "cells": [
  {
   "cell_type": "markdown",
   "id": "8b2bbba7",
   "metadata": {},
   "source": [
    "# Systems Check\n",
    "## Tiffany Marks  "
   ]
  },
  {
   "cell_type": "markdown",
   "id": "1f5c1ef0",
   "metadata": {},
   "source": [
    "**Data in Emerging Media EMAT 22110**"
   ]
  },
  {
   "cell_type": "markdown",
   "id": "6bf03881",
   "metadata": {},
   "source": [
    "_What do I hope to get out of this class?_"
   ]
  },
  {
   "cell_type": "markdown",
   "id": "c75ce3ab",
   "metadata": {},
   "source": [
    "***I want to get a better understanding of Python***\n",
    "~~and to get the credit~~"
   ]
  },
  {
   "cell_type": "markdown",
   "id": "8ec6a126",
   "metadata": {},
   "source": [
    "Here is a quote\n",
    "> \"I am the Lorax I speak for the trees\"\n",
    ">> -The Lorax (2012)\n",
    "\n",
    "Here are some Lists\n",
    "1. HTML \n",
    "2. CSS\n",
    "3. JavaScript\n",
    "\n",
    "- PhotoShop\n",
    "- Illustrator\n",
    "- After Effects\n",
    "\n",
    "A cat picture _this is not my cat_ ![A cat picture](https://icatcare.org/app/uploads/2018/07/Thinking-of-getting-a-cat.png)"
   ]
  },
  {
   "cell_type": "markdown",
   "id": "54ac3329",
   "metadata": {},
   "source": [
    "Variable Assignment"
   ]
  },
  {
   "cell_type": "code",
   "execution_count": 36,
   "id": "64d53c81",
   "metadata": {},
   "outputs": [
    {
     "name": "stdout",
     "output_type": "stream",
     "text": [
      "4\n"
     ]
    }
   ],
   "source": [
    "x = 4\n",
    "print(x)"
   ]
  },
  {
   "cell_type": "markdown",
   "id": "aaf9bf95",
   "metadata": {},
   "source": [
    "Basic For Loop"
   ]
  },
  {
   "cell_type": "code",
   "execution_count": 37,
   "id": "e2699b55",
   "metadata": {},
   "outputs": [
    {
     "name": "stdout",
     "output_type": "stream",
     "text": [
      "Monday\n",
      "Tuesday\n",
      "Wednesday\n"
     ]
    }
   ],
   "source": [
    "days = [\"Monday\", \"Tuesday\", \"Wednesday\"]\n",
    "for x in days:\n",
    "    print(x)"
   ]
  },
  {
   "cell_type": "markdown",
   "id": "667e4390",
   "metadata": {},
   "source": [
    "Print Statement"
   ]
  },
  {
   "cell_type": "code",
   "execution_count": 38,
   "id": "3eb4be39",
   "metadata": {},
   "outputs": [
    {
     "name": "stdout",
     "output_type": "stream",
     "text": [
      "I want candy\n"
     ]
    }
   ],
   "source": [
    "x = \"I want candy\"\n",
    "print(x)"
   ]
  },
  {
   "cell_type": "markdown",
   "id": "7971e093",
   "metadata": {},
   "source": [
    "Return Statement"
   ]
  },
  {
   "cell_type": "code",
   "execution_count": 39,
   "id": "4a6e6c49",
   "metadata": {},
   "outputs": [
    {
     "name": "stdout",
     "output_type": "stream",
     "text": [
      "5.25\n"
     ]
    }
   ],
   "source": [
    "def number(x):\n",
    "    return 5 / x + 4\n",
    "\n",
    "print(number(4))"
   ]
  }
 ],
 "metadata": {
  "kernelspec": {
   "display_name": "Python 3 (ipykernel)",
   "language": "python",
   "name": "python3"
  },
  "language_info": {
   "codemirror_mode": {
    "name": "ipython",
    "version": 3
   },
   "file_extension": ".py",
   "mimetype": "text/x-python",
   "name": "python",
   "nbconvert_exporter": "python",
   "pygments_lexer": "ipython3",
   "version": "3.10.4"
  }
 },
 "nbformat": 4,
 "nbformat_minor": 5
}
