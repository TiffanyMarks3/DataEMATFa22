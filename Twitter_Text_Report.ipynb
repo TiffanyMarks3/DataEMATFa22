{
 "cells": [
  {
   "cell_type": "markdown",
   "id": "33147997",
   "metadata": {},
   "source": [
    "# Twitter_Text_Report\n",
    "## Tiffany Marks\n",
    "## October 25, 2022"
   ]
  },
  {
   "cell_type": "code",
   "execution_count": 49,
   "id": "d8993ff9",
   "metadata": {},
   "outputs": [],
   "source": [
    "import pandas as pd\n",
    "import json\n",
    "import requests\n",
    "import urllib"
   ]
  },
  {
   "cell_type": "markdown",
   "id": "348a180b",
   "metadata": {},
   "source": [
    "importing things I need for this code"
   ]
  },
  {
   "cell_type": "markdown",
   "id": "57e7ff64",
   "metadata": {},
   "source": [
    "1. I created a Twitter Developer account and Twitter API v2 app"
   ]
  },
  {
   "cell_type": "code",
   "execution_count": 50,
   "id": "e9f7925f",
   "metadata": {},
   "outputs": [],
   "source": [
    "bearer_token = pd.read_csv(\"Twitter_Token_9-22-22\", header = 0)"
   ]
  },
  {
   "cell_type": "markdown",
   "id": "f8c21467",
   "metadata": {},
   "source": [
    "Put the bearer token in a file, then used pd.read_csv to read the bearer token, so the token is not opened in the code"
   ]
  },
  {
   "cell_type": "code",
   "execution_count": 51,
   "id": "e09462e1",
   "metadata": {},
   "outputs": [
    {
     "name": "stdout",
     "output_type": "stream",
     "text": [
      "1018_in-class_Spotify.ipynb\r\n",
      "EDdata_file.csv\r\n",
      "\u001b[34mInstagram miffanytarks_20220906\u001b[m\u001b[m/\r\n",
      "Lecture_8-30_inclass.ipynb\r\n",
      "Lecture_9-1_inclass.ipynb\r\n",
      "Marks_SystemsCheck.ipynb\r\n",
      "Oct04_in-class.ipynb\r\n",
      "Oct18_in-class.ipynb\r\n",
      "Sep6_in-class.ipynb\r\n",
      "Sep8_in-class.ipynb\r\n",
      "Sept22_in-class.ipynb\r\n",
      "Spotify-Keys_10-18-22\r\n",
      "Twitter_Text_Report.ipynb\r\n",
      "Twitter_Token_9-22-22\r\n",
      "_likes_Report.ipynb\r\n",
      "advertisers_who_uploaded_a_contact_list_with_your_information.json\r\n",
      "chinook.db\r\n",
      "\u001b[34mfacebook-100084961286231\u001b[m\u001b[m/\r\n",
      "fulldf.cvs\r\n",
      "fulldfSaved.cvs\r\n",
      "\u001b[34msqlite\u001b[m\u001b[m/\r\n"
     ]
    }
   ],
   "source": [
    "ls"
   ]
  },
  {
   "cell_type": "markdown",
   "id": "f2913228",
   "metadata": {},
   "source": [
    "ls reveals all the files in the DataInEmat22110 Folder"
   ]
  },
  {
   "cell_type": "code",
   "execution_count": 52,
   "id": "703576da",
   "metadata": {},
   "outputs": [],
   "source": [
    "head = {'Authorization':'Bearer {}'.format(bearer_token['Bearer_Token'].iloc[0])}"
   ]
  },
  {
   "cell_type": "code",
   "execution_count": 53,
   "id": "18dfee76",
   "metadata": {},
   "outputs": [],
   "source": [
    "endpoint = 'https://api.twitter.com/2/tweets/search/recent'"
   ]
  },
  {
   "cell_type": "markdown",
   "id": "27568404",
   "metadata": {},
   "source": [
    "head and endpoint are important as they are used for accessing the tweets\n",
    "\n",
    "2. d) search/recent endpoint is used"
   ]
  },
  {
   "cell_type": "code",
   "execution_count": 54,
   "id": "b418cdf4",
   "metadata": {},
   "outputs": [],
   "source": [
    "find = '((EDTWT OR \"Eating Disorder\" OR \"Disordered Eating\") lang:en -is:retweet)'"
   ]
  },
  {
   "cell_type": "markdown",
   "id": "1e3a829e",
   "metadata": {},
   "source": [
    "2. a) I recently discovered a community on Twitter that bonds over their shared Eating Disorders. I am interested in looking into this topic to get a better understanding of those with Eating Disorders, what the average EDTWT user is like, their mindset, and the ethics of a community that share and bond over their mental illness. "
   ]
  },
  {
   "cell_type": "markdown",
   "id": "61a8bc6b",
   "metadata": {},
   "source": [
    "2. b)I first added EDTWT to my query. The community and it's users tend to have \"EDTWT\", code for Eating Disorder Twitter, in their usernames and tweets so they reach out to other EDTWT community members. I added the phrase Eating Disorder and Disordered Eating so I can see the general conversation around eating disorders on Twitter from those outside the community, lang:en so I can only see English Tweets and removed any retweets so I will only get original tweets. \n",
    "\n",
    "Just to clarify, I don't have an eating disorder myself."
   ]
  },
  {
   "cell_type": "markdown",
   "id": "d1175847",
   "metadata": {},
   "source": [
    "With my Query, I want to search through the EDTWT community's posts and profiles. When going through this information I want to answer this question: Is allowing a community with a dangerous mental illness on a large social platform truly a negative or positive."
   ]
  },
  {
   "cell_type": "markdown",
   "id": "1c057823",
   "metadata": {},
   "source": [
    "referenece for query search\n",
    "\n",
    "https://developer.twitter.com/en/docs/twitter-api/tweets/search/integrate/build-a-query"
   ]
  },
  {
   "cell_type": "code",
   "execution_count": 55,
   "id": "4453a16d",
   "metadata": {},
   "outputs": [],
   "source": [
    "queery = urllib.parse.quote(find)\n",
    "expansions = 'author_id'\n",
    "tweet_fields = 'id,text,author_id,created_at,public_metrics,source'\n",
    "user_fields = 'id,name,username,created_at,description,verified'"
   ]
  },
  {
   "cell_type": "markdown",
   "id": "7e13514c",
   "metadata": {},
   "source": [
    "2. c) These are the response fields I want to have. Id is a default for both tweet and user fields. text will show me the tweet and those tweets will show what types of discussions are happening on Edtwet, author id will give me the id of the tweet poster, created_at reveals when the tweet was published for tweet.fields, so I will know what time the tweet was made, in the user.fields created_at will reveal how long the user's been on twitter. lang gives me the tweet language, public_metrics lets me see how popular the tweet is and source tells me what device the tweet came from. descriptions will reveal the users bio, and those will help me alot with learning about the EDTWT users. Lastly, Verified lets me know if the tweet comes from a verified twitter user. These response fields include the required fields: Author ID, Author Name, Public Metrics, Creation Time"
   ]
  },
  {
   "cell_type": "markdown",
   "id": "379b981d",
   "metadata": {},
   "source": [
    "reference for different response fields\n",
    "\n",
    "https://developer.twitter.com/en/docs/twitter-api/tweets/search/api-reference/get-tweets-search-recent"
   ]
  },
  {
   "cell_type": "code",
   "execution_count": 56,
   "id": "b171d8d7",
   "metadata": {},
   "outputs": [],
   "source": [
    "the_url = endpoint + '?query={}&expansions={}&tweet.fields={}&user.fields={}&max_results=100'.format(queery, expansions, tweet_fields, user_fields)"
   ]
  },
  {
   "cell_type": "markdown",
   "id": "91389875",
   "metadata": {},
   "source": [
    "The full url needed to find the tweets that I need. I added max_results so I can get up to 100 tweets per page instead of 10"
   ]
  },
  {
   "cell_type": "code",
   "execution_count": 57,
   "id": "30ecea32",
   "metadata": {},
   "outputs": [
    {
     "data": {
      "text/plain": [
       "'https://api.twitter.com/2/tweets/search/recent?query=%28%28EDTWT%20OR%20%22Eating%20Disorder%22%20OR%20%22Disordered%20Eating%22%29%20lang%3Aen%20-is%3Aretweet%29&expansions=author_id&tweet.fields=id,text,author_id,created_at,public_metrics,source&user.fields=id,name,username,created_at,description,verified&max_results=100'"
      ]
     },
     "execution_count": 57,
     "metadata": {},
     "output_type": "execute_result"
    }
   ],
   "source": [
    "the_url"
   ]
  },
  {
   "cell_type": "code",
   "execution_count": 58,
   "id": "ab51ce3e",
   "metadata": {},
   "outputs": [],
   "source": [
    "resp = requests.get(the_url, headers = head)"
   ]
  },
  {
   "cell_type": "markdown",
   "id": "3749d6b5",
   "metadata": {},
   "source": [
    "Get the url and the Bearer Token"
   ]
  },
  {
   "cell_type": "code",
   "execution_count": 59,
   "id": "11bb127f",
   "metadata": {},
   "outputs": [
    {
     "data": {
      "text/plain": [
       "200"
      ]
     },
     "execution_count": 59,
     "metadata": {},
     "output_type": "execute_result"
    }
   ],
   "source": [
    "resp.status_code"
   ]
  },
  {
   "cell_type": "markdown",
   "id": "de4533a0",
   "metadata": {},
   "source": [
    "Make sure there are no errors"
   ]
  },
  {
   "cell_type": "code",
   "execution_count": 60,
   "id": "48dfbef2",
   "metadata": {},
   "outputs": [],
   "source": [
    "resp_dict = json.loads(resp.text)"
   ]
  },
  {
   "cell_type": "markdown",
   "id": "1389a7bb",
   "metadata": {},
   "source": [
    "Loads all the data in dictionary format"
   ]
  },
  {
   "cell_type": "markdown",
   "id": "d049fa4c",
   "metadata": {},
   "source": [
    "I won't add many full dataframes, dictionaries or list, as they take up alot of the ipynb file and aren't nice to read. I'll use the .head() for most of the dataframes"
   ]
  },
  {
   "cell_type": "code",
   "execution_count": 61,
   "id": "f69f80ba",
   "metadata": {},
   "outputs": [
    {
     "data": {
      "text/plain": [
       "{'newest_id': '1585074649511395364',\n",
       " 'oldest_id': '1585067943192592384',\n",
       " 'result_count': 99,\n",
       " 'next_token': 'b26v89c19zqg8o3fpzeljilo75fczuupn7yddmzil6pod'}"
      ]
     },
     "execution_count": 61,
     "metadata": {},
     "output_type": "execute_result"
    }
   ],
   "source": [
    "resp_dict['meta']"
   ]
  },
  {
   "cell_type": "markdown",
   "id": "b2f473e8",
   "metadata": {},
   "source": [
    "Meta Data: Newest tweet id, oldest tweet id, # of tweets received and the Next Token"
   ]
  },
  {
   "cell_type": "markdown",
   "id": "cbb5c786",
   "metadata": {},
   "source": [
    "I want more than 98 results"
   ]
  },
  {
   "cell_type": "code",
   "execution_count": 62,
   "id": "a35a5416",
   "metadata": {},
   "outputs": [],
   "source": [
    "def search_repeat (query, num_pages, head):\n",
    "    resp_list = []\n",
    "    next_token = ''\n",
    "    for i in range(0, num_pages):\n",
    "        if i > 0:\n",
    "            this_query = query + \"&next_token={}\".format(next_token)\n",
    "        else:\n",
    "            this_query = query\n",
    "\n",
    "        this_resp = requests.get(this_query, headers = head)\n",
    "        print(this_resp.status_code)\n",
    "        this_resp_dict = json.loads(this_resp.text)\n",
    "        resp_list.append(this_resp_dict)\n",
    "        next_token = this_resp_dict['meta']['next_token']\n",
    "    \n",
    "    return resp_list"
   ]
  },
  {
   "cell_type": "markdown",
   "id": "5ca12afd",
   "metadata": {},
   "source": [
    "Function is instructed to grab 100 tweets based off the number of pages called"
   ]
  },
  {
   "cell_type": "code",
   "execution_count": 63,
   "id": "980c9205",
   "metadata": {},
   "outputs": [
    {
     "name": "stdout",
     "output_type": "stream",
     "text": [
      "200\n",
      "200\n",
      "200\n",
      "200\n"
     ]
    }
   ],
   "source": [
    "my_resp = search_repeat (the_url, 4, head)"
   ]
  },
  {
   "cell_type": "markdown",
   "id": "eb86d78b",
   "metadata": {},
   "source": [
    "2. e) Called 4 pages of 100 tweets each, grabbing only 3 will sometimes provide less than 300 tweets"
   ]
  },
  {
   "cell_type": "code",
   "execution_count": 64,
   "id": "6ae20a27",
   "metadata": {},
   "outputs": [],
   "source": [
    "resp_df = pd.DataFrame(my_resp)"
   ]
  },
  {
   "cell_type": "markdown",
   "id": "e84e64cb",
   "metadata": {},
   "source": [
    "DataFrame of all the information I requested in the query separated by keys for columns"
   ]
  },
  {
   "cell_type": "code",
   "execution_count": 65,
   "id": "99133f5e",
   "metadata": {},
   "outputs": [
    {
     "data": {
      "text/html": [
       "<div>\n",
       "<style scoped>\n",
       "    .dataframe tbody tr th:only-of-type {\n",
       "        vertical-align: middle;\n",
       "    }\n",
       "\n",
       "    .dataframe tbody tr th {\n",
       "        vertical-align: top;\n",
       "    }\n",
       "\n",
       "    .dataframe thead th {\n",
       "        text-align: right;\n",
       "    }\n",
       "</style>\n",
       "<table border=\"1\" class=\"dataframe\">\n",
       "  <thead>\n",
       "    <tr style=\"text-align: right;\">\n",
       "      <th></th>\n",
       "      <th>newest_id</th>\n",
       "      <th>oldest_id</th>\n",
       "      <th>result_count</th>\n",
       "      <th>next_token</th>\n",
       "    </tr>\n",
       "  </thead>\n",
       "  <tbody>\n",
       "    <tr>\n",
       "      <th>0</th>\n",
       "      <td>1585074649511395364</td>\n",
       "      <td>1585067943192592384</td>\n",
       "      <td>99</td>\n",
       "      <td>b26v89c19zqg8o3fpzeljilo75fczuupn7yddmzil6pod</td>\n",
       "    </tr>\n",
       "    <tr>\n",
       "      <th>1</th>\n",
       "      <td>1585067908622712832</td>\n",
       "      <td>1585062076753809408</td>\n",
       "      <td>99</td>\n",
       "      <td>b26v89c19zqg8o3fpzeljilnzie9bzu7ntn2zuc8yyd19</td>\n",
       "    </tr>\n",
       "    <tr>\n",
       "      <th>2</th>\n",
       "      <td>1585061932272607232</td>\n",
       "      <td>1585056258725675009</td>\n",
       "      <td>96</td>\n",
       "      <td>b26v89c19zqg8o3fpzeljildd5xprty7618343qbdgby5</td>\n",
       "    </tr>\n",
       "    <tr>\n",
       "      <th>3</th>\n",
       "      <td>1585056240522399744</td>\n",
       "      <td>1585050521035235330</td>\n",
       "      <td>97</td>\n",
       "      <td>b26v89c19zqg8o3fpzeljild42u72lc6r69116iiw8arh</td>\n",
       "    </tr>\n",
       "  </tbody>\n",
       "</table>\n",
       "</div>"
      ],
      "text/plain": [
       "             newest_id            oldest_id  result_count  \\\n",
       "0  1585074649511395364  1585067943192592384            99   \n",
       "1  1585067908622712832  1585062076753809408            99   \n",
       "2  1585061932272607232  1585056258725675009            96   \n",
       "3  1585056240522399744  1585050521035235330            97   \n",
       "\n",
       "                                      next_token  \n",
       "0  b26v89c19zqg8o3fpzeljilo75fczuupn7yddmzil6pod  \n",
       "1  b26v89c19zqg8o3fpzeljilnzie9bzu7ntn2zuc8yyd19  \n",
       "2  b26v89c19zqg8o3fpzeljildd5xprty7618343qbdgby5  \n",
       "3  b26v89c19zqg8o3fpzeljild42u72lc6r69116iiw8arh  "
      ]
     },
     "execution_count": 65,
     "metadata": {},
     "output_type": "execute_result"
    }
   ],
   "source": [
    "pd.DataFrame(list(resp_df['meta']))"
   ]
  },
  {
   "cell_type": "markdown",
   "id": "57ea8946",
   "metadata": {},
   "source": [
    "The meta key DataFrame is organized into columns: newest_id is the most recent tweet of the page's id and oldest_id is the oldest tweet of the page's id. result_count reveals how many tweets the page collected and next_token value means there is more data and tweets for collection."
   ]
  },
  {
   "cell_type": "code",
   "execution_count": 66,
   "id": "7c1e4d6a",
   "metadata": {},
   "outputs": [],
   "source": [
    "resp_list = list(resp_df['data'])"
   ]
  },
  {
   "cell_type": "markdown",
   "id": "680c207a",
   "metadata": {},
   "source": [
    "resp_list will hold a long list of all the information from resp_df's data key"
   ]
  },
  {
   "cell_type": "code",
   "execution_count": 67,
   "id": "10128f5c",
   "metadata": {},
   "outputs": [],
   "source": [
    "resp_list_list = [pd.DataFrame(x) for x in resp_list]"
   ]
  },
  {
   "cell_type": "markdown",
   "id": "57bb9471",
   "metadata": {},
   "source": [
    "resp_list_list will separate resp_list into different columns to look more organized"
   ]
  },
  {
   "cell_type": "code",
   "execution_count": 68,
   "id": "9712fa3f",
   "metadata": {},
   "outputs": [],
   "source": [
    "resp_data = pd.concat(resp_list_list)"
   ]
  },
  {
   "cell_type": "code",
   "execution_count": 69,
   "id": "78686427",
   "metadata": {},
   "outputs": [
    {
     "data": {
      "text/html": [
       "<div>\n",
       "<style scoped>\n",
       "    .dataframe tbody tr th:only-of-type {\n",
       "        vertical-align: middle;\n",
       "    }\n",
       "\n",
       "    .dataframe tbody tr th {\n",
       "        vertical-align: top;\n",
       "    }\n",
       "\n",
       "    .dataframe thead th {\n",
       "        text-align: right;\n",
       "    }\n",
       "</style>\n",
       "<table border=\"1\" class=\"dataframe\">\n",
       "  <thead>\n",
       "    <tr style=\"text-align: right;\">\n",
       "      <th></th>\n",
       "      <th>id</th>\n",
       "      <th>edit_history_tweet_ids</th>\n",
       "      <th>text</th>\n",
       "      <th>created_at</th>\n",
       "      <th>public_metrics</th>\n",
       "      <th>source</th>\n",
       "      <th>author_id</th>\n",
       "    </tr>\n",
       "  </thead>\n",
       "  <tbody>\n",
       "    <tr>\n",
       "      <th>0</th>\n",
       "      <td>1585074649511395364</td>\n",
       "      <td>[1585074649511395364]</td>\n",
       "      <td>Borzoi layout!!!\\n\\n☆ My name is Kat\\n☆ they/t...</td>\n",
       "      <td>2022-10-26T01:03:40.000Z</td>\n",
       "      <td>{'retweet_count': 0, 'reply_count': 0, 'like_c...</td>\n",
       "      <td>Twitter for Android</td>\n",
       "      <td>1521138170036998145</td>\n",
       "    </tr>\n",
       "    <tr>\n",
       "      <th>1</th>\n",
       "      <td>1585074345516277760</td>\n",
       "      <td>[1585074345516277760]</td>\n",
       "      <td>@shitassfuckkk edtwt has been so toxic lately ...</td>\n",
       "      <td>2022-10-26T01:02:27.000Z</td>\n",
       "      <td>{'retweet_count': 0, 'reply_count': 0, 'like_c...</td>\n",
       "      <td>Twitter for iPhone</td>\n",
       "      <td>1575277750482599938</td>\n",
       "    </tr>\n",
       "    <tr>\n",
       "      <th>2</th>\n",
       "      <td>1585074310913216512</td>\n",
       "      <td>[1585074310913216512]</td>\n",
       "      <td>@shitassfuckkk edtwt is so sad to see you too ...</td>\n",
       "      <td>2022-10-26T01:02:19.000Z</td>\n",
       "      <td>{'retweet_count': 0, 'reply_count': 0, 'like_c...</td>\n",
       "      <td>Twitter for iPhone</td>\n",
       "      <td>1314563219227373575</td>\n",
       "    </tr>\n",
       "    <tr>\n",
       "      <th>3</th>\n",
       "      <td>1585074201178034179</td>\n",
       "      <td>[1585074201178034179]</td>\n",
       "      <td>being both on edtwt and tcctwt, both sides hav...</td>\n",
       "      <td>2022-10-26T01:01:53.000Z</td>\n",
       "      <td>{'retweet_count': 0, 'reply_count': 0, 'like_c...</td>\n",
       "      <td>Twitter for iPhone</td>\n",
       "      <td>1267217136377720832</td>\n",
       "    </tr>\n",
       "    <tr>\n",
       "      <th>4</th>\n",
       "      <td>1585074197235396609</td>\n",
       "      <td>[1585074197235396609]</td>\n",
       "      <td>@shitassfuckkk edtwt is doing a good thing and...</td>\n",
       "      <td>2022-10-26T01:01:52.000Z</td>\n",
       "      <td>{'retweet_count': 0, 'reply_count': 0, 'like_c...</td>\n",
       "      <td>Twitter Web App</td>\n",
       "      <td>1536420223535947777</td>\n",
       "    </tr>\n",
       "  </tbody>\n",
       "</table>\n",
       "</div>"
      ],
      "text/plain": [
       "                    id edit_history_tweet_ids  \\\n",
       "0  1585074649511395364  [1585074649511395364]   \n",
       "1  1585074345516277760  [1585074345516277760]   \n",
       "2  1585074310913216512  [1585074310913216512]   \n",
       "3  1585074201178034179  [1585074201178034179]   \n",
       "4  1585074197235396609  [1585074197235396609]   \n",
       "\n",
       "                                                text  \\\n",
       "0  Borzoi layout!!!\\n\\n☆ My name is Kat\\n☆ they/t...   \n",
       "1  @shitassfuckkk edtwt has been so toxic lately ...   \n",
       "2  @shitassfuckkk edtwt is so sad to see you too ...   \n",
       "3  being both on edtwt and tcctwt, both sides hav...   \n",
       "4  @shitassfuckkk edtwt is doing a good thing and...   \n",
       "\n",
       "                 created_at  \\\n",
       "0  2022-10-26T01:03:40.000Z   \n",
       "1  2022-10-26T01:02:27.000Z   \n",
       "2  2022-10-26T01:02:19.000Z   \n",
       "3  2022-10-26T01:01:53.000Z   \n",
       "4  2022-10-26T01:01:52.000Z   \n",
       "\n",
       "                                      public_metrics               source  \\\n",
       "0  {'retweet_count': 0, 'reply_count': 0, 'like_c...  Twitter for Android   \n",
       "1  {'retweet_count': 0, 'reply_count': 0, 'like_c...   Twitter for iPhone   \n",
       "2  {'retweet_count': 0, 'reply_count': 0, 'like_c...   Twitter for iPhone   \n",
       "3  {'retweet_count': 0, 'reply_count': 0, 'like_c...   Twitter for iPhone   \n",
       "4  {'retweet_count': 0, 'reply_count': 0, 'like_c...      Twitter Web App   \n",
       "\n",
       "             author_id  \n",
       "0  1521138170036998145  \n",
       "1  1575277750482599938  \n",
       "2  1314563219227373575  \n",
       "3  1267217136377720832  \n",
       "4  1536420223535947777  "
      ]
     },
     "execution_count": 69,
     "metadata": {},
     "output_type": "execute_result"
    }
   ],
   "source": [
    "resp_data.head()"
   ]
  },
  {
   "cell_type": "markdown",
   "id": "f68cf2a7",
   "metadata": {},
   "source": [
    "resp_data uses pd.concat to make resp_list_list into a better looking dataframe"
   ]
  },
  {
   "cell_type": "code",
   "execution_count": 70,
   "id": "ea227a25",
   "metadata": {},
   "outputs": [],
   "source": [
    "public_resp = pd.DataFrame(list(resp_data['public_metrics']))"
   ]
  },
  {
   "cell_type": "code",
   "execution_count": 71,
   "id": "9cd43802",
   "metadata": {},
   "outputs": [
    {
     "data": {
      "text/html": [
       "<div>\n",
       "<style scoped>\n",
       "    .dataframe tbody tr th:only-of-type {\n",
       "        vertical-align: middle;\n",
       "    }\n",
       "\n",
       "    .dataframe tbody tr th {\n",
       "        vertical-align: top;\n",
       "    }\n",
       "\n",
       "    .dataframe thead th {\n",
       "        text-align: right;\n",
       "    }\n",
       "</style>\n",
       "<table border=\"1\" class=\"dataframe\">\n",
       "  <thead>\n",
       "    <tr style=\"text-align: right;\">\n",
       "      <th></th>\n",
       "      <th>retweet_count</th>\n",
       "      <th>reply_count</th>\n",
       "      <th>like_count</th>\n",
       "      <th>quote_count</th>\n",
       "    </tr>\n",
       "  </thead>\n",
       "  <tbody>\n",
       "    <tr>\n",
       "      <th>0</th>\n",
       "      <td>0</td>\n",
       "      <td>0</td>\n",
       "      <td>0</td>\n",
       "      <td>0</td>\n",
       "    </tr>\n",
       "    <tr>\n",
       "      <th>1</th>\n",
       "      <td>0</td>\n",
       "      <td>0</td>\n",
       "      <td>0</td>\n",
       "      <td>0</td>\n",
       "    </tr>\n",
       "    <tr>\n",
       "      <th>2</th>\n",
       "      <td>0</td>\n",
       "      <td>0</td>\n",
       "      <td>0</td>\n",
       "      <td>0</td>\n",
       "    </tr>\n",
       "    <tr>\n",
       "      <th>3</th>\n",
       "      <td>0</td>\n",
       "      <td>0</td>\n",
       "      <td>0</td>\n",
       "      <td>0</td>\n",
       "    </tr>\n",
       "    <tr>\n",
       "      <th>4</th>\n",
       "      <td>0</td>\n",
       "      <td>0</td>\n",
       "      <td>0</td>\n",
       "      <td>0</td>\n",
       "    </tr>\n",
       "  </tbody>\n",
       "</table>\n",
       "</div>"
      ],
      "text/plain": [
       "   retweet_count  reply_count  like_count  quote_count\n",
       "0              0            0           0            0\n",
       "1              0            0           0            0\n",
       "2              0            0           0            0\n",
       "3              0            0           0            0\n",
       "4              0            0           0            0"
      ]
     },
     "execution_count": 71,
     "metadata": {},
     "output_type": "execute_result"
    }
   ],
   "source": [
    "public_resp.head()"
   ]
  },
  {
   "cell_type": "markdown",
   "id": "35f36186",
   "metadata": {},
   "source": [
    "Separated the public metrics information"
   ]
  },
  {
   "cell_type": "code",
   "execution_count": 72,
   "id": "bb645fae",
   "metadata": {},
   "outputs": [],
   "source": [
    "resp_data['retweets'] = public_resp['retweet_count']\n",
    "resp_data['replies'] = public_resp['reply_count']\n",
    "resp_data['likes'] = public_resp['like_count']\n",
    "resp_data['quotes'] = public_resp['quote_count']"
   ]
  },
  {
   "cell_type": "markdown",
   "id": "6a753ee7",
   "metadata": {},
   "source": [
    "Here I'm adding the public_resp columns to resp_data "
   ]
  },
  {
   "cell_type": "code",
   "execution_count": 73,
   "id": "cb55ce3f",
   "metadata": {},
   "outputs": [
    {
     "data": {
      "text/html": [
       "<div>\n",
       "<style scoped>\n",
       "    .dataframe tbody tr th:only-of-type {\n",
       "        vertical-align: middle;\n",
       "    }\n",
       "\n",
       "    .dataframe tbody tr th {\n",
       "        vertical-align: top;\n",
       "    }\n",
       "\n",
       "    .dataframe thead th {\n",
       "        text-align: right;\n",
       "    }\n",
       "</style>\n",
       "<table border=\"1\" class=\"dataframe\">\n",
       "  <thead>\n",
       "    <tr style=\"text-align: right;\">\n",
       "      <th></th>\n",
       "      <th>id</th>\n",
       "      <th>edit_history_tweet_ids</th>\n",
       "      <th>text</th>\n",
       "      <th>created_at</th>\n",
       "      <th>public_metrics</th>\n",
       "      <th>source</th>\n",
       "      <th>author_id</th>\n",
       "      <th>retweets</th>\n",
       "      <th>replies</th>\n",
       "      <th>likes</th>\n",
       "      <th>quotes</th>\n",
       "    </tr>\n",
       "  </thead>\n",
       "  <tbody>\n",
       "    <tr>\n",
       "      <th>0</th>\n",
       "      <td>1585074649511395364</td>\n",
       "      <td>[1585074649511395364]</td>\n",
       "      <td>Borzoi layout!!!\\n\\n☆ My name is Kat\\n☆ they/t...</td>\n",
       "      <td>2022-10-26T01:03:40.000Z</td>\n",
       "      <td>{'retweet_count': 0, 'reply_count': 0, 'like_c...</td>\n",
       "      <td>Twitter for Android</td>\n",
       "      <td>1521138170036998145</td>\n",
       "      <td>0</td>\n",
       "      <td>0</td>\n",
       "      <td>0</td>\n",
       "      <td>0</td>\n",
       "    </tr>\n",
       "    <tr>\n",
       "      <th>1</th>\n",
       "      <td>1585074345516277760</td>\n",
       "      <td>[1585074345516277760]</td>\n",
       "      <td>@shitassfuckkk edtwt has been so toxic lately ...</td>\n",
       "      <td>2022-10-26T01:02:27.000Z</td>\n",
       "      <td>{'retweet_count': 0, 'reply_count': 0, 'like_c...</td>\n",
       "      <td>Twitter for iPhone</td>\n",
       "      <td>1575277750482599938</td>\n",
       "      <td>0</td>\n",
       "      <td>0</td>\n",
       "      <td>0</td>\n",
       "      <td>0</td>\n",
       "    </tr>\n",
       "    <tr>\n",
       "      <th>2</th>\n",
       "      <td>1585074310913216512</td>\n",
       "      <td>[1585074310913216512]</td>\n",
       "      <td>@shitassfuckkk edtwt is so sad to see you too ...</td>\n",
       "      <td>2022-10-26T01:02:19.000Z</td>\n",
       "      <td>{'retweet_count': 0, 'reply_count': 0, 'like_c...</td>\n",
       "      <td>Twitter for iPhone</td>\n",
       "      <td>1314563219227373575</td>\n",
       "      <td>0</td>\n",
       "      <td>0</td>\n",
       "      <td>0</td>\n",
       "      <td>0</td>\n",
       "    </tr>\n",
       "    <tr>\n",
       "      <th>3</th>\n",
       "      <td>1585074201178034179</td>\n",
       "      <td>[1585074201178034179]</td>\n",
       "      <td>being both on edtwt and tcctwt, both sides hav...</td>\n",
       "      <td>2022-10-26T01:01:53.000Z</td>\n",
       "      <td>{'retweet_count': 0, 'reply_count': 0, 'like_c...</td>\n",
       "      <td>Twitter for iPhone</td>\n",
       "      <td>1267217136377720832</td>\n",
       "      <td>0</td>\n",
       "      <td>0</td>\n",
       "      <td>0</td>\n",
       "      <td>0</td>\n",
       "    </tr>\n",
       "    <tr>\n",
       "      <th>4</th>\n",
       "      <td>1585074197235396609</td>\n",
       "      <td>[1585074197235396609]</td>\n",
       "      <td>@shitassfuckkk edtwt is doing a good thing and...</td>\n",
       "      <td>2022-10-26T01:01:52.000Z</td>\n",
       "      <td>{'retweet_count': 0, 'reply_count': 0, 'like_c...</td>\n",
       "      <td>Twitter Web App</td>\n",
       "      <td>1536420223535947777</td>\n",
       "      <td>0</td>\n",
       "      <td>0</td>\n",
       "      <td>0</td>\n",
       "      <td>0</td>\n",
       "    </tr>\n",
       "  </tbody>\n",
       "</table>\n",
       "</div>"
      ],
      "text/plain": [
       "                    id edit_history_tweet_ids  \\\n",
       "0  1585074649511395364  [1585074649511395364]   \n",
       "1  1585074345516277760  [1585074345516277760]   \n",
       "2  1585074310913216512  [1585074310913216512]   \n",
       "3  1585074201178034179  [1585074201178034179]   \n",
       "4  1585074197235396609  [1585074197235396609]   \n",
       "\n",
       "                                                text  \\\n",
       "0  Borzoi layout!!!\\n\\n☆ My name is Kat\\n☆ they/t...   \n",
       "1  @shitassfuckkk edtwt has been so toxic lately ...   \n",
       "2  @shitassfuckkk edtwt is so sad to see you too ...   \n",
       "3  being both on edtwt and tcctwt, both sides hav...   \n",
       "4  @shitassfuckkk edtwt is doing a good thing and...   \n",
       "\n",
       "                 created_at  \\\n",
       "0  2022-10-26T01:03:40.000Z   \n",
       "1  2022-10-26T01:02:27.000Z   \n",
       "2  2022-10-26T01:02:19.000Z   \n",
       "3  2022-10-26T01:01:53.000Z   \n",
       "4  2022-10-26T01:01:52.000Z   \n",
       "\n",
       "                                      public_metrics               source  \\\n",
       "0  {'retweet_count': 0, 'reply_count': 0, 'like_c...  Twitter for Android   \n",
       "1  {'retweet_count': 0, 'reply_count': 0, 'like_c...   Twitter for iPhone   \n",
       "2  {'retweet_count': 0, 'reply_count': 0, 'like_c...   Twitter for iPhone   \n",
       "3  {'retweet_count': 0, 'reply_count': 0, 'like_c...   Twitter for iPhone   \n",
       "4  {'retweet_count': 0, 'reply_count': 0, 'like_c...      Twitter Web App   \n",
       "\n",
       "             author_id  retweets  replies  likes  quotes  \n",
       "0  1521138170036998145         0        0      0       0  \n",
       "1  1575277750482599938         0        0      0       0  \n",
       "2  1314563219227373575         0        0      0       0  \n",
       "3  1267217136377720832         0        0      0       0  \n",
       "4  1536420223535947777         0        0      0       0  "
      ]
     },
     "execution_count": 73,
     "metadata": {},
     "output_type": "execute_result"
    }
   ],
   "source": [
    "resp_data.head()"
   ]
  },
  {
   "cell_type": "code",
   "execution_count": 74,
   "id": "a6718e33",
   "metadata": {},
   "outputs": [],
   "source": [
    "full_data_df = resp_data.drop(columns = ['id', 'edit_history_tweet_ids', 'public_metrics'])"
   ]
  },
  {
   "cell_type": "code",
   "execution_count": 75,
   "id": "0cf966dd",
   "metadata": {},
   "outputs": [
    {
     "data": {
      "text/html": [
       "<div>\n",
       "<style scoped>\n",
       "    .dataframe tbody tr th:only-of-type {\n",
       "        vertical-align: middle;\n",
       "    }\n",
       "\n",
       "    .dataframe tbody tr th {\n",
       "        vertical-align: top;\n",
       "    }\n",
       "\n",
       "    .dataframe thead th {\n",
       "        text-align: right;\n",
       "    }\n",
       "</style>\n",
       "<table border=\"1\" class=\"dataframe\">\n",
       "  <thead>\n",
       "    <tr style=\"text-align: right;\">\n",
       "      <th></th>\n",
       "      <th>text</th>\n",
       "      <th>created_at</th>\n",
       "      <th>source</th>\n",
       "      <th>author_id</th>\n",
       "      <th>retweets</th>\n",
       "      <th>replies</th>\n",
       "      <th>likes</th>\n",
       "      <th>quotes</th>\n",
       "    </tr>\n",
       "  </thead>\n",
       "  <tbody>\n",
       "    <tr>\n",
       "      <th>0</th>\n",
       "      <td>Borzoi layout!!!\\n\\n☆ My name is Kat\\n☆ they/t...</td>\n",
       "      <td>2022-10-26T01:03:40.000Z</td>\n",
       "      <td>Twitter for Android</td>\n",
       "      <td>1521138170036998145</td>\n",
       "      <td>0</td>\n",
       "      <td>0</td>\n",
       "      <td>0</td>\n",
       "      <td>0</td>\n",
       "    </tr>\n",
       "    <tr>\n",
       "      <th>1</th>\n",
       "      <td>@shitassfuckkk edtwt has been so toxic lately ...</td>\n",
       "      <td>2022-10-26T01:02:27.000Z</td>\n",
       "      <td>Twitter for iPhone</td>\n",
       "      <td>1575277750482599938</td>\n",
       "      <td>0</td>\n",
       "      <td>0</td>\n",
       "      <td>0</td>\n",
       "      <td>0</td>\n",
       "    </tr>\n",
       "    <tr>\n",
       "      <th>2</th>\n",
       "      <td>@shitassfuckkk edtwt is so sad to see you too ...</td>\n",
       "      <td>2022-10-26T01:02:19.000Z</td>\n",
       "      <td>Twitter for iPhone</td>\n",
       "      <td>1314563219227373575</td>\n",
       "      <td>0</td>\n",
       "      <td>0</td>\n",
       "      <td>0</td>\n",
       "      <td>0</td>\n",
       "    </tr>\n",
       "    <tr>\n",
       "      <th>3</th>\n",
       "      <td>being both on edtwt and tcctwt, both sides hav...</td>\n",
       "      <td>2022-10-26T01:01:53.000Z</td>\n",
       "      <td>Twitter for iPhone</td>\n",
       "      <td>1267217136377720832</td>\n",
       "      <td>0</td>\n",
       "      <td>0</td>\n",
       "      <td>0</td>\n",
       "      <td>0</td>\n",
       "    </tr>\n",
       "    <tr>\n",
       "      <th>4</th>\n",
       "      <td>@shitassfuckkk edtwt is doing a good thing and...</td>\n",
       "      <td>2022-10-26T01:01:52.000Z</td>\n",
       "      <td>Twitter Web App</td>\n",
       "      <td>1536420223535947777</td>\n",
       "      <td>0</td>\n",
       "      <td>0</td>\n",
       "      <td>0</td>\n",
       "      <td>0</td>\n",
       "    </tr>\n",
       "  </tbody>\n",
       "</table>\n",
       "</div>"
      ],
      "text/plain": [
       "                                                text  \\\n",
       "0  Borzoi layout!!!\\n\\n☆ My name is Kat\\n☆ they/t...   \n",
       "1  @shitassfuckkk edtwt has been so toxic lately ...   \n",
       "2  @shitassfuckkk edtwt is so sad to see you too ...   \n",
       "3  being both on edtwt and tcctwt, both sides hav...   \n",
       "4  @shitassfuckkk edtwt is doing a good thing and...   \n",
       "\n",
       "                 created_at               source            author_id  \\\n",
       "0  2022-10-26T01:03:40.000Z  Twitter for Android  1521138170036998145   \n",
       "1  2022-10-26T01:02:27.000Z   Twitter for iPhone  1575277750482599938   \n",
       "2  2022-10-26T01:02:19.000Z   Twitter for iPhone  1314563219227373575   \n",
       "3  2022-10-26T01:01:53.000Z   Twitter for iPhone  1267217136377720832   \n",
       "4  2022-10-26T01:01:52.000Z      Twitter Web App  1536420223535947777   \n",
       "\n",
       "   retweets  replies  likes  quotes  \n",
       "0         0        0      0       0  \n",
       "1         0        0      0       0  \n",
       "2         0        0      0       0  \n",
       "3         0        0      0       0  \n",
       "4         0        0      0       0  "
      ]
     },
     "execution_count": 75,
     "metadata": {},
     "output_type": "execute_result"
    }
   ],
   "source": [
    "full_data_df.head()"
   ]
  },
  {
   "cell_type": "markdown",
   "id": "dd50cbe9",
   "metadata": {},
   "source": [
    "I removed public metrics column, since i took all its info and separated it, and I don't need id or edit_history_tweet_ids"
   ]
  },
  {
   "cell_type": "code",
   "execution_count": 76,
   "id": "627db362",
   "metadata": {},
   "outputs": [
    {
     "data": {
      "text/plain": [
       "391"
      ]
     },
     "execution_count": 76,
     "metadata": {},
     "output_type": "execute_result"
    }
   ],
   "source": [
    "len(resp_data.index)"
   ]
  },
  {
   "cell_type": "code",
   "execution_count": 77,
   "id": "bd8d08a4",
   "metadata": {},
   "outputs": [],
   "source": [
    "resp_incl_list = list(resp_df['includes'])"
   ]
  },
  {
   "cell_type": "markdown",
   "id": "ff60d1b0",
   "metadata": {},
   "source": [
    "resp_incl_list will hold a long list of all the information in resp_df's include key"
   ]
  },
  {
   "cell_type": "code",
   "execution_count": 78,
   "id": "709fad39",
   "metadata": {},
   "outputs": [],
   "source": [
    "resp_incl_list_list = [pd.DataFrame(x) for x in resp_incl_list]"
   ]
  },
  {
   "cell_type": "markdown",
   "id": "8331a05a",
   "metadata": {},
   "source": [
    "resp_incl_list_list will separate resp_incl_list into different columns to look more organized"
   ]
  },
  {
   "cell_type": "code",
   "execution_count": 79,
   "id": "be05ec56",
   "metadata": {},
   "outputs": [],
   "source": [
    "resp_includes = pd.concat(resp_incl_list_list)"
   ]
  },
  {
   "cell_type": "code",
   "execution_count": 80,
   "id": "10290da4",
   "metadata": {},
   "outputs": [
    {
     "data": {
      "text/html": [
       "<div>\n",
       "<style scoped>\n",
       "    .dataframe tbody tr th:only-of-type {\n",
       "        vertical-align: middle;\n",
       "    }\n",
       "\n",
       "    .dataframe tbody tr th {\n",
       "        vertical-align: top;\n",
       "    }\n",
       "\n",
       "    .dataframe thead th {\n",
       "        text-align: right;\n",
       "    }\n",
       "</style>\n",
       "<table border=\"1\" class=\"dataframe\">\n",
       "  <thead>\n",
       "    <tr style=\"text-align: right;\">\n",
       "      <th></th>\n",
       "      <th>users</th>\n",
       "    </tr>\n",
       "  </thead>\n",
       "  <tbody>\n",
       "    <tr>\n",
       "      <th>0</th>\n",
       "      <td>{'name': 'KAT 🎃🕸 got s worded 😔✊', 'created_at...</td>\n",
       "    </tr>\n",
       "    <tr>\n",
       "      <th>1</th>\n",
       "      <td>{'name': 'REXIE!!', 'created_at': '2022-09-29T...</td>\n",
       "    </tr>\n",
       "    <tr>\n",
       "      <th>2</th>\n",
       "      <td>{'name': '𝑝𝑖𝑢 𝑝𝑖𝑢 ☆', 'created_at': '2020-10-0...</td>\n",
       "    </tr>\n",
       "    <tr>\n",
       "      <th>3</th>\n",
       "      <td>{'name': 'crakplug', 'created_at': '2020-05-31...</td>\n",
       "    </tr>\n",
       "    <tr>\n",
       "      <th>4</th>\n",
       "      <td>{'name': 'gray♡ //edtwt', 'created_at': '2022-...</td>\n",
       "    </tr>\n",
       "  </tbody>\n",
       "</table>\n",
       "</div>"
      ],
      "text/plain": [
       "                                               users\n",
       "0  {'name': 'KAT 🎃🕸 got s worded 😔✊', 'created_at...\n",
       "1  {'name': 'REXIE!!', 'created_at': '2022-09-29T...\n",
       "2  {'name': '𝑝𝑖𝑢 𝑝𝑖𝑢 ☆', 'created_at': '2020-10-0...\n",
       "3  {'name': 'crakplug', 'created_at': '2020-05-31...\n",
       "4  {'name': 'gray♡ //edtwt', 'created_at': '2022-..."
      ]
     },
     "execution_count": 80,
     "metadata": {},
     "output_type": "execute_result"
    }
   ],
   "source": [
    "resp_includes.head()"
   ]
  },
  {
   "cell_type": "code",
   "execution_count": 81,
   "id": "0d56546b",
   "metadata": {},
   "outputs": [],
   "source": [
    "resp_users = pd.DataFrame(list(resp_includes['users']))"
   ]
  },
  {
   "cell_type": "code",
   "execution_count": 82,
   "id": "73dbe8a7",
   "metadata": {},
   "outputs": [
    {
     "data": {
      "text/html": [
       "<div>\n",
       "<style scoped>\n",
       "    .dataframe tbody tr th:only-of-type {\n",
       "        vertical-align: middle;\n",
       "    }\n",
       "\n",
       "    .dataframe tbody tr th {\n",
       "        vertical-align: top;\n",
       "    }\n",
       "\n",
       "    .dataframe thead th {\n",
       "        text-align: right;\n",
       "    }\n",
       "</style>\n",
       "<table border=\"1\" class=\"dataframe\">\n",
       "  <thead>\n",
       "    <tr style=\"text-align: right;\">\n",
       "      <th></th>\n",
       "      <th>name</th>\n",
       "      <th>created_at</th>\n",
       "      <th>username</th>\n",
       "      <th>id</th>\n",
       "      <th>description</th>\n",
       "      <th>verified</th>\n",
       "    </tr>\n",
       "  </thead>\n",
       "  <tbody>\n",
       "    <tr>\n",
       "      <th>0</th>\n",
       "      <td>KAT 🎃🕸 got s worded 😔✊</td>\n",
       "      <td>2022-05-02T14:43:07.000Z</td>\n",
       "      <td>kiwibirdcals</td>\n",
       "      <td>1521138170036998145</td>\n",
       "      <td>they/them || a mischievous fella, hooligan eve...</td>\n",
       "      <td>False</td>\n",
       "    </tr>\n",
       "    <tr>\n",
       "      <th>1</th>\n",
       "      <td>REXIE!!</td>\n",
       "      <td>2022-09-29T00:14:27.000Z</td>\n",
       "      <td>girlinurwalls</td>\n",
       "      <td>1575277750482599938</td>\n",
       "      <td>15, she/her, edtwt, bpdtwt, shtwt, south asian</td>\n",
       "      <td>False</td>\n",
       "    </tr>\n",
       "    <tr>\n",
       "      <th>2</th>\n",
       "      <td>𝑝𝑖𝑢 𝑝𝑖𝑢 ☆</td>\n",
       "      <td>2020-10-09T13:47:56.000Z</td>\n",
       "      <td>Hooni_kin</td>\n",
       "      <td>1314563219227373575</td>\n",
       "      <td>sw- 154.5 || cw- ??? || gw- 120.0 || ugw- 100....</td>\n",
       "      <td>False</td>\n",
       "    </tr>\n",
       "    <tr>\n",
       "      <th>3</th>\n",
       "      <td>crakplug</td>\n",
       "      <td>2020-05-31T22:11:35.000Z</td>\n",
       "      <td>crakplug</td>\n",
       "      <td>1267217136377720832</td>\n",
       "      <td>ur reg 5’5 latina into theoretical physics</td>\n",
       "      <td>False</td>\n",
       "    </tr>\n",
       "    <tr>\n",
       "      <th>4</th>\n",
       "      <td>gray♡ //edtwt</td>\n",
       "      <td>2022-06-13T18:48:35.000Z</td>\n",
       "      <td>iamst4rv1ng</td>\n",
       "      <td>1536420223535947777</td>\n",
       "      <td>bmi: 24 -any pronouns idc- 4'10- im 13</td>\n",
       "      <td>False</td>\n",
       "    </tr>\n",
       "  </tbody>\n",
       "</table>\n",
       "</div>"
      ],
      "text/plain": [
       "                     name                created_at       username  \\\n",
       "0  KAT 🎃🕸 got s worded 😔✊  2022-05-02T14:43:07.000Z   kiwibirdcals   \n",
       "1                 REXIE!!  2022-09-29T00:14:27.000Z  girlinurwalls   \n",
       "2               𝑝𝑖𝑢 𝑝𝑖𝑢 ☆  2020-10-09T13:47:56.000Z      Hooni_kin   \n",
       "3                crakplug  2020-05-31T22:11:35.000Z       crakplug   \n",
       "4           gray♡ //edtwt  2022-06-13T18:48:35.000Z    iamst4rv1ng   \n",
       "\n",
       "                    id                                        description  \\\n",
       "0  1521138170036998145  they/them || a mischievous fella, hooligan eve...   \n",
       "1  1575277750482599938     15, she/her, edtwt, bpdtwt, shtwt, south asian   \n",
       "2  1314563219227373575  sw- 154.5 || cw- ??? || gw- 120.0 || ugw- 100....   \n",
       "3  1267217136377720832         ur reg 5’5 latina into theoretical physics   \n",
       "4  1536420223535947777             bmi: 24 -any pronouns idc- 4'10- im 13   \n",
       "\n",
       "   verified  \n",
       "0     False  \n",
       "1     False  \n",
       "2     False  \n",
       "3     False  \n",
       "4     False  "
      ]
     },
     "execution_count": 82,
     "metadata": {},
     "output_type": "execute_result"
    }
   ],
   "source": [
    "resp_users.head()"
   ]
  },
  {
   "cell_type": "markdown",
   "id": "4d93c2a1",
   "metadata": {},
   "source": [
    "After using pd.concat to organize the data into a dataframe, I had to split the information in the user column into their own columns using the list() function"
   ]
  },
  {
   "cell_type": "code",
   "execution_count": 83,
   "id": "b615a994",
   "metadata": {},
   "outputs": [],
   "source": [
    "full_data_df['user_created'] = resp_users['created_at']\n",
    "full_data_df['verified'] = resp_users['verified']\n",
    "full_data_df['user'] = resp_users['username']\n",
    "full_data_df['name'] = resp_users['name']\n",
    "full_data_df['bio'] = resp_users['description']"
   ]
  },
  {
   "cell_type": "markdown",
   "id": "5e44ac43",
   "metadata": {},
   "source": [
    "Adding resp_users to the full_data_df"
   ]
  },
  {
   "cell_type": "code",
   "execution_count": 84,
   "id": "dbdbcf2f",
   "metadata": {},
   "outputs": [],
   "source": [
    "full_df = pd.DataFrame(full_data_df)"
   ]
  },
  {
   "cell_type": "code",
   "execution_count": 85,
   "id": "7dfce2e1",
   "metadata": {},
   "outputs": [
    {
     "data": {
      "text/html": [
       "<div>\n",
       "<style scoped>\n",
       "    .dataframe tbody tr th:only-of-type {\n",
       "        vertical-align: middle;\n",
       "    }\n",
       "\n",
       "    .dataframe tbody tr th {\n",
       "        vertical-align: top;\n",
       "    }\n",
       "\n",
       "    .dataframe thead th {\n",
       "        text-align: right;\n",
       "    }\n",
       "</style>\n",
       "<table border=\"1\" class=\"dataframe\">\n",
       "  <thead>\n",
       "    <tr style=\"text-align: right;\">\n",
       "      <th></th>\n",
       "      <th>text</th>\n",
       "      <th>created_at</th>\n",
       "      <th>source</th>\n",
       "      <th>author_id</th>\n",
       "      <th>retweets</th>\n",
       "      <th>replies</th>\n",
       "      <th>likes</th>\n",
       "      <th>quotes</th>\n",
       "      <th>user_created</th>\n",
       "      <th>verified</th>\n",
       "      <th>user</th>\n",
       "      <th>name</th>\n",
       "      <th>bio</th>\n",
       "    </tr>\n",
       "  </thead>\n",
       "  <tbody>\n",
       "    <tr>\n",
       "      <th>0</th>\n",
       "      <td>Borzoi layout!!!\\n\\n☆ My name is Kat\\n☆ they/t...</td>\n",
       "      <td>2022-10-26T01:03:40.000Z</td>\n",
       "      <td>Twitter for Android</td>\n",
       "      <td>1521138170036998145</td>\n",
       "      <td>0</td>\n",
       "      <td>0</td>\n",
       "      <td>0</td>\n",
       "      <td>0</td>\n",
       "      <td>2022-05-02T14:43:07.000Z</td>\n",
       "      <td>False</td>\n",
       "      <td>kiwibirdcals</td>\n",
       "      <td>KAT 🎃🕸 got s worded 😔✊</td>\n",
       "      <td>they/them || a mischievous fella, hooligan eve...</td>\n",
       "    </tr>\n",
       "    <tr>\n",
       "      <th>1</th>\n",
       "      <td>@shitassfuckkk edtwt has been so toxic lately ...</td>\n",
       "      <td>2022-10-26T01:02:27.000Z</td>\n",
       "      <td>Twitter for iPhone</td>\n",
       "      <td>1575277750482599938</td>\n",
       "      <td>0</td>\n",
       "      <td>0</td>\n",
       "      <td>0</td>\n",
       "      <td>0</td>\n",
       "      <td>2022-09-29T00:14:27.000Z</td>\n",
       "      <td>False</td>\n",
       "      <td>girlinurwalls</td>\n",
       "      <td>REXIE!!</td>\n",
       "      <td>15, she/her, edtwt, bpdtwt, shtwt, south asian</td>\n",
       "    </tr>\n",
       "    <tr>\n",
       "      <th>2</th>\n",
       "      <td>@shitassfuckkk edtwt is so sad to see you too ...</td>\n",
       "      <td>2022-10-26T01:02:19.000Z</td>\n",
       "      <td>Twitter for iPhone</td>\n",
       "      <td>1314563219227373575</td>\n",
       "      <td>0</td>\n",
       "      <td>0</td>\n",
       "      <td>0</td>\n",
       "      <td>0</td>\n",
       "      <td>2020-10-09T13:47:56.000Z</td>\n",
       "      <td>False</td>\n",
       "      <td>Hooni_kin</td>\n",
       "      <td>𝑝𝑖𝑢 𝑝𝑖𝑢 ☆</td>\n",
       "      <td>sw- 154.5 || cw- ??? || gw- 120.0 || ugw- 100....</td>\n",
       "    </tr>\n",
       "    <tr>\n",
       "      <th>3</th>\n",
       "      <td>being both on edtwt and tcctwt, both sides hav...</td>\n",
       "      <td>2022-10-26T01:01:53.000Z</td>\n",
       "      <td>Twitter for iPhone</td>\n",
       "      <td>1267217136377720832</td>\n",
       "      <td>0</td>\n",
       "      <td>0</td>\n",
       "      <td>0</td>\n",
       "      <td>0</td>\n",
       "      <td>2020-05-31T22:11:35.000Z</td>\n",
       "      <td>False</td>\n",
       "      <td>crakplug</td>\n",
       "      <td>crakplug</td>\n",
       "      <td>ur reg 5’5 latina into theoretical physics</td>\n",
       "    </tr>\n",
       "    <tr>\n",
       "      <th>4</th>\n",
       "      <td>@shitassfuckkk edtwt is doing a good thing and...</td>\n",
       "      <td>2022-10-26T01:01:52.000Z</td>\n",
       "      <td>Twitter Web App</td>\n",
       "      <td>1536420223535947777</td>\n",
       "      <td>0</td>\n",
       "      <td>0</td>\n",
       "      <td>0</td>\n",
       "      <td>0</td>\n",
       "      <td>2022-06-13T18:48:35.000Z</td>\n",
       "      <td>False</td>\n",
       "      <td>iamst4rv1ng</td>\n",
       "      <td>gray♡ //edtwt</td>\n",
       "      <td>bmi: 24 -any pronouns idc- 4'10- im 13</td>\n",
       "    </tr>\n",
       "  </tbody>\n",
       "</table>\n",
       "</div>"
      ],
      "text/plain": [
       "                                                text  \\\n",
       "0  Borzoi layout!!!\\n\\n☆ My name is Kat\\n☆ they/t...   \n",
       "1  @shitassfuckkk edtwt has been so toxic lately ...   \n",
       "2  @shitassfuckkk edtwt is so sad to see you too ...   \n",
       "3  being both on edtwt and tcctwt, both sides hav...   \n",
       "4  @shitassfuckkk edtwt is doing a good thing and...   \n",
       "\n",
       "                 created_at               source            author_id  \\\n",
       "0  2022-10-26T01:03:40.000Z  Twitter for Android  1521138170036998145   \n",
       "1  2022-10-26T01:02:27.000Z   Twitter for iPhone  1575277750482599938   \n",
       "2  2022-10-26T01:02:19.000Z   Twitter for iPhone  1314563219227373575   \n",
       "3  2022-10-26T01:01:53.000Z   Twitter for iPhone  1267217136377720832   \n",
       "4  2022-10-26T01:01:52.000Z      Twitter Web App  1536420223535947777   \n",
       "\n",
       "   retweets  replies  likes  quotes              user_created  verified  \\\n",
       "0         0        0      0       0  2022-05-02T14:43:07.000Z     False   \n",
       "1         0        0      0       0  2022-09-29T00:14:27.000Z     False   \n",
       "2         0        0      0       0  2020-10-09T13:47:56.000Z     False   \n",
       "3         0        0      0       0  2020-05-31T22:11:35.000Z     False   \n",
       "4         0        0      0       0  2022-06-13T18:48:35.000Z     False   \n",
       "\n",
       "            user                    name  \\\n",
       "0   kiwibirdcals  KAT 🎃🕸 got s worded 😔✊   \n",
       "1  girlinurwalls                 REXIE!!   \n",
       "2      Hooni_kin               𝑝𝑖𝑢 𝑝𝑖𝑢 ☆   \n",
       "3       crakplug                crakplug   \n",
       "4    iamst4rv1ng           gray♡ //edtwt   \n",
       "\n",
       "                                                 bio  \n",
       "0  they/them || a mischievous fella, hooligan eve...  \n",
       "1     15, she/her, edtwt, bpdtwt, shtwt, south asian  \n",
       "2  sw- 154.5 || cw- ??? || gw- 120.0 || ugw- 100....  \n",
       "3         ur reg 5’5 latina into theoretical physics  \n",
       "4             bmi: 24 -any pronouns idc- 4'10- im 13  "
      ]
     },
     "execution_count": 85,
     "metadata": {},
     "output_type": "execute_result"
    }
   ],
   "source": [
    "full_df.head()"
   ]
  },
  {
   "cell_type": "code",
   "execution_count": 86,
   "id": "79f2efd0",
   "metadata": {},
   "outputs": [
    {
     "data": {
      "text/plain": [
       "391"
      ]
     },
     "execution_count": 86,
     "metadata": {},
     "output_type": "execute_result"
    }
   ],
   "source": [
    "len(full_df)"
   ]
  },
  {
   "cell_type": "code",
   "execution_count": 87,
   "id": "ee2b7002",
   "metadata": {},
   "outputs": [],
   "source": [
    "full_df.to_csv('fulldf.cvs', encoding='utf-8', index = False, header= True)"
   ]
  },
  {
   "cell_type": "markdown",
   "id": "1e08ae32",
   "metadata": {},
   "source": [
    "3. b) Exported the full_df to a csv file. Next made a copy of the csv file so I will be able to refer to this specifc full_df dataframe I collected at 7:13pm since running all the cells refreshes the dataframes with new data."
   ]
  },
  {
   "cell_type": "code",
   "execution_count": 88,
   "id": "8eb314da",
   "metadata": {},
   "outputs": [],
   "source": [
    "full_complete_df = pd.read_csv('fulldfSaved.cvs')"
   ]
  },
  {
   "cell_type": "code",
   "execution_count": 89,
   "id": "fcae9de4",
   "metadata": {},
   "outputs": [
    {
     "data": {
      "text/html": [
       "<div>\n",
       "<style scoped>\n",
       "    .dataframe tbody tr th:only-of-type {\n",
       "        vertical-align: middle;\n",
       "    }\n",
       "\n",
       "    .dataframe tbody tr th {\n",
       "        vertical-align: top;\n",
       "    }\n",
       "\n",
       "    .dataframe thead th {\n",
       "        text-align: right;\n",
       "    }\n",
       "</style>\n",
       "<table border=\"1\" class=\"dataframe\">\n",
       "  <thead>\n",
       "    <tr style=\"text-align: right;\">\n",
       "      <th></th>\n",
       "      <th>author_id</th>\n",
       "      <th>created_at</th>\n",
       "      <th>source</th>\n",
       "      <th>text</th>\n",
       "      <th>retweets</th>\n",
       "      <th>replies</th>\n",
       "      <th>likes</th>\n",
       "      <th>quotes</th>\n",
       "      <th>user_created</th>\n",
       "      <th>verified</th>\n",
       "      <th>user</th>\n",
       "      <th>name</th>\n",
       "      <th>bio</th>\n",
       "    </tr>\n",
       "  </thead>\n",
       "  <tbody>\n",
       "    <tr>\n",
       "      <th>0</th>\n",
       "      <td>1581508991049297920</td>\n",
       "      <td>2022-10-25T23:23:17.000Z</td>\n",
       "      <td>Twitter for iPhone</td>\n",
       "      <td>@shitassfuckkk edtwt is so cute i she is just ...</td>\n",
       "      <td>0</td>\n",
       "      <td>0</td>\n",
       "      <td>0</td>\n",
       "      <td>0</td>\n",
       "      <td>2022-10-16T04:55:10.000Z</td>\n",
       "      <td>False</td>\n",
       "      <td>mewo24517129</td>\n",
       "      <td>aubrey / shtwt edtwt</td>\n",
       "      <td>18 she/her autistic and a raging lesbian !!!NO...</td>\n",
       "    </tr>\n",
       "    <tr>\n",
       "      <th>1</th>\n",
       "      <td>1335241265223438337</td>\n",
       "      <td>2022-10-25T23:23:11.000Z</td>\n",
       "      <td>Twitter for iPad</td>\n",
       "      <td>edtwt watch disgusting mukbangs they make me w...</td>\n",
       "      <td>0</td>\n",
       "      <td>0</td>\n",
       "      <td>0</td>\n",
       "      <td>0</td>\n",
       "      <td>2020-12-05T15:15:07.000Z</td>\n",
       "      <td>False</td>\n",
       "      <td>fifidrms</td>\n",
       "      <td>🎞 fifi</td>\n",
       "      <td>#143ILOVEYOU 🍂 edtwt only , idc if ur fatphobic</td>\n",
       "    </tr>\n",
       "    <tr>\n",
       "      <th>2</th>\n",
       "      <td>1514172907672461316</td>\n",
       "      <td>2022-10-25T23:23:04.000Z</td>\n",
       "      <td>Twitter for iPhone</td>\n",
       "      <td>developing an eating disorder is the best thin...</td>\n",
       "      <td>0</td>\n",
       "      <td>0</td>\n",
       "      <td>0</td>\n",
       "      <td>0</td>\n",
       "      <td>2022-04-13T09:25:39.000Z</td>\n",
       "      <td>False</td>\n",
       "      <td>b1nion</td>\n",
       "      <td>binion</td>\n",
       "      <td>good mythical schmorning</td>\n",
       "    </tr>\n",
       "    <tr>\n",
       "      <th>3</th>\n",
       "      <td>1560220350771871744</td>\n",
       "      <td>2022-10-25T23:22:52.000Z</td>\n",
       "      <td>Twitter for iPhone</td>\n",
       "      <td>edtwt proana ricecaketwt anatwt thinspo fatspo...</td>\n",
       "      <td>0</td>\n",
       "      <td>0</td>\n",
       "      <td>0</td>\n",
       "      <td>0</td>\n",
       "      <td>2022-08-18T11:01:39.000Z</td>\n",
       "      <td>False</td>\n",
       "      <td>celimilum</td>\n",
       "      <td>celine 🐰</td>\n",
       "      <td>read carrd byf ! ♡</td>\n",
       "    </tr>\n",
       "    <tr>\n",
       "      <th>4</th>\n",
       "      <td>1564700974052163584</td>\n",
       "      <td>2022-10-25T23:22:30.000Z</td>\n",
       "      <td>Twitter for iPad</td>\n",
       "      <td>@shitassfuckkk edtwt is so cute I just wish sh...</td>\n",
       "      <td>0</td>\n",
       "      <td>0</td>\n",
       "      <td>0</td>\n",
       "      <td>0</td>\n",
       "      <td>2022-08-30T19:46:10.000Z</td>\n",
       "      <td>False</td>\n",
       "      <td>doe_eyed_babey</td>\n",
       "      <td>Brynne | relapse time | 5.6/65</td>\n",
       "      <td>lw 104 cw 179 ugw 110 I’m 5’5.5 dni fatphobes</td>\n",
       "    </tr>\n",
       "  </tbody>\n",
       "</table>\n",
       "</div>"
      ],
      "text/plain": [
       "             author_id                created_at              source  \\\n",
       "0  1581508991049297920  2022-10-25T23:23:17.000Z  Twitter for iPhone   \n",
       "1  1335241265223438337  2022-10-25T23:23:11.000Z    Twitter for iPad   \n",
       "2  1514172907672461316  2022-10-25T23:23:04.000Z  Twitter for iPhone   \n",
       "3  1560220350771871744  2022-10-25T23:22:52.000Z  Twitter for iPhone   \n",
       "4  1564700974052163584  2022-10-25T23:22:30.000Z    Twitter for iPad   \n",
       "\n",
       "                                                text  retweets  replies  \\\n",
       "0  @shitassfuckkk edtwt is so cute i she is just ...         0        0   \n",
       "1  edtwt watch disgusting mukbangs they make me w...         0        0   \n",
       "2  developing an eating disorder is the best thin...         0        0   \n",
       "3  edtwt proana ricecaketwt anatwt thinspo fatspo...         0        0   \n",
       "4  @shitassfuckkk edtwt is so cute I just wish sh...         0        0   \n",
       "\n",
       "   likes  quotes              user_created  verified            user  \\\n",
       "0      0       0  2022-10-16T04:55:10.000Z     False    mewo24517129   \n",
       "1      0       0  2020-12-05T15:15:07.000Z     False        fifidrms   \n",
       "2      0       0  2022-04-13T09:25:39.000Z     False          b1nion   \n",
       "3      0       0  2022-08-18T11:01:39.000Z     False       celimilum   \n",
       "4      0       0  2022-08-30T19:46:10.000Z     False  doe_eyed_babey   \n",
       "\n",
       "                             name  \\\n",
       "0            aubrey / shtwt edtwt   \n",
       "1                          🎞 fifi   \n",
       "2                          binion   \n",
       "3                        celine 🐰   \n",
       "4  Brynne | relapse time | 5.6/65   \n",
       "\n",
       "                                                 bio  \n",
       "0  18 she/her autistic and a raging lesbian !!!NO...  \n",
       "1    #143ILOVEYOU 🍂 edtwt only , idc if ur fatphobic  \n",
       "2                           good mythical schmorning  \n",
       "3                                 read carrd byf ! ♡  \n",
       "4      lw 104 cw 179 ugw 110 I’m 5’5.5 dni fatphobes  "
      ]
     },
     "execution_count": 89,
     "metadata": {},
     "output_type": "execute_result"
    }
   ],
   "source": [
    "full_complete_df.head()"
   ]
  },
  {
   "cell_type": "markdown",
   "id": "02f44e48",
   "metadata": {},
   "source": [
    "This is the final dataframe! Going through each column, I believe I got the most of what I can get out of just using tweets. One limitation I have by using this format to collect tweets is the lack of images. A lot of tweets refer to images like this one for example:"
   ]
  },
  {
   "cell_type": "code",
   "execution_count": 90,
   "id": "1c57a80e",
   "metadata": {},
   "outputs": [
    {
     "data": {
      "text/plain": [
       "'edtwt did anyone play ourworld 😭😭😭 tht shit the reason i got an ed 110% look at how skinny the avatars used to be https://t.co/sgQS61vbwV'"
      ]
     },
     "execution_count": 90,
     "metadata": {},
     "output_type": "execute_result"
    }
   ],
   "source": [
    "full_complete_df['text'][10]"
   ]
  },
  {
   "cell_type": "markdown",
   "id": "a03b5b53",
   "metadata": {},
   "source": [
    "It's not a big deal, and I can copy the url and paste it into a new tab but it does take a lot of context away from the tweet at first glance. A simple image can drastically change the intention and meaning of a tweet"
   ]
  },
  {
   "cell_type": "markdown",
   "id": "7241baba",
   "metadata": {},
   "source": [
    "Many of the users do include a lot of information in their bios: pronouns, age, political opinions, etc. But not everyone includes the same amount of information and some have irrelevant bios or bios with no information in it at all. The bio column data is very personalized compared to the other columns."
   ]
  },
  {
   "cell_type": "markdown",
   "id": "6a1d64ee",
   "metadata": {},
   "source": [
    "During of my process of collecting Tweets, figuring out how to save the Tweets collected by the function's first results in a csv file would have been very helpful. I've pulled over 100,000 tweets by re-running the notebook. Starting a completely new file and importing the fulldfSaved.csv file would be my next step for analyzing this data. Everything before the just helped me organize the dataframe into one I can use."
   ]
  }
 ],
 "metadata": {
  "kernelspec": {
   "display_name": "Python 3 (ipykernel)",
   "language": "python",
   "name": "python3"
  },
  "language_info": {
   "codemirror_mode": {
    "name": "ipython",
    "version": 3
   },
   "file_extension": ".py",
   "mimetype": "text/x-python",
   "name": "python",
   "nbconvert_exporter": "python",
   "pygments_lexer": "ipython3",
   "version": "3.10.4"
  }
 },
 "nbformat": 4,
 "nbformat_minor": 5
}
