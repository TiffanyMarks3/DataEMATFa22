{
 "cells": [
  {
   "cell_type": "markdown",
   "id": "33147997",
   "metadata": {},
   "source": [
    "# Twitter_Text_Report\n",
    "## Tiffany Marks\n",
    "## October 25, 2022"
   ]
  },
  {
   "cell_type": "code",
   "execution_count": 1,
   "id": "d8993ff9",
   "metadata": {},
   "outputs": [],
   "source": [
    "import pandas as pd\n",
    "import json\n",
    "import requests\n",
    "import urllib"
   ]
  },
  {
   "cell_type": "markdown",
   "id": "348a180b",
   "metadata": {},
   "source": [
    "importing things I need for this code"
   ]
  },
  {
   "cell_type": "markdown",
   "id": "57e7ff64",
   "metadata": {},
   "source": [
    "1. I created a Twitter Developer account and Twitter API v2 app"
   ]
  },
  {
   "cell_type": "code",
   "execution_count": 2,
   "id": "e9f7925f",
   "metadata": {},
   "outputs": [],
   "source": [
    "bearer_token = pd.read_csv(\"Twitter_Token_9-22-22\", header = 0)"
   ]
  },
  {
   "cell_type": "markdown",
   "id": "f8c21467",
   "metadata": {},
   "source": [
    "Put the bearer token in a file, then used pd.read_csv to read the bearer token, so the token is not opened in the code"
   ]
  },
  {
   "cell_type": "code",
   "execution_count": 3,
   "id": "e09462e1",
   "metadata": {},
   "outputs": [
    {
     "name": "stdout",
     "output_type": "stream",
     "text": [
      "1018_in-class_Spotify.ipynb\r\n",
      "EDdata_file.csv\r\n",
      "\u001b[34mInstagram miffanytarks_20220906\u001b[m\u001b[m/\r\n",
      "Lecture_8-30_inclass.ipynb\r\n",
      "Lecture_9-1_inclass.ipynb\r\n",
      "Marks_SystemsCheck.ipynb\r\n",
      "Oct04_in-class.ipynb\r\n",
      "Oct18_in-class.ipynb\r\n",
      "Sep6_in-class.ipynb\r\n",
      "Sep8_in-class.ipynb\r\n",
      "Sept22_in-class.ipynb\r\n",
      "Spotify-Keys_10-18-22\r\n",
      "Twitter_Text_Report.ipynb\r\n",
      "Twitter_Token_9-22-22\r\n",
      "_likes_Report.ipynb\r\n",
      "advertisers_who_uploaded_a_contact_list_with_your_information.json\r\n",
      "chinook.db\r\n",
      "\u001b[34mfacebook-100084961286231\u001b[m\u001b[m/\r\n",
      "fulldf.cvs\r\n",
      "fulldfSaved.cvs\r\n",
      "\u001b[34msqlite\u001b[m\u001b[m/\r\n"
     ]
    }
   ],
   "source": [
    "ls"
   ]
  },
  {
   "cell_type": "markdown",
   "id": "f2913228",
   "metadata": {},
   "source": [
    "ls reveals all the files in the DataInEmat22110 Folder"
   ]
  },
  {
   "cell_type": "code",
   "execution_count": 4,
   "id": "703576da",
   "metadata": {},
   "outputs": [],
   "source": [
    "head = {'Authorization':'Bearer {}'.format(bearer_token['Bearer_Token'].iloc[0])}"
   ]
  },
  {
   "cell_type": "code",
   "execution_count": 5,
   "id": "18dfee76",
   "metadata": {},
   "outputs": [],
   "source": [
    "endpoint = 'https://api.twitter.com/2/tweets/search/recent'"
   ]
  },
  {
   "cell_type": "markdown",
   "id": "27568404",
   "metadata": {},
   "source": [
    "head and endpoint are important as they are used for accessing the tweets\n",
    "\n",
    "2. d) search/recent endpoint is used"
   ]
  },
  {
   "cell_type": "code",
   "execution_count": 6,
   "id": "b418cdf4",
   "metadata": {},
   "outputs": [],
   "source": [
    "find = '((EDTWT OR \"Eating Disorder\" OR \"Disordered Eating\") lang:en -is:retweet)'"
   ]
  },
  {
   "cell_type": "markdown",
   "id": "1e3a829e",
   "metadata": {},
   "source": [
    "2. a) I recently discovered a community on Twitter that bonds over their shared Eating Disorders. I am interested in looking into this topic to get a better understanding of those with Eating Disorders, what the average EDTWT user is like, their mindset, and the ethics of a community that share and bond over their mental illness. "
   ]
  },
  {
   "cell_type": "markdown",
   "id": "61a8bc6b",
   "metadata": {},
   "source": [
    "2. b)I first added EDTWT to my query. The community and it's users tend to have \"EDTWT\", code for Eating Disorder Twitter, in their usernames and tweets so they reach out to other EDTWT community members. I added the phrase Eating Disorder and Disordered Eating so I can see the general conversation around eating disorders on Twitter from those outside the community, lang:en so I can only see English Tweets and removed any retweets so I will only get original tweets. \n",
    "\n",
    "Just to clarify, I don't have an eating disorder myself."
   ]
  },
  {
   "cell_type": "markdown",
   "id": "d1175847",
   "metadata": {},
   "source": [
    "With my Query, I want to search through the EDTWT community's posts and profiles. When going through this information I want to answer this question: Is allowing a community with a dangerous mental illness on a large social platform truly a negative or positive."
   ]
  },
  {
   "cell_type": "markdown",
   "id": "1c057823",
   "metadata": {},
   "source": [
    "referenece for query search\n",
    "\n",
    "https://developer.twitter.com/en/docs/twitter-api/tweets/search/integrate/build-a-query"
   ]
  },
  {
   "cell_type": "code",
   "execution_count": 7,
   "id": "4453a16d",
   "metadata": {},
   "outputs": [],
   "source": [
    "queery = urllib.parse.quote(find)\n",
    "expansions = 'author_id'\n",
    "tweet_fields = 'id,text,author_id,created_at,public_metrics,source'\n",
    "user_fields = 'id,name,username,created_at,description,verified'"
   ]
  },
  {
   "cell_type": "markdown",
   "id": "7e13514c",
   "metadata": {},
   "source": [
    "2. c) These are the response fields I want to have. Id is a default for both tweet and user fields. text will show me the tweet and those tweets will show what types of discussions are happening on Edtwet, author id will give me the id of the tweet poster, created_at reveals when the tweet was published for tweet.fields, so I will know what time the tweet was made, in the user.fields created_at will reveal how long the user's been on twitter. lang gives me the tweet language, public_metrics lets me see how popular the tweet is and source tells me what device the tweet came from. descriptions will reveal the users bio, and those will help me alot with learning about the EDTWT users. Lastly, Verified lets me know if the tweet comes from a verified twitter user. These response fields include the required fields: Author ID, Author Name, Public Metrics, Creation Time"
   ]
  },
  {
   "cell_type": "markdown",
   "id": "379b981d",
   "metadata": {},
   "source": [
    "reference for different response fields\n",
    "\n",
    "https://developer.twitter.com/en/docs/twitter-api/tweets/search/api-reference/get-tweets-search-recent"
   ]
  },
  {
   "cell_type": "code",
   "execution_count": 8,
   "id": "b171d8d7",
   "metadata": {},
   "outputs": [],
   "source": [
    "the_url = endpoint + '?query={}&expansions={}&tweet.fields={}&user.fields={}&max_results=100'.format(queery, expansions, tweet_fields, user_fields)"
   ]
  },
  {
   "cell_type": "markdown",
   "id": "91389875",
   "metadata": {},
   "source": [
    "The full url needed to find the tweets that I need. I added max_results so I can get up to 100 tweets per page instead of 10"
   ]
  },
  {
   "cell_type": "code",
   "execution_count": 9,
   "id": "30ecea32",
   "metadata": {},
   "outputs": [
    {
     "data": {
      "text/plain": [
       "'https://api.twitter.com/2/tweets/search/recent?query=%28%28EDTWT%20OR%20%22Eating%20Disorder%22%20OR%20%22Disordered%20Eating%22%29%20lang%3Aen%20-is%3Aretweet%29&expansions=author_id&tweet.fields=id,text,author_id,created_at,public_metrics,source&user.fields=id,name,username,created_at,description,verified&max_results=100'"
      ]
     },
     "execution_count": 9,
     "metadata": {},
     "output_type": "execute_result"
    }
   ],
   "source": [
    "the_url"
   ]
  },
  {
   "cell_type": "code",
   "execution_count": 10,
   "id": "ab51ce3e",
   "metadata": {},
   "outputs": [],
   "source": [
    "resp = requests.get(the_url, headers = head)"
   ]
  },
  {
   "cell_type": "markdown",
   "id": "3749d6b5",
   "metadata": {},
   "source": [
    "Get the url and the Bearer Token"
   ]
  },
  {
   "cell_type": "code",
   "execution_count": 11,
   "id": "11bb127f",
   "metadata": {},
   "outputs": [
    {
     "data": {
      "text/plain": [
       "200"
      ]
     },
     "execution_count": 11,
     "metadata": {},
     "output_type": "execute_result"
    }
   ],
   "source": [
    "resp.status_code"
   ]
  },
  {
   "cell_type": "markdown",
   "id": "de4533a0",
   "metadata": {},
   "source": [
    "Make sure there are no errors"
   ]
  },
  {
   "cell_type": "code",
   "execution_count": 12,
   "id": "48dfbef2",
   "metadata": {},
   "outputs": [],
   "source": [
    "resp_dict = json.loads(resp.text)"
   ]
  },
  {
   "cell_type": "markdown",
   "id": "1389a7bb",
   "metadata": {},
   "source": [
    "Loads all the data in dictionary format"
   ]
  },
  {
   "cell_type": "markdown",
   "id": "d049fa4c",
   "metadata": {},
   "source": [
    "I won't add many full dataframes, dictionaries or list, as they take up alot of the ipynb file and aren't nice to read. I'll use the .head() for most of the dataframes"
   ]
  },
  {
   "cell_type": "code",
   "execution_count": 13,
   "id": "f69f80ba",
   "metadata": {},
   "outputs": [
    {
     "data": {
      "text/plain": [
       "{'newest_id': '1585072825383415808',\n",
       " 'oldest_id': '1585066256201572352',\n",
       " 'result_count': 98,\n",
       " 'next_token': 'b26v89c19zqg8o3fpzeljilo5lb7kelm6tl82r39sxjst'}"
      ]
     },
     "execution_count": 13,
     "metadata": {},
     "output_type": "execute_result"
    }
   ],
   "source": [
    "resp_dict['meta']"
   ]
  },
  {
   "cell_type": "markdown",
   "id": "b2f473e8",
   "metadata": {},
   "source": [
    "Meta Data: Newest tweet id, oldest tweet id, # of tweets received and the Next Token"
   ]
  },
  {
   "cell_type": "markdown",
   "id": "cbb5c786",
   "metadata": {},
   "source": [
    "I want more than 98 results"
   ]
  },
  {
   "cell_type": "code",
   "execution_count": 14,
   "id": "a35a5416",
   "metadata": {},
   "outputs": [],
   "source": [
    "def search_repeat (query, num_pages, head):\n",
    "    resp_list = []\n",
    "    next_token = ''\n",
    "    for i in range(0, num_pages):\n",
    "        if i > 0:\n",
    "            this_query = query + \"&next_token={}\".format(next_token)\n",
    "        else:\n",
    "            this_query = query\n",
    "\n",
    "        this_resp = requests.get(this_query, headers = head)\n",
    "        print(this_resp.status_code)\n",
    "        this_resp_dict = json.loads(this_resp.text)\n",
    "        resp_list.append(this_resp_dict)\n",
    "        next_token = this_resp_dict['meta']['next_token']\n",
    "    \n",
    "    return resp_list"
   ]
  },
  {
   "cell_type": "markdown",
   "id": "5ca12afd",
   "metadata": {},
   "source": [
    "Function is instructed to grab 100 tweets based off the number of pages called"
   ]
  },
  {
   "cell_type": "code",
   "execution_count": 15,
   "id": "980c9205",
   "metadata": {},
   "outputs": [
    {
     "name": "stdout",
     "output_type": "stream",
     "text": [
      "200\n",
      "200\n",
      "200\n",
      "200\n"
     ]
    }
   ],
   "source": [
    "my_resp = search_repeat (the_url, 4, head)"
   ]
  },
  {
   "cell_type": "markdown",
   "id": "eb86d78b",
   "metadata": {},
   "source": [
    "2. e) Called 4 pages of 100 tweets each, grabbing only 3 will sometimes provide less than 300 tweets"
   ]
  },
  {
   "cell_type": "code",
   "execution_count": 16,
   "id": "6ae20a27",
   "metadata": {},
   "outputs": [],
   "source": [
    "resp_df = pd.DataFrame(my_resp)"
   ]
  },
  {
   "cell_type": "markdown",
   "id": "e84e64cb",
   "metadata": {},
   "source": [
    "DataFrame of all the information I requested in the query separated by keys for columns"
   ]
  },
  {
   "cell_type": "code",
   "execution_count": 17,
   "id": "99133f5e",
   "metadata": {},
   "outputs": [
    {
     "data": {
      "text/html": [
       "<div>\n",
       "<style scoped>\n",
       "    .dataframe tbody tr th:only-of-type {\n",
       "        vertical-align: middle;\n",
       "    }\n",
       "\n",
       "    .dataframe tbody tr th {\n",
       "        vertical-align: top;\n",
       "    }\n",
       "\n",
       "    .dataframe thead th {\n",
       "        text-align: right;\n",
       "    }\n",
       "</style>\n",
       "<table border=\"1\" class=\"dataframe\">\n",
       "  <thead>\n",
       "    <tr style=\"text-align: right;\">\n",
       "      <th></th>\n",
       "      <th>newest_id</th>\n",
       "      <th>oldest_id</th>\n",
       "      <th>result_count</th>\n",
       "      <th>next_token</th>\n",
       "    </tr>\n",
       "  </thead>\n",
       "  <tbody>\n",
       "    <tr>\n",
       "      <th>0</th>\n",
       "      <td>1585072825383415808</td>\n",
       "      <td>1585066256201572352</td>\n",
       "      <td>98</td>\n",
       "      <td>b26v89c19zqg8o3fpzeljilo5lb7kelm6tl82r39sxjst</td>\n",
       "    </tr>\n",
       "    <tr>\n",
       "      <th>1</th>\n",
       "      <td>1585066231270240257</td>\n",
       "      <td>1585060559413645312</td>\n",
       "      <td>100</td>\n",
       "      <td>b26v89c19zqg8o3fpzeljilnwi7s5cm4qg587cwds7dz1</td>\n",
       "    </tr>\n",
       "    <tr>\n",
       "      <th>2</th>\n",
       "      <td>1585060477213691905</td>\n",
       "      <td>1585054741649727488</td>\n",
       "      <td>95</td>\n",
       "      <td>b26v89c19zqg8o3fpzeljilda5r9mk0161pwdum794hvh</td>\n",
       "    </tr>\n",
       "    <tr>\n",
       "      <th>3</th>\n",
       "      <td>1585054655104839680</td>\n",
       "      <td>1585049362820116480</td>\n",
       "      <td>97</td>\n",
       "      <td>b26v89c19zqg8o3fpzeljil2pan6233v4l8ubav5g6av1</td>\n",
       "    </tr>\n",
       "  </tbody>\n",
       "</table>\n",
       "</div>"
      ],
      "text/plain": [
       "             newest_id            oldest_id  result_count  \\\n",
       "0  1585072825383415808  1585066256201572352            98   \n",
       "1  1585066231270240257  1585060559413645312           100   \n",
       "2  1585060477213691905  1585054741649727488            95   \n",
       "3  1585054655104839680  1585049362820116480            97   \n",
       "\n",
       "                                      next_token  \n",
       "0  b26v89c19zqg8o3fpzeljilo5lb7kelm6tl82r39sxjst  \n",
       "1  b26v89c19zqg8o3fpzeljilnwi7s5cm4qg587cwds7dz1  \n",
       "2  b26v89c19zqg8o3fpzeljilda5r9mk0161pwdum794hvh  \n",
       "3  b26v89c19zqg8o3fpzeljil2pan6233v4l8ubav5g6av1  "
      ]
     },
     "execution_count": 17,
     "metadata": {},
     "output_type": "execute_result"
    }
   ],
   "source": [
    "pd.DataFrame(list(resp_df['meta']))"
   ]
  },
  {
   "cell_type": "markdown",
   "id": "57ea8946",
   "metadata": {},
   "source": [
    "The meta key DataFrame is organized into columns: newest_id is the most recent tweet of the page's id and oldest_id is the oldest tweet of the page's id. result_count reveals how many tweets the page collected and next_token value means there is more data and tweets for collection."
   ]
  },
  {
   "cell_type": "code",
   "execution_count": 18,
   "id": "7c1e4d6a",
   "metadata": {},
   "outputs": [],
   "source": [
    "resp_list = list(resp_df['data'])"
   ]
  },
  {
   "cell_type": "markdown",
   "id": "680c207a",
   "metadata": {},
   "source": [
    "resp_list will hold a long list of all the information from resp_df's data key"
   ]
  },
  {
   "cell_type": "code",
   "execution_count": 19,
   "id": "10128f5c",
   "metadata": {},
   "outputs": [],
   "source": [
    "resp_list_list = [pd.DataFrame(x) for x in resp_list]"
   ]
  },
  {
   "cell_type": "markdown",
   "id": "57bb9471",
   "metadata": {},
   "source": [
    "resp_list_list will separate resp_list into different columns to look more organized"
   ]
  },
  {
   "cell_type": "code",
   "execution_count": 20,
   "id": "9712fa3f",
   "metadata": {},
   "outputs": [],
   "source": [
    "resp_data = pd.concat(resp_list_list)"
   ]
  },
  {
   "cell_type": "code",
   "execution_count": 21,
   "id": "78686427",
   "metadata": {},
   "outputs": [
    {
     "data": {
      "text/html": [
       "<div>\n",
       "<style scoped>\n",
       "    .dataframe tbody tr th:only-of-type {\n",
       "        vertical-align: middle;\n",
       "    }\n",
       "\n",
       "    .dataframe tbody tr th {\n",
       "        vertical-align: top;\n",
       "    }\n",
       "\n",
       "    .dataframe thead th {\n",
       "        text-align: right;\n",
       "    }\n",
       "</style>\n",
       "<table border=\"1\" class=\"dataframe\">\n",
       "  <thead>\n",
       "    <tr style=\"text-align: right;\">\n",
       "      <th></th>\n",
       "      <th>created_at</th>\n",
       "      <th>edit_history_tweet_ids</th>\n",
       "      <th>id</th>\n",
       "      <th>public_metrics</th>\n",
       "      <th>author_id</th>\n",
       "      <th>source</th>\n",
       "      <th>text</th>\n",
       "    </tr>\n",
       "  </thead>\n",
       "  <tbody>\n",
       "    <tr>\n",
       "      <th>0</th>\n",
       "      <td>2022-10-26T00:56:25.000Z</td>\n",
       "      <td>[1585072825383415808]</td>\n",
       "      <td>1585072825383415808</td>\n",
       "      <td>{'retweet_count': 0, 'reply_count': 0, 'like_c...</td>\n",
       "      <td>1584939170799259656</td>\n",
       "      <td>Twitter for iPhone</td>\n",
       "      <td>Hii 🍡\\n✩ New to edtwt \\n✩ 5teen\\n✩ Needs edtwt...</td>\n",
       "    </tr>\n",
       "    <tr>\n",
       "      <th>1</th>\n",
       "      <td>2022-10-26T00:55:55.000Z</td>\n",
       "      <td>[1585072699130277888]</td>\n",
       "      <td>1585072699130277888</td>\n",
       "      <td>{'retweet_count': 0, 'reply_count': 0, 'like_c...</td>\n",
       "      <td>1525479026655170560</td>\n",
       "      <td>Twitter for Android</td>\n",
       "      <td>i think one of my irls uses edtwt bcs they hav...</td>\n",
       "    </tr>\n",
       "    <tr>\n",
       "      <th>2</th>\n",
       "      <td>2022-10-26T00:55:16.000Z</td>\n",
       "      <td>[1585072537482199041]</td>\n",
       "      <td>1585072537482199041</td>\n",
       "      <td>{'retweet_count': 0, 'reply_count': 0, 'like_c...</td>\n",
       "      <td>1540306286109425665</td>\n",
       "      <td>Twitter for iPhone</td>\n",
       "      <td>This or That 🍋🧋\\nAesthetic drink edition\\n\\n🏷 ...</td>\n",
       "    </tr>\n",
       "    <tr>\n",
       "      <th>3</th>\n",
       "      <td>2022-10-26T00:55:08.000Z</td>\n",
       "      <td>[1585072501205663745]</td>\n",
       "      <td>1585072501205663745</td>\n",
       "      <td>{'retweet_count': 0, 'reply_count': 0, 'like_c...</td>\n",
       "      <td>1584371116558221312</td>\n",
       "      <td>Twitter Web App</td>\n",
       "      <td>is it just me or do you guys also have a tell-...</td>\n",
       "    </tr>\n",
       "    <tr>\n",
       "      <th>4</th>\n",
       "      <td>2022-10-26T00:54:42.000Z</td>\n",
       "      <td>[1585072392770301952]</td>\n",
       "      <td>1585072392770301952</td>\n",
       "      <td>{'retweet_count': 0, 'reply_count': 0, 'like_c...</td>\n",
       "      <td>1476720952755077120</td>\n",
       "      <td>Twitter Web App</td>\n",
       "      <td>comment to be tagged in ALL of my THREADS \\n\\n...</td>\n",
       "    </tr>\n",
       "  </tbody>\n",
       "</table>\n",
       "</div>"
      ],
      "text/plain": [
       "                 created_at edit_history_tweet_ids                   id  \\\n",
       "0  2022-10-26T00:56:25.000Z  [1585072825383415808]  1585072825383415808   \n",
       "1  2022-10-26T00:55:55.000Z  [1585072699130277888]  1585072699130277888   \n",
       "2  2022-10-26T00:55:16.000Z  [1585072537482199041]  1585072537482199041   \n",
       "3  2022-10-26T00:55:08.000Z  [1585072501205663745]  1585072501205663745   \n",
       "4  2022-10-26T00:54:42.000Z  [1585072392770301952]  1585072392770301952   \n",
       "\n",
       "                                      public_metrics            author_id  \\\n",
       "0  {'retweet_count': 0, 'reply_count': 0, 'like_c...  1584939170799259656   \n",
       "1  {'retweet_count': 0, 'reply_count': 0, 'like_c...  1525479026655170560   \n",
       "2  {'retweet_count': 0, 'reply_count': 0, 'like_c...  1540306286109425665   \n",
       "3  {'retweet_count': 0, 'reply_count': 0, 'like_c...  1584371116558221312   \n",
       "4  {'retweet_count': 0, 'reply_count': 0, 'like_c...  1476720952755077120   \n",
       "\n",
       "                source                                               text  \n",
       "0   Twitter for iPhone  Hii 🍡\\n✩ New to edtwt \\n✩ 5teen\\n✩ Needs edtwt...  \n",
       "1  Twitter for Android  i think one of my irls uses edtwt bcs they hav...  \n",
       "2   Twitter for iPhone  This or That 🍋🧋\\nAesthetic drink edition\\n\\n🏷 ...  \n",
       "3      Twitter Web App  is it just me or do you guys also have a tell-...  \n",
       "4      Twitter Web App  comment to be tagged in ALL of my THREADS \\n\\n...  "
      ]
     },
     "execution_count": 21,
     "metadata": {},
     "output_type": "execute_result"
    }
   ],
   "source": [
    "resp_data.head()"
   ]
  },
  {
   "cell_type": "markdown",
   "id": "f68cf2a7",
   "metadata": {},
   "source": [
    "resp_data uses pd.concat to make resp_list_list into a better looking dataframe"
   ]
  },
  {
   "cell_type": "code",
   "execution_count": 22,
   "id": "ea227a25",
   "metadata": {},
   "outputs": [],
   "source": [
    "public_resp = pd.DataFrame(list(resp_data['public_metrics']))"
   ]
  },
  {
   "cell_type": "code",
   "execution_count": 23,
   "id": "9cd43802",
   "metadata": {},
   "outputs": [
    {
     "data": {
      "text/html": [
       "<div>\n",
       "<style scoped>\n",
       "    .dataframe tbody tr th:only-of-type {\n",
       "        vertical-align: middle;\n",
       "    }\n",
       "\n",
       "    .dataframe tbody tr th {\n",
       "        vertical-align: top;\n",
       "    }\n",
       "\n",
       "    .dataframe thead th {\n",
       "        text-align: right;\n",
       "    }\n",
       "</style>\n",
       "<table border=\"1\" class=\"dataframe\">\n",
       "  <thead>\n",
       "    <tr style=\"text-align: right;\">\n",
       "      <th></th>\n",
       "      <th>retweet_count</th>\n",
       "      <th>reply_count</th>\n",
       "      <th>like_count</th>\n",
       "      <th>quote_count</th>\n",
       "    </tr>\n",
       "  </thead>\n",
       "  <tbody>\n",
       "    <tr>\n",
       "      <th>0</th>\n",
       "      <td>0</td>\n",
       "      <td>0</td>\n",
       "      <td>0</td>\n",
       "      <td>0</td>\n",
       "    </tr>\n",
       "    <tr>\n",
       "      <th>1</th>\n",
       "      <td>0</td>\n",
       "      <td>0</td>\n",
       "      <td>0</td>\n",
       "      <td>0</td>\n",
       "    </tr>\n",
       "    <tr>\n",
       "      <th>2</th>\n",
       "      <td>0</td>\n",
       "      <td>0</td>\n",
       "      <td>0</td>\n",
       "      <td>0</td>\n",
       "    </tr>\n",
       "    <tr>\n",
       "      <th>3</th>\n",
       "      <td>0</td>\n",
       "      <td>0</td>\n",
       "      <td>0</td>\n",
       "      <td>0</td>\n",
       "    </tr>\n",
       "    <tr>\n",
       "      <th>4</th>\n",
       "      <td>0</td>\n",
       "      <td>0</td>\n",
       "      <td>0</td>\n",
       "      <td>0</td>\n",
       "    </tr>\n",
       "  </tbody>\n",
       "</table>\n",
       "</div>"
      ],
      "text/plain": [
       "   retweet_count  reply_count  like_count  quote_count\n",
       "0              0            0           0            0\n",
       "1              0            0           0            0\n",
       "2              0            0           0            0\n",
       "3              0            0           0            0\n",
       "4              0            0           0            0"
      ]
     },
     "execution_count": 23,
     "metadata": {},
     "output_type": "execute_result"
    }
   ],
   "source": [
    "public_resp.head()"
   ]
  },
  {
   "cell_type": "markdown",
   "id": "35f36186",
   "metadata": {},
   "source": [
    "Separated the public metrics information"
   ]
  },
  {
   "cell_type": "code",
   "execution_count": 24,
   "id": "bb645fae",
   "metadata": {},
   "outputs": [],
   "source": [
    "resp_data['retweets'] = public_resp['retweet_count']\n",
    "resp_data['replies'] = public_resp['reply_count']\n",
    "resp_data['likes'] = public_resp['like_count']\n",
    "resp_data['quotes'] = public_resp['quote_count']"
   ]
  },
  {
   "cell_type": "markdown",
   "id": "6a753ee7",
   "metadata": {},
   "source": [
    "Here I'm adding the public_resp columns to resp_data "
   ]
  },
  {
   "cell_type": "code",
   "execution_count": 25,
   "id": "cb55ce3f",
   "metadata": {},
   "outputs": [
    {
     "data": {
      "text/html": [
       "<div>\n",
       "<style scoped>\n",
       "    .dataframe tbody tr th:only-of-type {\n",
       "        vertical-align: middle;\n",
       "    }\n",
       "\n",
       "    .dataframe tbody tr th {\n",
       "        vertical-align: top;\n",
       "    }\n",
       "\n",
       "    .dataframe thead th {\n",
       "        text-align: right;\n",
       "    }\n",
       "</style>\n",
       "<table border=\"1\" class=\"dataframe\">\n",
       "  <thead>\n",
       "    <tr style=\"text-align: right;\">\n",
       "      <th></th>\n",
       "      <th>created_at</th>\n",
       "      <th>edit_history_tweet_ids</th>\n",
       "      <th>id</th>\n",
       "      <th>public_metrics</th>\n",
       "      <th>author_id</th>\n",
       "      <th>source</th>\n",
       "      <th>text</th>\n",
       "      <th>retweets</th>\n",
       "      <th>replies</th>\n",
       "      <th>likes</th>\n",
       "      <th>quotes</th>\n",
       "    </tr>\n",
       "  </thead>\n",
       "  <tbody>\n",
       "    <tr>\n",
       "      <th>0</th>\n",
       "      <td>2022-10-26T00:56:25.000Z</td>\n",
       "      <td>[1585072825383415808]</td>\n",
       "      <td>1585072825383415808</td>\n",
       "      <td>{'retweet_count': 0, 'reply_count': 0, 'like_c...</td>\n",
       "      <td>1584939170799259656</td>\n",
       "      <td>Twitter for iPhone</td>\n",
       "      <td>Hii 🍡\\n✩ New to edtwt \\n✩ 5teen\\n✩ Needs edtwt...</td>\n",
       "      <td>0</td>\n",
       "      <td>0</td>\n",
       "      <td>0</td>\n",
       "      <td>0</td>\n",
       "    </tr>\n",
       "    <tr>\n",
       "      <th>1</th>\n",
       "      <td>2022-10-26T00:55:55.000Z</td>\n",
       "      <td>[1585072699130277888]</td>\n",
       "      <td>1585072699130277888</td>\n",
       "      <td>{'retweet_count': 0, 'reply_count': 0, 'like_c...</td>\n",
       "      <td>1525479026655170560</td>\n",
       "      <td>Twitter for Android</td>\n",
       "      <td>i think one of my irls uses edtwt bcs they hav...</td>\n",
       "      <td>0</td>\n",
       "      <td>0</td>\n",
       "      <td>0</td>\n",
       "      <td>0</td>\n",
       "    </tr>\n",
       "    <tr>\n",
       "      <th>2</th>\n",
       "      <td>2022-10-26T00:55:16.000Z</td>\n",
       "      <td>[1585072537482199041]</td>\n",
       "      <td>1585072537482199041</td>\n",
       "      <td>{'retweet_count': 0, 'reply_count': 0, 'like_c...</td>\n",
       "      <td>1540306286109425665</td>\n",
       "      <td>Twitter for iPhone</td>\n",
       "      <td>This or That 🍋🧋\\nAesthetic drink edition\\n\\n🏷 ...</td>\n",
       "      <td>0</td>\n",
       "      <td>0</td>\n",
       "      <td>0</td>\n",
       "      <td>0</td>\n",
       "    </tr>\n",
       "    <tr>\n",
       "      <th>3</th>\n",
       "      <td>2022-10-26T00:55:08.000Z</td>\n",
       "      <td>[1585072501205663745]</td>\n",
       "      <td>1585072501205663745</td>\n",
       "      <td>{'retweet_count': 0, 'reply_count': 0, 'like_c...</td>\n",
       "      <td>1584371116558221312</td>\n",
       "      <td>Twitter Web App</td>\n",
       "      <td>is it just me or do you guys also have a tell-...</td>\n",
       "      <td>0</td>\n",
       "      <td>0</td>\n",
       "      <td>0</td>\n",
       "      <td>0</td>\n",
       "    </tr>\n",
       "    <tr>\n",
       "      <th>4</th>\n",
       "      <td>2022-10-26T00:54:42.000Z</td>\n",
       "      <td>[1585072392770301952]</td>\n",
       "      <td>1585072392770301952</td>\n",
       "      <td>{'retweet_count': 0, 'reply_count': 0, 'like_c...</td>\n",
       "      <td>1476720952755077120</td>\n",
       "      <td>Twitter Web App</td>\n",
       "      <td>comment to be tagged in ALL of my THREADS \\n\\n...</td>\n",
       "      <td>0</td>\n",
       "      <td>0</td>\n",
       "      <td>0</td>\n",
       "      <td>0</td>\n",
       "    </tr>\n",
       "  </tbody>\n",
       "</table>\n",
       "</div>"
      ],
      "text/plain": [
       "                 created_at edit_history_tweet_ids                   id  \\\n",
       "0  2022-10-26T00:56:25.000Z  [1585072825383415808]  1585072825383415808   \n",
       "1  2022-10-26T00:55:55.000Z  [1585072699130277888]  1585072699130277888   \n",
       "2  2022-10-26T00:55:16.000Z  [1585072537482199041]  1585072537482199041   \n",
       "3  2022-10-26T00:55:08.000Z  [1585072501205663745]  1585072501205663745   \n",
       "4  2022-10-26T00:54:42.000Z  [1585072392770301952]  1585072392770301952   \n",
       "\n",
       "                                      public_metrics            author_id  \\\n",
       "0  {'retweet_count': 0, 'reply_count': 0, 'like_c...  1584939170799259656   \n",
       "1  {'retweet_count': 0, 'reply_count': 0, 'like_c...  1525479026655170560   \n",
       "2  {'retweet_count': 0, 'reply_count': 0, 'like_c...  1540306286109425665   \n",
       "3  {'retweet_count': 0, 'reply_count': 0, 'like_c...  1584371116558221312   \n",
       "4  {'retweet_count': 0, 'reply_count': 0, 'like_c...  1476720952755077120   \n",
       "\n",
       "                source                                               text  \\\n",
       "0   Twitter for iPhone  Hii 🍡\\n✩ New to edtwt \\n✩ 5teen\\n✩ Needs edtwt...   \n",
       "1  Twitter for Android  i think one of my irls uses edtwt bcs they hav...   \n",
       "2   Twitter for iPhone  This or That 🍋🧋\\nAesthetic drink edition\\n\\n🏷 ...   \n",
       "3      Twitter Web App  is it just me or do you guys also have a tell-...   \n",
       "4      Twitter Web App  comment to be tagged in ALL of my THREADS \\n\\n...   \n",
       "\n",
       "   retweets  replies  likes  quotes  \n",
       "0         0        0      0       0  \n",
       "1         0        0      0       0  \n",
       "2         0        0      0       0  \n",
       "3         0        0      0       0  \n",
       "4         0        0      0       0  "
      ]
     },
     "execution_count": 25,
     "metadata": {},
     "output_type": "execute_result"
    }
   ],
   "source": [
    "resp_data.head()"
   ]
  },
  {
   "cell_type": "code",
   "execution_count": 26,
   "id": "a6718e33",
   "metadata": {},
   "outputs": [],
   "source": [
    "full_data_df = resp_data.drop(columns = ['id', 'edit_history_tweet_ids', 'public_metrics'])"
   ]
  },
  {
   "cell_type": "code",
   "execution_count": 27,
   "id": "0cf966dd",
   "metadata": {},
   "outputs": [
    {
     "data": {
      "text/html": [
       "<div>\n",
       "<style scoped>\n",
       "    .dataframe tbody tr th:only-of-type {\n",
       "        vertical-align: middle;\n",
       "    }\n",
       "\n",
       "    .dataframe tbody tr th {\n",
       "        vertical-align: top;\n",
       "    }\n",
       "\n",
       "    .dataframe thead th {\n",
       "        text-align: right;\n",
       "    }\n",
       "</style>\n",
       "<table border=\"1\" class=\"dataframe\">\n",
       "  <thead>\n",
       "    <tr style=\"text-align: right;\">\n",
       "      <th></th>\n",
       "      <th>created_at</th>\n",
       "      <th>author_id</th>\n",
       "      <th>source</th>\n",
       "      <th>text</th>\n",
       "      <th>retweets</th>\n",
       "      <th>replies</th>\n",
       "      <th>likes</th>\n",
       "      <th>quotes</th>\n",
       "    </tr>\n",
       "  </thead>\n",
       "  <tbody>\n",
       "    <tr>\n",
       "      <th>0</th>\n",
       "      <td>2022-10-26T00:56:25.000Z</td>\n",
       "      <td>1584939170799259656</td>\n",
       "      <td>Twitter for iPhone</td>\n",
       "      <td>Hii 🍡\\n✩ New to edtwt \\n✩ 5teen\\n✩ Needs edtwt...</td>\n",
       "      <td>0</td>\n",
       "      <td>0</td>\n",
       "      <td>0</td>\n",
       "      <td>0</td>\n",
       "    </tr>\n",
       "    <tr>\n",
       "      <th>1</th>\n",
       "      <td>2022-10-26T00:55:55.000Z</td>\n",
       "      <td>1525479026655170560</td>\n",
       "      <td>Twitter for Android</td>\n",
       "      <td>i think one of my irls uses edtwt bcs they hav...</td>\n",
       "      <td>0</td>\n",
       "      <td>0</td>\n",
       "      <td>0</td>\n",
       "      <td>0</td>\n",
       "    </tr>\n",
       "    <tr>\n",
       "      <th>2</th>\n",
       "      <td>2022-10-26T00:55:16.000Z</td>\n",
       "      <td>1540306286109425665</td>\n",
       "      <td>Twitter for iPhone</td>\n",
       "      <td>This or That 🍋🧋\\nAesthetic drink edition\\n\\n🏷 ...</td>\n",
       "      <td>0</td>\n",
       "      <td>0</td>\n",
       "      <td>0</td>\n",
       "      <td>0</td>\n",
       "    </tr>\n",
       "    <tr>\n",
       "      <th>3</th>\n",
       "      <td>2022-10-26T00:55:08.000Z</td>\n",
       "      <td>1584371116558221312</td>\n",
       "      <td>Twitter Web App</td>\n",
       "      <td>is it just me or do you guys also have a tell-...</td>\n",
       "      <td>0</td>\n",
       "      <td>0</td>\n",
       "      <td>0</td>\n",
       "      <td>0</td>\n",
       "    </tr>\n",
       "    <tr>\n",
       "      <th>4</th>\n",
       "      <td>2022-10-26T00:54:42.000Z</td>\n",
       "      <td>1476720952755077120</td>\n",
       "      <td>Twitter Web App</td>\n",
       "      <td>comment to be tagged in ALL of my THREADS \\n\\n...</td>\n",
       "      <td>0</td>\n",
       "      <td>0</td>\n",
       "      <td>0</td>\n",
       "      <td>0</td>\n",
       "    </tr>\n",
       "  </tbody>\n",
       "</table>\n",
       "</div>"
      ],
      "text/plain": [
       "                 created_at            author_id               source  \\\n",
       "0  2022-10-26T00:56:25.000Z  1584939170799259656   Twitter for iPhone   \n",
       "1  2022-10-26T00:55:55.000Z  1525479026655170560  Twitter for Android   \n",
       "2  2022-10-26T00:55:16.000Z  1540306286109425665   Twitter for iPhone   \n",
       "3  2022-10-26T00:55:08.000Z  1584371116558221312      Twitter Web App   \n",
       "4  2022-10-26T00:54:42.000Z  1476720952755077120      Twitter Web App   \n",
       "\n",
       "                                                text  retweets  replies  \\\n",
       "0  Hii 🍡\\n✩ New to edtwt \\n✩ 5teen\\n✩ Needs edtwt...         0        0   \n",
       "1  i think one of my irls uses edtwt bcs they hav...         0        0   \n",
       "2  This or That 🍋🧋\\nAesthetic drink edition\\n\\n🏷 ...         0        0   \n",
       "3  is it just me or do you guys also have a tell-...         0        0   \n",
       "4  comment to be tagged in ALL of my THREADS \\n\\n...         0        0   \n",
       "\n",
       "   likes  quotes  \n",
       "0      0       0  \n",
       "1      0       0  \n",
       "2      0       0  \n",
       "3      0       0  \n",
       "4      0       0  "
      ]
     },
     "execution_count": 27,
     "metadata": {},
     "output_type": "execute_result"
    }
   ],
   "source": [
    "full_data_df.head()"
   ]
  },
  {
   "cell_type": "markdown",
   "id": "dd50cbe9",
   "metadata": {},
   "source": [
    "I removed public metrics column, since i took all its info and separated it, and I don't need id or edit_history_tweet_ids"
   ]
  },
  {
   "cell_type": "code",
   "execution_count": 28,
   "id": "627db362",
   "metadata": {},
   "outputs": [
    {
     "data": {
      "text/plain": [
       "390"
      ]
     },
     "execution_count": 28,
     "metadata": {},
     "output_type": "execute_result"
    }
   ],
   "source": [
    "len(resp_data.index)"
   ]
  },
  {
   "cell_type": "code",
   "execution_count": 29,
   "id": "bd8d08a4",
   "metadata": {},
   "outputs": [],
   "source": [
    "resp_incl_list = list(resp_df['includes'])"
   ]
  },
  {
   "cell_type": "markdown",
   "id": "ff60d1b0",
   "metadata": {},
   "source": [
    "resp_incl_list will hold a long list of all the information in resp_df's include key"
   ]
  },
  {
   "cell_type": "code",
   "execution_count": 30,
   "id": "709fad39",
   "metadata": {},
   "outputs": [],
   "source": [
    "resp_incl_list_list = [pd.DataFrame(x) for x in resp_incl_list]"
   ]
  },
  {
   "cell_type": "markdown",
   "id": "8331a05a",
   "metadata": {},
   "source": [
    "resp_incl_list_list will separate resp_incl_list into different columns to look more organized"
   ]
  },
  {
   "cell_type": "code",
   "execution_count": 31,
   "id": "be05ec56",
   "metadata": {},
   "outputs": [],
   "source": [
    "resp_includes = pd.concat(resp_incl_list_list)"
   ]
  },
  {
   "cell_type": "code",
   "execution_count": 32,
   "id": "10290da4",
   "metadata": {},
   "outputs": [
    {
     "data": {
      "text/html": [
       "<div>\n",
       "<style scoped>\n",
       "    .dataframe tbody tr th:only-of-type {\n",
       "        vertical-align: middle;\n",
       "    }\n",
       "\n",
       "    .dataframe tbody tr th {\n",
       "        vertical-align: top;\n",
       "    }\n",
       "\n",
       "    .dataframe thead th {\n",
       "        text-align: right;\n",
       "    }\n",
       "</style>\n",
       "<table border=\"1\" class=\"dataframe\">\n",
       "  <thead>\n",
       "    <tr style=\"text-align: right;\">\n",
       "      <th></th>\n",
       "      <th>users</th>\n",
       "    </tr>\n",
       "  </thead>\n",
       "  <tbody>\n",
       "    <tr>\n",
       "      <th>0</th>\n",
       "      <td>{'username': 'Celineeatingd', 'description': '...</td>\n",
       "    </tr>\n",
       "    <tr>\n",
       "      <th>1</th>\n",
       "      <td>{'username': 'alyyprettybitch', 'description':...</td>\n",
       "    </tr>\n",
       "    <tr>\n",
       "      <th>2</th>\n",
       "      <td>{'username': 'Ana_ang3l', 'description': '｡⋆｡˚...</td>\n",
       "    </tr>\n",
       "    <tr>\n",
       "      <th>3</th>\n",
       "      <td>{'username': 'vo1dfa1ry', 'description': 'edtw...</td>\n",
       "    </tr>\n",
       "    <tr>\n",
       "      <th>4</th>\n",
       "      <td>{'username': 'slxt4urmom', 'description': '🌡he...</td>\n",
       "    </tr>\n",
       "  </tbody>\n",
       "</table>\n",
       "</div>"
      ],
      "text/plain": [
       "                                               users\n",
       "0  {'username': 'Celineeatingd', 'description': '...\n",
       "1  {'username': 'alyyprettybitch', 'description':...\n",
       "2  {'username': 'Ana_ang3l', 'description': '｡⋆｡˚...\n",
       "3  {'username': 'vo1dfa1ry', 'description': 'edtw...\n",
       "4  {'username': 'slxt4urmom', 'description': '🌡he..."
      ]
     },
     "execution_count": 32,
     "metadata": {},
     "output_type": "execute_result"
    }
   ],
   "source": [
    "resp_includes.head()"
   ]
  },
  {
   "cell_type": "code",
   "execution_count": 33,
   "id": "0d56546b",
   "metadata": {},
   "outputs": [],
   "source": [
    "resp_users = pd.DataFrame(list(resp_includes['users']))"
   ]
  },
  {
   "cell_type": "code",
   "execution_count": 34,
   "id": "73dbe8a7",
   "metadata": {},
   "outputs": [
    {
     "data": {
      "text/html": [
       "<div>\n",
       "<style scoped>\n",
       "    .dataframe tbody tr th:only-of-type {\n",
       "        vertical-align: middle;\n",
       "    }\n",
       "\n",
       "    .dataframe tbody tr th {\n",
       "        vertical-align: top;\n",
       "    }\n",
       "\n",
       "    .dataframe thead th {\n",
       "        text-align: right;\n",
       "    }\n",
       "</style>\n",
       "<table border=\"1\" class=\"dataframe\">\n",
       "  <thead>\n",
       "    <tr style=\"text-align: right;\">\n",
       "      <th></th>\n",
       "      <th>username</th>\n",
       "      <th>description</th>\n",
       "      <th>created_at</th>\n",
       "      <th>id</th>\n",
       "      <th>name</th>\n",
       "      <th>verified</th>\n",
       "    </tr>\n",
       "  </thead>\n",
       "  <tbody>\n",
       "    <tr>\n",
       "      <th>0</th>\n",
       "      <td>Celineeatingd</td>\n",
       "      <td>Anorexique|| Fille française noire ||52 kg</td>\n",
       "      <td>2022-10-25T16:05:26.000Z</td>\n",
       "      <td>1584939170799259656</td>\n",
       "      <td>Celine</td>\n",
       "      <td>False</td>\n",
       "    </tr>\n",
       "    <tr>\n",
       "      <th>1</th>\n",
       "      <td>alyyprettybitch</td>\n",
       "      <td>always. til death do us part, right? @tigersspo</td>\n",
       "      <td>2022-05-14T14:12:15.000Z</td>\n",
       "      <td>1525479026655170560</td>\n",
       "      <td>alyy</td>\n",
       "      <td>False</td>\n",
       "    </tr>\n",
       "    <tr>\n",
       "      <th>2</th>\n",
       "      <td>Ana_ang3l</td>\n",
       "      <td>｡⋆｡˚ ʚïɞ ˚｡⋆｡</td>\n",
       "      <td>2022-06-24T12:10:17.000Z</td>\n",
       "      <td>1540306286109425665</td>\n",
       "      <td>Angel 🖤 🩰</td>\n",
       "      <td>False</td>\n",
       "    </tr>\n",
       "    <tr>\n",
       "      <th>3</th>\n",
       "      <td>vo1dfa1ry</td>\n",
       "      <td>edtwt \\nsw - 147\\nugw - 90\\nalways open to mak...</td>\n",
       "      <td>2022-10-24T02:28:15.000Z</td>\n",
       "      <td>1584371116558221312</td>\n",
       "      <td>Alice</td>\n",
       "      <td>False</td>\n",
       "    </tr>\n",
       "    <tr>\n",
       "      <th>4</th>\n",
       "      <td>slxt4urmom</td>\n",
       "      <td>🌡he/they\\n🩹taken afs\\n💌cw:121 ibs\\n⏰gw: 105 ib...</td>\n",
       "      <td>2021-12-31T01:05:05.000Z</td>\n",
       "      <td>1476720952755077120</td>\n",
       "      <td>grey (edtwt)</td>\n",
       "      <td>False</td>\n",
       "    </tr>\n",
       "  </tbody>\n",
       "</table>\n",
       "</div>"
      ],
      "text/plain": [
       "          username                                        description  \\\n",
       "0    Celineeatingd         Anorexique|| Fille française noire ||52 kg   \n",
       "1  alyyprettybitch    always. til death do us part, right? @tigersspo   \n",
       "2        Ana_ang3l                                      ｡⋆｡˚ ʚïɞ ˚｡⋆｡   \n",
       "3        vo1dfa1ry  edtwt \\nsw - 147\\nugw - 90\\nalways open to mak...   \n",
       "4       slxt4urmom  🌡he/they\\n🩹taken afs\\n💌cw:121 ibs\\n⏰gw: 105 ib...   \n",
       "\n",
       "                 created_at                   id          name  verified  \n",
       "0  2022-10-25T16:05:26.000Z  1584939170799259656        Celine     False  \n",
       "1  2022-05-14T14:12:15.000Z  1525479026655170560          alyy     False  \n",
       "2  2022-06-24T12:10:17.000Z  1540306286109425665     Angel 🖤 🩰     False  \n",
       "3  2022-10-24T02:28:15.000Z  1584371116558221312         Alice     False  \n",
       "4  2021-12-31T01:05:05.000Z  1476720952755077120  grey (edtwt)     False  "
      ]
     },
     "execution_count": 34,
     "metadata": {},
     "output_type": "execute_result"
    }
   ],
   "source": [
    "resp_users.head()"
   ]
  },
  {
   "cell_type": "markdown",
   "id": "4d93c2a1",
   "metadata": {},
   "source": [
    "After using pd.concat to organize the data into a dataframe, I had to split the information in the user column into their own columns using the list() function"
   ]
  },
  {
   "cell_type": "code",
   "execution_count": 35,
   "id": "b615a994",
   "metadata": {},
   "outputs": [],
   "source": [
    "full_data_df['user_created'] = resp_users['created_at']\n",
    "full_data_df['verified'] = resp_users['verified']\n",
    "full_data_df['user'] = resp_users['username']\n",
    "full_data_df['name'] = resp_users['name']\n",
    "full_data_df['bio'] = resp_users['description']"
   ]
  },
  {
   "cell_type": "markdown",
   "id": "5e44ac43",
   "metadata": {},
   "source": [
    "Adding resp_users to the full_data_df"
   ]
  },
  {
   "cell_type": "code",
   "execution_count": 36,
   "id": "dbdbcf2f",
   "metadata": {},
   "outputs": [],
   "source": [
    "full_df = pd.DataFrame(full_data_df)"
   ]
  },
  {
   "cell_type": "code",
   "execution_count": 37,
   "id": "7dfce2e1",
   "metadata": {},
   "outputs": [
    {
     "data": {
      "text/html": [
       "<div>\n",
       "<style scoped>\n",
       "    .dataframe tbody tr th:only-of-type {\n",
       "        vertical-align: middle;\n",
       "    }\n",
       "\n",
       "    .dataframe tbody tr th {\n",
       "        vertical-align: top;\n",
       "    }\n",
       "\n",
       "    .dataframe thead th {\n",
       "        text-align: right;\n",
       "    }\n",
       "</style>\n",
       "<table border=\"1\" class=\"dataframe\">\n",
       "  <thead>\n",
       "    <tr style=\"text-align: right;\">\n",
       "      <th></th>\n",
       "      <th>created_at</th>\n",
       "      <th>author_id</th>\n",
       "      <th>source</th>\n",
       "      <th>text</th>\n",
       "      <th>retweets</th>\n",
       "      <th>replies</th>\n",
       "      <th>likes</th>\n",
       "      <th>quotes</th>\n",
       "      <th>user_created</th>\n",
       "      <th>verified</th>\n",
       "      <th>user</th>\n",
       "      <th>name</th>\n",
       "      <th>bio</th>\n",
       "    </tr>\n",
       "  </thead>\n",
       "  <tbody>\n",
       "    <tr>\n",
       "      <th>0</th>\n",
       "      <td>2022-10-26T00:56:25.000Z</td>\n",
       "      <td>1584939170799259656</td>\n",
       "      <td>Twitter for iPhone</td>\n",
       "      <td>Hii 🍡\\n✩ New to edtwt \\n✩ 5teen\\n✩ Needs edtwt...</td>\n",
       "      <td>0</td>\n",
       "      <td>0</td>\n",
       "      <td>0</td>\n",
       "      <td>0</td>\n",
       "      <td>2022-10-25T16:05:26.000Z</td>\n",
       "      <td>False</td>\n",
       "      <td>Celineeatingd</td>\n",
       "      <td>Celine</td>\n",
       "      <td>Anorexique|| Fille française noire ||52 kg</td>\n",
       "    </tr>\n",
       "    <tr>\n",
       "      <th>1</th>\n",
       "      <td>2022-10-26T00:55:55.000Z</td>\n",
       "      <td>1525479026655170560</td>\n",
       "      <td>Twitter for Android</td>\n",
       "      <td>i think one of my irls uses edtwt bcs they hav...</td>\n",
       "      <td>0</td>\n",
       "      <td>0</td>\n",
       "      <td>0</td>\n",
       "      <td>0</td>\n",
       "      <td>2022-05-14T14:12:15.000Z</td>\n",
       "      <td>False</td>\n",
       "      <td>alyyprettybitch</td>\n",
       "      <td>alyy</td>\n",
       "      <td>always. til death do us part, right? @tigersspo</td>\n",
       "    </tr>\n",
       "    <tr>\n",
       "      <th>2</th>\n",
       "      <td>2022-10-26T00:55:16.000Z</td>\n",
       "      <td>1540306286109425665</td>\n",
       "      <td>Twitter for iPhone</td>\n",
       "      <td>This or That 🍋🧋\\nAesthetic drink edition\\n\\n🏷 ...</td>\n",
       "      <td>0</td>\n",
       "      <td>0</td>\n",
       "      <td>0</td>\n",
       "      <td>0</td>\n",
       "      <td>2022-06-24T12:10:17.000Z</td>\n",
       "      <td>False</td>\n",
       "      <td>Ana_ang3l</td>\n",
       "      <td>Angel 🖤 🩰</td>\n",
       "      <td>｡⋆｡˚ ʚïɞ ˚｡⋆｡</td>\n",
       "    </tr>\n",
       "    <tr>\n",
       "      <th>3</th>\n",
       "      <td>2022-10-26T00:55:08.000Z</td>\n",
       "      <td>1584371116558221312</td>\n",
       "      <td>Twitter Web App</td>\n",
       "      <td>is it just me or do you guys also have a tell-...</td>\n",
       "      <td>0</td>\n",
       "      <td>0</td>\n",
       "      <td>0</td>\n",
       "      <td>0</td>\n",
       "      <td>2022-10-24T02:28:15.000Z</td>\n",
       "      <td>False</td>\n",
       "      <td>vo1dfa1ry</td>\n",
       "      <td>Alice</td>\n",
       "      <td>edtwt \\nsw - 147\\nugw - 90\\nalways open to mak...</td>\n",
       "    </tr>\n",
       "    <tr>\n",
       "      <th>4</th>\n",
       "      <td>2022-10-26T00:54:42.000Z</td>\n",
       "      <td>1476720952755077120</td>\n",
       "      <td>Twitter Web App</td>\n",
       "      <td>comment to be tagged in ALL of my THREADS \\n\\n...</td>\n",
       "      <td>0</td>\n",
       "      <td>0</td>\n",
       "      <td>0</td>\n",
       "      <td>0</td>\n",
       "      <td>2021-12-31T01:05:05.000Z</td>\n",
       "      <td>False</td>\n",
       "      <td>slxt4urmom</td>\n",
       "      <td>grey (edtwt)</td>\n",
       "      <td>🌡he/they\\n🩹taken afs\\n💌cw:121 ibs\\n⏰gw: 105 ib...</td>\n",
       "    </tr>\n",
       "  </tbody>\n",
       "</table>\n",
       "</div>"
      ],
      "text/plain": [
       "                 created_at            author_id               source  \\\n",
       "0  2022-10-26T00:56:25.000Z  1584939170799259656   Twitter for iPhone   \n",
       "1  2022-10-26T00:55:55.000Z  1525479026655170560  Twitter for Android   \n",
       "2  2022-10-26T00:55:16.000Z  1540306286109425665   Twitter for iPhone   \n",
       "3  2022-10-26T00:55:08.000Z  1584371116558221312      Twitter Web App   \n",
       "4  2022-10-26T00:54:42.000Z  1476720952755077120      Twitter Web App   \n",
       "\n",
       "                                                text  retweets  replies  \\\n",
       "0  Hii 🍡\\n✩ New to edtwt \\n✩ 5teen\\n✩ Needs edtwt...         0        0   \n",
       "1  i think one of my irls uses edtwt bcs they hav...         0        0   \n",
       "2  This or That 🍋🧋\\nAesthetic drink edition\\n\\n🏷 ...         0        0   \n",
       "3  is it just me or do you guys also have a tell-...         0        0   \n",
       "4  comment to be tagged in ALL of my THREADS \\n\\n...         0        0   \n",
       "\n",
       "   likes  quotes              user_created  verified             user  \\\n",
       "0      0       0  2022-10-25T16:05:26.000Z     False    Celineeatingd   \n",
       "1      0       0  2022-05-14T14:12:15.000Z     False  alyyprettybitch   \n",
       "2      0       0  2022-06-24T12:10:17.000Z     False        Ana_ang3l   \n",
       "3      0       0  2022-10-24T02:28:15.000Z     False        vo1dfa1ry   \n",
       "4      0       0  2021-12-31T01:05:05.000Z     False       slxt4urmom   \n",
       "\n",
       "           name                                                bio  \n",
       "0        Celine         Anorexique|| Fille française noire ||52 kg  \n",
       "1          alyy    always. til death do us part, right? @tigersspo  \n",
       "2     Angel 🖤 🩰                                      ｡⋆｡˚ ʚïɞ ˚｡⋆｡  \n",
       "3         Alice  edtwt \\nsw - 147\\nugw - 90\\nalways open to mak...  \n",
       "4  grey (edtwt)  🌡he/they\\n🩹taken afs\\n💌cw:121 ibs\\n⏰gw: 105 ib...  "
      ]
     },
     "execution_count": 37,
     "metadata": {},
     "output_type": "execute_result"
    }
   ],
   "source": [
    "full_df.head()"
   ]
  },
  {
   "cell_type": "code",
   "execution_count": 38,
   "id": "79f2efd0",
   "metadata": {},
   "outputs": [
    {
     "data": {
      "text/plain": [
       "390"
      ]
     },
     "execution_count": 38,
     "metadata": {},
     "output_type": "execute_result"
    }
   ],
   "source": [
    "len(full_df)"
   ]
  },
  {
   "cell_type": "code",
   "execution_count": 39,
   "id": "ee2b7002",
   "metadata": {},
   "outputs": [],
   "source": [
    "full_df.to_csv('fulldf.cvs', encoding='utf-8', index = False, header= True)"
   ]
  },
  {
   "cell_type": "markdown",
   "id": "1e08ae32",
   "metadata": {},
   "source": [
    "3. b) Exported the full_df to a csv file. Next made a copy of the csv file so I will be able to refer to this specifc full_df dataframe I collected at 7:13pm since running all the cells refreshes the dataframes with new data."
   ]
  },
  {
   "cell_type": "code",
   "execution_count": 40,
   "id": "8eb314da",
   "metadata": {},
   "outputs": [],
   "source": [
    "full_complete_df = pd.read_csv('fulldfSaved.cvs')"
   ]
  },
  {
   "cell_type": "code",
   "execution_count": 41,
   "id": "fcae9de4",
   "metadata": {},
   "outputs": [
    {
     "data": {
      "text/html": [
       "<div>\n",
       "<style scoped>\n",
       "    .dataframe tbody tr th:only-of-type {\n",
       "        vertical-align: middle;\n",
       "    }\n",
       "\n",
       "    .dataframe tbody tr th {\n",
       "        vertical-align: top;\n",
       "    }\n",
       "\n",
       "    .dataframe thead th {\n",
       "        text-align: right;\n",
       "    }\n",
       "</style>\n",
       "<table border=\"1\" class=\"dataframe\">\n",
       "  <thead>\n",
       "    <tr style=\"text-align: right;\">\n",
       "      <th></th>\n",
       "      <th>author_id</th>\n",
       "      <th>created_at</th>\n",
       "      <th>source</th>\n",
       "      <th>text</th>\n",
       "      <th>retweets</th>\n",
       "      <th>replies</th>\n",
       "      <th>likes</th>\n",
       "      <th>quotes</th>\n",
       "      <th>user_created</th>\n",
       "      <th>verified</th>\n",
       "      <th>user</th>\n",
       "      <th>name</th>\n",
       "      <th>bio</th>\n",
       "    </tr>\n",
       "  </thead>\n",
       "  <tbody>\n",
       "    <tr>\n",
       "      <th>0</th>\n",
       "      <td>1581508991049297920</td>\n",
       "      <td>2022-10-25T23:23:17.000Z</td>\n",
       "      <td>Twitter for iPhone</td>\n",
       "      <td>@shitassfuckkk edtwt is so cute i she is just ...</td>\n",
       "      <td>0</td>\n",
       "      <td>0</td>\n",
       "      <td>0</td>\n",
       "      <td>0</td>\n",
       "      <td>2022-10-16T04:55:10.000Z</td>\n",
       "      <td>False</td>\n",
       "      <td>mewo24517129</td>\n",
       "      <td>aubrey / shtwt edtwt</td>\n",
       "      <td>18 she/her autistic and a raging lesbian !!!NO...</td>\n",
       "    </tr>\n",
       "    <tr>\n",
       "      <th>1</th>\n",
       "      <td>1335241265223438337</td>\n",
       "      <td>2022-10-25T23:23:11.000Z</td>\n",
       "      <td>Twitter for iPad</td>\n",
       "      <td>edtwt watch disgusting mukbangs they make me w...</td>\n",
       "      <td>0</td>\n",
       "      <td>0</td>\n",
       "      <td>0</td>\n",
       "      <td>0</td>\n",
       "      <td>2020-12-05T15:15:07.000Z</td>\n",
       "      <td>False</td>\n",
       "      <td>fifidrms</td>\n",
       "      <td>🎞 fifi</td>\n",
       "      <td>#143ILOVEYOU 🍂 edtwt only , idc if ur fatphobic</td>\n",
       "    </tr>\n",
       "    <tr>\n",
       "      <th>2</th>\n",
       "      <td>1514172907672461316</td>\n",
       "      <td>2022-10-25T23:23:04.000Z</td>\n",
       "      <td>Twitter for iPhone</td>\n",
       "      <td>developing an eating disorder is the best thin...</td>\n",
       "      <td>0</td>\n",
       "      <td>0</td>\n",
       "      <td>0</td>\n",
       "      <td>0</td>\n",
       "      <td>2022-04-13T09:25:39.000Z</td>\n",
       "      <td>False</td>\n",
       "      <td>b1nion</td>\n",
       "      <td>binion</td>\n",
       "      <td>good mythical schmorning</td>\n",
       "    </tr>\n",
       "    <tr>\n",
       "      <th>3</th>\n",
       "      <td>1560220350771871744</td>\n",
       "      <td>2022-10-25T23:22:52.000Z</td>\n",
       "      <td>Twitter for iPhone</td>\n",
       "      <td>edtwt proana ricecaketwt anatwt thinspo fatspo...</td>\n",
       "      <td>0</td>\n",
       "      <td>0</td>\n",
       "      <td>0</td>\n",
       "      <td>0</td>\n",
       "      <td>2022-08-18T11:01:39.000Z</td>\n",
       "      <td>False</td>\n",
       "      <td>celimilum</td>\n",
       "      <td>celine 🐰</td>\n",
       "      <td>read carrd byf ! ♡</td>\n",
       "    </tr>\n",
       "    <tr>\n",
       "      <th>4</th>\n",
       "      <td>1564700974052163584</td>\n",
       "      <td>2022-10-25T23:22:30.000Z</td>\n",
       "      <td>Twitter for iPad</td>\n",
       "      <td>@shitassfuckkk edtwt is so cute I just wish sh...</td>\n",
       "      <td>0</td>\n",
       "      <td>0</td>\n",
       "      <td>0</td>\n",
       "      <td>0</td>\n",
       "      <td>2022-08-30T19:46:10.000Z</td>\n",
       "      <td>False</td>\n",
       "      <td>doe_eyed_babey</td>\n",
       "      <td>Brynne | relapse time | 5.6/65</td>\n",
       "      <td>lw 104 cw 179 ugw 110 I’m 5’5.5 dni fatphobes</td>\n",
       "    </tr>\n",
       "  </tbody>\n",
       "</table>\n",
       "</div>"
      ],
      "text/plain": [
       "             author_id                created_at              source  \\\n",
       "0  1581508991049297920  2022-10-25T23:23:17.000Z  Twitter for iPhone   \n",
       "1  1335241265223438337  2022-10-25T23:23:11.000Z    Twitter for iPad   \n",
       "2  1514172907672461316  2022-10-25T23:23:04.000Z  Twitter for iPhone   \n",
       "3  1560220350771871744  2022-10-25T23:22:52.000Z  Twitter for iPhone   \n",
       "4  1564700974052163584  2022-10-25T23:22:30.000Z    Twitter for iPad   \n",
       "\n",
       "                                                text  retweets  replies  \\\n",
       "0  @shitassfuckkk edtwt is so cute i she is just ...         0        0   \n",
       "1  edtwt watch disgusting mukbangs they make me w...         0        0   \n",
       "2  developing an eating disorder is the best thin...         0        0   \n",
       "3  edtwt proana ricecaketwt anatwt thinspo fatspo...         0        0   \n",
       "4  @shitassfuckkk edtwt is so cute I just wish sh...         0        0   \n",
       "\n",
       "   likes  quotes              user_created  verified            user  \\\n",
       "0      0       0  2022-10-16T04:55:10.000Z     False    mewo24517129   \n",
       "1      0       0  2020-12-05T15:15:07.000Z     False        fifidrms   \n",
       "2      0       0  2022-04-13T09:25:39.000Z     False          b1nion   \n",
       "3      0       0  2022-08-18T11:01:39.000Z     False       celimilum   \n",
       "4      0       0  2022-08-30T19:46:10.000Z     False  doe_eyed_babey   \n",
       "\n",
       "                             name  \\\n",
       "0            aubrey / shtwt edtwt   \n",
       "1                          🎞 fifi   \n",
       "2                          binion   \n",
       "3                        celine 🐰   \n",
       "4  Brynne | relapse time | 5.6/65   \n",
       "\n",
       "                                                 bio  \n",
       "0  18 she/her autistic and a raging lesbian !!!NO...  \n",
       "1    #143ILOVEYOU 🍂 edtwt only , idc if ur fatphobic  \n",
       "2                           good mythical schmorning  \n",
       "3                                 read carrd byf ! ♡  \n",
       "4      lw 104 cw 179 ugw 110 I’m 5’5.5 dni fatphobes  "
      ]
     },
     "execution_count": 41,
     "metadata": {},
     "output_type": "execute_result"
    }
   ],
   "source": [
    "full_complete_df.head()"
   ]
  },
  {
   "cell_type": "markdown",
   "id": "02f44e48",
   "metadata": {},
   "source": [
    "This is the final dataframe! Going through each column, I believe I got the most of what I can get out of just using tweets. One limitation I have by using this format to collect tweets is the lack of images. A lot of tweets refer to images like this one for example:"
   ]
  },
  {
   "cell_type": "code",
   "execution_count": 42,
   "id": "1c57a80e",
   "metadata": {},
   "outputs": [
    {
     "data": {
      "text/html": [
       "<div>\n",
       "<style scoped>\n",
       "    .dataframe tbody tr th:only-of-type {\n",
       "        vertical-align: middle;\n",
       "    }\n",
       "\n",
       "    .dataframe tbody tr th {\n",
       "        vertical-align: top;\n",
       "    }\n",
       "\n",
       "    .dataframe thead th {\n",
       "        text-align: right;\n",
       "    }\n",
       "</style>\n",
       "<table border=\"1\" class=\"dataframe\">\n",
       "  <thead>\n",
       "    <tr style=\"text-align: right;\">\n",
       "      <th></th>\n",
       "      <th>author_id</th>\n",
       "      <th>created_at</th>\n",
       "      <th>source</th>\n",
       "      <th>text</th>\n",
       "      <th>retweets</th>\n",
       "      <th>replies</th>\n",
       "      <th>likes</th>\n",
       "      <th>quotes</th>\n",
       "      <th>user_created</th>\n",
       "      <th>verified</th>\n",
       "      <th>user</th>\n",
       "      <th>name</th>\n",
       "      <th>bio</th>\n",
       "    </tr>\n",
       "  </thead>\n",
       "  <tbody>\n",
       "    <tr>\n",
       "      <th>10</th>\n",
       "      <td>1303836518570655745</td>\n",
       "      <td>2022-10-25T23:21:59.000Z</td>\n",
       "      <td>Twitter for iPhone</td>\n",
       "      <td>edtwt did anyone play ourworld 😭😭😭 tht shit th...</td>\n",
       "      <td>0</td>\n",
       "      <td>0</td>\n",
       "      <td>0</td>\n",
       "      <td>0</td>\n",
       "      <td>2020-09-09T23:23:53.000Z</td>\n",
       "      <td>False</td>\n",
       "      <td>_________don</td>\n",
       "      <td>don</td>\n",
       "      <td>don</td>\n",
       "    </tr>\n",
       "  </tbody>\n",
       "</table>\n",
       "</div>"
      ],
      "text/plain": [
       "              author_id                created_at              source  \\\n",
       "10  1303836518570655745  2022-10-25T23:21:59.000Z  Twitter for iPhone   \n",
       "\n",
       "                                                 text  retweets  replies  \\\n",
       "10  edtwt did anyone play ourworld 😭😭😭 tht shit th...         0        0   \n",
       "\n",
       "    likes  quotes              user_created  verified          user name  bio  \n",
       "10      0       0  2020-09-09T23:23:53.000Z     False  _________don  don  don  "
      ]
     },
     "execution_count": 42,
     "metadata": {},
     "output_type": "execute_result"
    }
   ],
   "source": [
    "full_complete_df.loc[full_complete_df ['created_at'] == '2022-10-25T23:21:59.000Z']"
   ]
  },
  {
   "cell_type": "markdown",
   "id": "a03b5b53",
   "metadata": {},
   "source": [
    "It's not a big deal, and I can copy the url and paste it into a new tab but it does take a lot of context away from the tweet at first glance. A simple image can drastically change the intention and meaning of a tweet"
   ]
  },
  {
   "cell_type": "markdown",
   "id": "7241baba",
   "metadata": {},
   "source": [
    "Many of the users do include a lot of information in their bios: pronouns, age, political opinions, etc. But not everyone includes the same amount of information and some have irrelevant bios or bios with no information in it at all. The bio column data is very personalized compared to the other columns."
   ]
  },
  {
   "cell_type": "markdown",
   "id": "6a1d64ee",
   "metadata": {},
   "source": [
    "During of my process of collecting Tweets, figuring out how to save the Tweets collected by the function's first results in a csv file would have been very helpful. I've pulled over 100,000 tweets by re-running the notebook. Starting a completely new file and importing the fulldfSaved.csv file would be my next step for analyzing this data. Everything before the just helped me organize the dataframe into one I can use."
   ]
  }
 ],
 "metadata": {
  "kernelspec": {
   "display_name": "Python 3 (ipykernel)",
   "language": "python",
   "name": "python3"
  },
  "language_info": {
   "codemirror_mode": {
    "name": "ipython",
    "version": 3
   },
   "file_extension": ".py",
   "mimetype": "text/x-python",
   "name": "python",
   "nbconvert_exporter": "python",
   "pygments_lexer": "ipython3",
   "version": "3.10.4"
  }
 },
 "nbformat": 4,
 "nbformat_minor": 5
}
